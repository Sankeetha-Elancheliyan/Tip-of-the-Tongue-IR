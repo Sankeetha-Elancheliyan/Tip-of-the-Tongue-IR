{
  "nbformat": 4,
  "nbformat_minor": 0,
  "metadata": {
    "colab": {
      "provenance": []
    },
    "kernelspec": {
      "name": "python3",
      "display_name": "Python 3"
    },
    "language_info": {
      "name": "python"
    }
  },
  "cells": [
    {
      "cell_type": "code",
      "source": [
        "!apt-get update\n",
        "!apt-get install -y openjdk-21-jdk"
      ],
      "metadata": {
        "colab": {
          "base_uri": "https://localhost:8080/"
        },
        "collapsed": true,
        "id": "4BGPTh0YJ-pb",
        "outputId": "015eafc1-6ac4-490f-a599-31c388821510"
      },
      "execution_count": null,
      "outputs": [
        {
          "output_type": "stream",
          "name": "stdout",
          "text": [
            "Get:1 https://developer.download.nvidia.com/compute/cuda/repos/ubuntu2204/x86_64  InRelease [1,581 B]\n",
            "Hit:2 http://archive.ubuntu.com/ubuntu jammy InRelease\n",
            "Get:3 https://cloud.r-project.org/bin/linux/ubuntu jammy-cran40/ InRelease [3,632 B]\n",
            "Get:4 http://security.ubuntu.com/ubuntu jammy-security InRelease [129 kB]\n",
            "Get:5 http://archive.ubuntu.com/ubuntu jammy-updates InRelease [128 kB]\n",
            "Get:6 https://r2u.stat.illinois.edu/ubuntu jammy InRelease [6,555 B]\n",
            "Get:7 https://developer.download.nvidia.com/compute/cuda/repos/ubuntu2204/x86_64  Packages [1,321 kB]\n",
            "Get:8 http://archive.ubuntu.com/ubuntu jammy-backports InRelease [127 kB]\n",
            "Hit:9 https://ppa.launchpadcontent.net/deadsnakes/ppa/ubuntu jammy InRelease\n",
            "Hit:10 https://ppa.launchpadcontent.net/graphics-drivers/ppa/ubuntu jammy InRelease\n",
            "Hit:11 https://ppa.launchpadcontent.net/ubuntugis/ppa/ubuntu jammy InRelease\n",
            "Get:12 https://r2u.stat.illinois.edu/ubuntu jammy/main all Packages [8,708 kB]\n",
            "Get:13 http://archive.ubuntu.com/ubuntu jammy-updates/restricted amd64 Packages [3,830 kB]\n",
            "Get:14 http://security.ubuntu.com/ubuntu jammy-security/main amd64 Packages [2,649 kB]\n",
            "Get:15 http://archive.ubuntu.com/ubuntu jammy-updates/universe amd64 Packages [1,533 kB]\n",
            "Get:16 https://r2u.stat.illinois.edu/ubuntu jammy/main amd64 Packages [2,664 kB]\n",
            "Get:17 http://archive.ubuntu.com/ubuntu jammy-updates/main amd64 Packages [2,956 kB]\n",
            "Get:18 http://security.ubuntu.com/ubuntu jammy-security/universe amd64 Packages [1,235 kB]\n",
            "Get:19 http://security.ubuntu.com/ubuntu jammy-security/restricted amd64 Packages [3,688 kB]\n",
            "Fetched 29.0 MB in 4s (7,478 kB/s)\n",
            "Reading package lists... Done\n",
            "W: Skipping acquire of configured file 'main/source/Sources' as repository 'https://r2u.stat.illinois.edu/ubuntu jammy InRelease' does not seem to provide it (sources.list entry misspelt?)\n",
            "Reading package lists... Done\n",
            "Building dependency tree... Done\n",
            "Reading state information... Done\n",
            "The following additional packages will be installed:\n",
            "  fonts-dejavu-core fonts-dejavu-extra libatk-wrapper-java libatk-wrapper-java-jni libfontenc1\n",
            "  libice-dev libsm-dev libxkbfile1 libxt-dev libxtst6 libxxf86dga1 openjdk-21-jdk-headless\n",
            "  openjdk-21-jre openjdk-21-jre-headless x11-utils\n",
            "Suggested packages:\n",
            "  libice-doc libsm-doc libxt-doc openjdk-21-demo openjdk-21-source visualvm libnss-mdns\n",
            "  fonts-ipafont-gothic fonts-ipafont-mincho fonts-wqy-microhei | fonts-wqy-zenhei fonts-indic\n",
            "  mesa-utils\n",
            "The following NEW packages will be installed:\n",
            "  fonts-dejavu-core fonts-dejavu-extra libatk-wrapper-java libatk-wrapper-java-jni libfontenc1\n",
            "  libice-dev libsm-dev libxkbfile1 libxt-dev libxtst6 libxxf86dga1 openjdk-21-jdk\n",
            "  openjdk-21-jdk-headless openjdk-21-jre openjdk-21-jre-headless x11-utils\n",
            "0 upgraded, 16 newly installed, 0 to remove and 32 not upgraded.\n",
            "Need to get 135 MB of archives.\n",
            "After this operation, 315 MB of additional disk space will be used.\n",
            "Get:1 http://archive.ubuntu.com/ubuntu jammy/main amd64 fonts-dejavu-core all 2.37-2build1 [1,041 kB]\n",
            "Get:2 http://archive.ubuntu.com/ubuntu jammy/main amd64 fonts-dejavu-extra all 2.37-2build1 [2,041 kB]\n",
            "Get:3 http://archive.ubuntu.com/ubuntu jammy/main amd64 libfontenc1 amd64 1:1.1.4-1build3 [14.7 kB]\n",
            "Get:4 http://archive.ubuntu.com/ubuntu jammy/main amd64 libxkbfile1 amd64 1:1.1.0-1build3 [71.8 kB]\n",
            "Get:5 http://archive.ubuntu.com/ubuntu jammy/main amd64 libxtst6 amd64 2:1.2.3-1build4 [13.4 kB]\n",
            "Get:6 http://archive.ubuntu.com/ubuntu jammy/main amd64 libxxf86dga1 amd64 2:1.1.5-0ubuntu3 [12.6 kB]\n",
            "Get:7 http://archive.ubuntu.com/ubuntu jammy/main amd64 x11-utils amd64 7.7+5build2 [206 kB]\n",
            "Get:8 http://archive.ubuntu.com/ubuntu jammy/main amd64 libatk-wrapper-java all 0.38.0-5build1 [53.1 kB]\n",
            "Get:9 http://archive.ubuntu.com/ubuntu jammy/main amd64 libatk-wrapper-java-jni amd64 0.38.0-5build1 [49.0 kB]\n",
            "Get:10 http://archive.ubuntu.com/ubuntu jammy/main amd64 libice-dev amd64 2:1.0.10-1build2 [51.4 kB]\n",
            "Get:11 http://archive.ubuntu.com/ubuntu jammy/main amd64 libsm-dev amd64 2:1.2.3-1build2 [18.1 kB]\n",
            "Get:12 http://archive.ubuntu.com/ubuntu jammy/main amd64 libxt-dev amd64 1:1.2.1-1 [396 kB]\n",
            "Get:13 http://archive.ubuntu.com/ubuntu jammy-updates/universe amd64 openjdk-21-jre-headless amd64 21.0.6+7-1~22.04.1 [46.8 MB]\n",
            "Get:14 http://archive.ubuntu.com/ubuntu jammy-updates/universe amd64 openjdk-21-jre amd64 21.0.6+7-1~22.04.1 [233 kB]\n",
            "Get:15 http://archive.ubuntu.com/ubuntu jammy-updates/universe amd64 openjdk-21-jdk-headless amd64 21.0.6+7-1~22.04.1 [82.6 MB]\n",
            "Get:16 http://archive.ubuntu.com/ubuntu jammy-updates/universe amd64 openjdk-21-jdk amd64 21.0.6+7-1~22.04.1 [1,649 kB]\n",
            "Fetched 135 MB in 6s (21.6 MB/s)\n",
            "Selecting previously unselected package fonts-dejavu-core.\n",
            "(Reading database ... 124947 files and directories currently installed.)\n",
            "Preparing to unpack .../00-fonts-dejavu-core_2.37-2build1_all.deb ...\n",
            "Unpacking fonts-dejavu-core (2.37-2build1) ...\n",
            "Selecting previously unselected package fonts-dejavu-extra.\n",
            "Preparing to unpack .../01-fonts-dejavu-extra_2.37-2build1_all.deb ...\n",
            "Unpacking fonts-dejavu-extra (2.37-2build1) ...\n",
            "Selecting previously unselected package libfontenc1:amd64.\n",
            "Preparing to unpack .../02-libfontenc1_1%3a1.1.4-1build3_amd64.deb ...\n",
            "Unpacking libfontenc1:amd64 (1:1.1.4-1build3) ...\n",
            "Selecting previously unselected package libxkbfile1:amd64.\n",
            "Preparing to unpack .../03-libxkbfile1_1%3a1.1.0-1build3_amd64.deb ...\n",
            "Unpacking libxkbfile1:amd64 (1:1.1.0-1build3) ...\n",
            "Selecting previously unselected package libxtst6:amd64.\n",
            "Preparing to unpack .../04-libxtst6_2%3a1.2.3-1build4_amd64.deb ...\n",
            "Unpacking libxtst6:amd64 (2:1.2.3-1build4) ...\n",
            "Selecting previously unselected package libxxf86dga1:amd64.\n",
            "Preparing to unpack .../05-libxxf86dga1_2%3a1.1.5-0ubuntu3_amd64.deb ...\n",
            "Unpacking libxxf86dga1:amd64 (2:1.1.5-0ubuntu3) ...\n",
            "Selecting previously unselected package x11-utils.\n",
            "Preparing to unpack .../06-x11-utils_7.7+5build2_amd64.deb ...\n",
            "Unpacking x11-utils (7.7+5build2) ...\n",
            "Selecting previously unselected package libatk-wrapper-java.\n",
            "Preparing to unpack .../07-libatk-wrapper-java_0.38.0-5build1_all.deb ...\n",
            "Unpacking libatk-wrapper-java (0.38.0-5build1) ...\n",
            "Selecting previously unselected package libatk-wrapper-java-jni:amd64.\n",
            "Preparing to unpack .../08-libatk-wrapper-java-jni_0.38.0-5build1_amd64.deb ...\n",
            "Unpacking libatk-wrapper-java-jni:amd64 (0.38.0-5build1) ...\n",
            "Selecting previously unselected package libice-dev:amd64.\n",
            "Preparing to unpack .../09-libice-dev_2%3a1.0.10-1build2_amd64.deb ...\n",
            "Unpacking libice-dev:amd64 (2:1.0.10-1build2) ...\n",
            "Selecting previously unselected package libsm-dev:amd64.\n",
            "Preparing to unpack .../10-libsm-dev_2%3a1.2.3-1build2_amd64.deb ...\n",
            "Unpacking libsm-dev:amd64 (2:1.2.3-1build2) ...\n",
            "Selecting previously unselected package libxt-dev:amd64.\n",
            "Preparing to unpack .../11-libxt-dev_1%3a1.2.1-1_amd64.deb ...\n",
            "Unpacking libxt-dev:amd64 (1:1.2.1-1) ...\n",
            "Selecting previously unselected package openjdk-21-jre-headless:amd64.\n",
            "Preparing to unpack .../12-openjdk-21-jre-headless_21.0.6+7-1~22.04.1_amd64.deb ...\n",
            "Unpacking openjdk-21-jre-headless:amd64 (21.0.6+7-1~22.04.1) ...\n",
            "Selecting previously unselected package openjdk-21-jre:amd64.\n",
            "Preparing to unpack .../13-openjdk-21-jre_21.0.6+7-1~22.04.1_amd64.deb ...\n",
            "Unpacking openjdk-21-jre:amd64 (21.0.6+7-1~22.04.1) ...\n",
            "Selecting previously unselected package openjdk-21-jdk-headless:amd64.\n",
            "Preparing to unpack .../14-openjdk-21-jdk-headless_21.0.6+7-1~22.04.1_amd64.deb ...\n",
            "Unpacking openjdk-21-jdk-headless:amd64 (21.0.6+7-1~22.04.1) ...\n",
            "Selecting previously unselected package openjdk-21-jdk:amd64.\n",
            "Preparing to unpack .../15-openjdk-21-jdk_21.0.6+7-1~22.04.1_amd64.deb ...\n",
            "Unpacking openjdk-21-jdk:amd64 (21.0.6+7-1~22.04.1) ...\n",
            "Setting up openjdk-21-jre-headless:amd64 (21.0.6+7-1~22.04.1) ...\n",
            "update-alternatives: using /usr/lib/jvm/java-21-openjdk-amd64/bin/java to provide /usr/bin/java (java) in auto mode\n",
            "update-alternatives: using /usr/lib/jvm/java-21-openjdk-amd64/bin/jpackage to provide /usr/bin/jpackage (jpackage) in auto mode\n",
            "update-alternatives: using /usr/lib/jvm/java-21-openjdk-amd64/bin/keytool to provide /usr/bin/keytool (keytool) in auto mode\n",
            "update-alternatives: using /usr/lib/jvm/java-21-openjdk-amd64/bin/rmiregistry to provide /usr/bin/rmiregistry (rmiregistry) in auto mode\n",
            "update-alternatives: using /usr/lib/jvm/java-21-openjdk-amd64/lib/jexec to provide /usr/bin/jexec (jexec) in auto mode\n",
            "Setting up libice-dev:amd64 (2:1.0.10-1build2) ...\n",
            "Setting up libsm-dev:amd64 (2:1.2.3-1build2) ...\n",
            "Setting up libxtst6:amd64 (2:1.2.3-1build4) ...\n",
            "Setting up libxxf86dga1:amd64 (2:1.1.5-0ubuntu3) ...\n",
            "Setting up openjdk-21-jre:amd64 (21.0.6+7-1~22.04.1) ...\n",
            "Setting up libfontenc1:amd64 (1:1.1.4-1build3) ...\n",
            "Setting up libxt-dev:amd64 (1:1.2.1-1) ...\n",
            "Setting up fonts-dejavu-core (2.37-2build1) ...\n",
            "Setting up fonts-dejavu-extra (2.37-2build1) ...\n",
            "Setting up libxkbfile1:amd64 (1:1.1.0-1build3) ...\n",
            "Setting up openjdk-21-jdk-headless:amd64 (21.0.6+7-1~22.04.1) ...\n",
            "update-alternatives: using /usr/lib/jvm/java-21-openjdk-amd64/bin/jar to provide /usr/bin/jar (jar) in auto mode\n",
            "update-alternatives: using /usr/lib/jvm/java-21-openjdk-amd64/bin/jarsigner to provide /usr/bin/jarsigner (jarsigner) in auto mode\n",
            "update-alternatives: using /usr/lib/jvm/java-21-openjdk-amd64/bin/javac to provide /usr/bin/javac (javac) in auto mode\n",
            "update-alternatives: using /usr/lib/jvm/java-21-openjdk-amd64/bin/javadoc to provide /usr/bin/javadoc (javadoc) in auto mode\n",
            "update-alternatives: using /usr/lib/jvm/java-21-openjdk-amd64/bin/javap to provide /usr/bin/javap (javap) in auto mode\n",
            "update-alternatives: using /usr/lib/jvm/java-21-openjdk-amd64/bin/jcmd to provide /usr/bin/jcmd (jcmd) in auto mode\n",
            "update-alternatives: using /usr/lib/jvm/java-21-openjdk-amd64/bin/jdb to provide /usr/bin/jdb (jdb) in auto mode\n",
            "update-alternatives: using /usr/lib/jvm/java-21-openjdk-amd64/bin/jdeprscan to provide /usr/bin/jdeprscan (jdeprscan) in auto mode\n",
            "update-alternatives: using /usr/lib/jvm/java-21-openjdk-amd64/bin/jdeps to provide /usr/bin/jdeps (jdeps) in auto mode\n",
            "update-alternatives: using /usr/lib/jvm/java-21-openjdk-amd64/bin/jfr to provide /usr/bin/jfr (jfr) in auto mode\n",
            "update-alternatives: using /usr/lib/jvm/java-21-openjdk-amd64/bin/jimage to provide /usr/bin/jimage (jimage) in auto mode\n",
            "update-alternatives: using /usr/lib/jvm/java-21-openjdk-amd64/bin/jinfo to provide /usr/bin/jinfo (jinfo) in auto mode\n",
            "update-alternatives: using /usr/lib/jvm/java-21-openjdk-amd64/bin/jlink to provide /usr/bin/jlink (jlink) in auto mode\n",
            "update-alternatives: using /usr/lib/jvm/java-21-openjdk-amd64/bin/jmap to provide /usr/bin/jmap (jmap) in auto mode\n",
            "update-alternatives: using /usr/lib/jvm/java-21-openjdk-amd64/bin/jmod to provide /usr/bin/jmod (jmod) in auto mode\n",
            "update-alternatives: using /usr/lib/jvm/java-21-openjdk-amd64/bin/jps to provide /usr/bin/jps (jps) in auto mode\n",
            "update-alternatives: using /usr/lib/jvm/java-21-openjdk-amd64/bin/jrunscript to provide /usr/bin/jrunscript (jrunscript) in auto mode\n",
            "update-alternatives: using /usr/lib/jvm/java-21-openjdk-amd64/bin/jshell to provide /usr/bin/jshell (jshell) in auto mode\n",
            "update-alternatives: using /usr/lib/jvm/java-21-openjdk-amd64/bin/jstack to provide /usr/bin/jstack (jstack) in auto mode\n",
            "update-alternatives: using /usr/lib/jvm/java-21-openjdk-amd64/bin/jstat to provide /usr/bin/jstat (jstat) in auto mode\n",
            "update-alternatives: using /usr/lib/jvm/java-21-openjdk-amd64/bin/jstatd to provide /usr/bin/jstatd (jstatd) in auto mode\n",
            "update-alternatives: using /usr/lib/jvm/java-21-openjdk-amd64/bin/jwebserver to provide /usr/bin/jwebserver (jwebserver) in auto mode\n",
            "update-alternatives: using /usr/lib/jvm/java-21-openjdk-amd64/bin/serialver to provide /usr/bin/serialver (serialver) in auto mode\n",
            "update-alternatives: using /usr/lib/jvm/java-21-openjdk-amd64/bin/jhsdb to provide /usr/bin/jhsdb (jhsdb) in auto mode\n",
            "Setting up openjdk-21-jdk:amd64 (21.0.6+7-1~22.04.1) ...\n",
            "update-alternatives: using /usr/lib/jvm/java-21-openjdk-amd64/bin/jconsole to provide /usr/bin/jconsole (jconsole) in auto mode\n",
            "Setting up x11-utils (7.7+5build2) ...\n",
            "Setting up libatk-wrapper-java (0.38.0-5build1) ...\n",
            "Setting up libatk-wrapper-java-jni:amd64 (0.38.0-5build1) ...\n",
            "Processing triggers for fontconfig (2.13.1-4.2ubuntu5) ...\n",
            "Processing triggers for hicolor-icon-theme (0.17-2) ...\n",
            "Processing triggers for libc-bin (2.35-0ubuntu3.8) ...\n",
            "/sbin/ldconfig.real: /usr/local/lib/libtbbmalloc_proxy.so.2 is not a symbolic link\n",
            "\n",
            "/sbin/ldconfig.real: /usr/local/lib/libtbbbind.so.3 is not a symbolic link\n",
            "\n",
            "/sbin/ldconfig.real: /usr/local/lib/libur_adapter_level_zero.so.0 is not a symbolic link\n",
            "\n",
            "/sbin/ldconfig.real: /usr/local/lib/libtbbbind_2_5.so.3 is not a symbolic link\n",
            "\n",
            "/sbin/ldconfig.real: /usr/local/lib/libtbbmalloc.so.2 is not a symbolic link\n",
            "\n",
            "/sbin/ldconfig.real: /usr/local/lib/libur_loader.so.0 is not a symbolic link\n",
            "\n",
            "/sbin/ldconfig.real: /usr/local/lib/libumf.so.0 is not a symbolic link\n",
            "\n",
            "/sbin/ldconfig.real: /usr/local/lib/libtbbbind_2_0.so.3 is not a symbolic link\n",
            "\n",
            "/sbin/ldconfig.real: /usr/local/lib/libhwloc.so.15 is not a symbolic link\n",
            "\n",
            "/sbin/ldconfig.real: /usr/local/lib/libtcm_debug.so.1 is not a symbolic link\n",
            "\n",
            "/sbin/ldconfig.real: /usr/local/lib/libur_adapter_opencl.so.0 is not a symbolic link\n",
            "\n",
            "/sbin/ldconfig.real: /usr/local/lib/libtbb.so.12 is not a symbolic link\n",
            "\n",
            "/sbin/ldconfig.real: /usr/local/lib/libtcm.so.1 is not a symbolic link\n",
            "\n",
            "Processing triggers for man-db (2.10.2-1) ...\n",
            "Processing triggers for mailcap (3.70+nmu1ubuntu1) ...\n"
          ]
        }
      ]
    },
    {
      "cell_type": "code",
      "source": [
        "import os\n",
        "os.environ[\"JAVA_HOME\"] = \"/usr/lib/jvm/java-21-openjdk-amd64\"\n",
        "os.environ[\"PATH\"] += os.pathsep + os.environ[\"JAVA_HOME\"] + \"/bin\""
      ],
      "metadata": {
        "id": "CvKe6SW-KDk0"
      },
      "execution_count": null,
      "outputs": []
    },
    {
      "cell_type": "code",
      "execution_count": null,
      "metadata": {
        "colab": {
          "base_uri": "https://localhost:8080/"
        },
        "id": "FRlnGervnf3e",
        "outputId": "dad4fea0-60c1-4aef-f278-275c5c605bc6"
      },
      "outputs": [
        {
          "output_type": "stream",
          "name": "stdout",
          "text": [
            "Cloning into 'bench'...\n",
            "remote: Enumerating objects: 125, done.\u001b[K\n",
            "remote: Counting objects: 100% (20/20), done.\u001b[K\n",
            "remote: Compressing objects: 100% (19/19), done.\u001b[K\n",
            "remote: Total 125 (delta 1), reused 1 (delta 1), pack-reused 105 (from 2)\u001b[K\n",
            "Receiving objects: 100% (125/125), 44.22 MiB | 18.11 MiB/s, done.\n",
            "Resolving deltas: 100% (39/39), done.\n",
            "Updating files: 100% (31/31), done.\n"
          ]
        }
      ],
      "source": [
        "!git clone https://github.com/TREC-ToT/bench.git"
      ]
    },
    {
      "cell_type": "code",
      "source": [
        "%cd bench"
      ],
      "metadata": {
        "colab": {
          "base_uri": "https://localhost:8080/"
        },
        "id": "pfNCykTYnqgJ",
        "outputId": "b9843d98-c73c-4d8b-88bf-d628a5a434b9"
      },
      "execution_count": null,
      "outputs": [
        {
          "output_type": "stream",
          "name": "stdout",
          "text": [
            "/content/bench\n"
          ]
        }
      ]
    },
    {
      "cell_type": "code",
      "source": [
        "# !apt-get remove -y openjdk*\n"
      ],
      "metadata": {
        "colab": {
          "base_uri": "https://localhost:8080/"
        },
        "collapsed": true,
        "id": "oSq6LLUaJ6-l",
        "outputId": "22cb7e6c-b657-4ebe-9142-48ad46852fb3"
      },
      "execution_count": null,
      "outputs": [
        {
          "output_type": "stream",
          "name": "stdout",
          "text": [
            "Reading package lists... Done\n",
            "Building dependency tree... Done\n",
            "Reading state information... Done\n",
            "Note, selecting 'openjdk-11-jdk' for glob 'openjdk*'\n",
            "Note, selecting 'openjdk-11-jre' for glob 'openjdk*'\n",
            "Note, selecting 'openjdk-11-jre-headless' for glob 'openjdk*'\n",
            "Note, selecting 'openjdk-19-jre-headless' for glob 'openjdk*'\n",
            "Note, selecting 'openjdk-8-jre-zero' for glob 'openjdk*'\n",
            "Note, selecting 'openjdk-11-jdk-headless' for glob 'openjdk*'\n",
            "Note, selecting 'openjdk-21-jdk-headless' for glob 'openjdk*'\n",
            "Note, selecting 'openjdk-19-jdk-headless' for glob 'openjdk*'\n",
            "Note, selecting 'openjdk-21-demo' for glob 'openjdk*'\n",
            "Note, selecting 'openjdk-18-jdk-headless' for glob 'openjdk*'\n",
            "Note, selecting 'openjdk-17-dbg' for glob 'openjdk*'\n",
            "Note, selecting 'openjdk-17-doc' for glob 'openjdk*'\n",
            "Note, selecting 'openjdk-18-dbg' for glob 'openjdk*'\n",
            "Note, selecting 'openjdk-17-jdk' for glob 'openjdk*'\n",
            "Note, selecting 'openjdk-18-doc' for glob 'openjdk*'\n",
            "Note, selecting 'openjdk-17-jre' for glob 'openjdk*'\n",
            "Note, selecting 'openjdk-17-jdk-headless' for glob 'openjdk*'\n",
            "Note, selecting 'openjdk-19-dbg' for glob 'openjdk*'\n",
            "Note, selecting 'openjdk-18-jdk' for glob 'openjdk*'\n",
            "Note, selecting 'openjdk-19-doc' for glob 'openjdk*'\n",
            "Note, selecting 'openjdk-18-jre' for glob 'openjdk*'\n",
            "Note, selecting 'openjdk-21-dbg' for glob 'openjdk*'\n",
            "Note, selecting 'openjdk-21-doc' for glob 'openjdk*'\n",
            "Note, selecting 'openjdk-19-jdk' for glob 'openjdk*'\n",
            "Note, selecting 'openjdk-19-jre' for glob 'openjdk*'\n",
            "Note, selecting 'openjdk-21-jdk' for glob 'openjdk*'\n",
            "Note, selecting 'openjdk-21-jre' for glob 'openjdk*'\n",
            "Note, selecting 'openjdk-19-source' for glob 'openjdk*'\n",
            "Note, selecting 'openjdk-11-demo' for glob 'openjdk*'\n",
            "Note, selecting 'openjdk-6-jre' for glob 'openjdk*'\n",
            "Note, selecting 'openjdk-8-dbg' for glob 'openjdk*'\n",
            "Note, selecting 'openjdk-8-doc' for glob 'openjdk*'\n",
            "Note, selecting 'openjdk-7-jre' for glob 'openjdk*'\n",
            "Note, selecting 'openjdk-21-testsupport' for glob 'openjdk*'\n",
            "Note, selecting 'openjdk-8-jdk' for glob 'openjdk*'\n",
            "Note, selecting 'openjdk-8-jre' for glob 'openjdk*'\n",
            "Note, selecting 'openjdk-9-jre' for glob 'openjdk*'\n",
            "Note, selecting 'openjdk-8-demo' for glob 'openjdk*'\n",
            "Note, selecting 'openjdk-8-jre-headless' for glob 'openjdk*'\n",
            "Note, selecting 'openjdk-8-source' for glob 'openjdk*'\n",
            "Note, selecting 'openjdk-19-jre-zero' for glob 'openjdk*'\n",
            "Note, selecting 'openjdk-17-source' for glob 'openjdk*'\n",
            "Note, selecting 'openjdk-17-demo' for glob 'openjdk*'\n",
            "Note, selecting 'openjdk-6-jre-headless' for glob 'openjdk*'\n",
            "Note, selecting 'openjdk-18-demo' for glob 'openjdk*'\n",
            "Note, selecting 'openjdk-11-source' for glob 'openjdk*'\n",
            "Note, selecting 'openjdk-19-demo' for glob 'openjdk*'\n",
            "Note, selecting 'openjdk-18-jre-zero' for glob 'openjdk*'\n",
            "Note, selecting 'openjdk-jre' for glob 'openjdk*'\n",
            "Note, selecting 'openjdk-11-jre-zero' for glob 'openjdk*'\n",
            "Note, selecting 'openjdk-21-jre-headless' for glob 'openjdk*'\n",
            "Note, selecting 'openjdk-8-jdk-headless' for glob 'openjdk*'\n",
            "Note, selecting 'openjdk-21-source' for glob 'openjdk*'\n",
            "Note, selecting 'openjdk-14-jre-headless' for glob 'openjdk*'\n",
            "Note, selecting 'openjdk-18-jre-headless' for glob 'openjdk*'\n",
            "Note, selecting 'openjdk-17-jre-zero' for glob 'openjdk*'\n",
            "Note, selecting 'openjdk-13-jre-headless' for glob 'openjdk*'\n",
            "Note, selecting 'openjdk-17-jre-headless' for glob 'openjdk*'\n",
            "Note, selecting 'openjdk-18-source' for glob 'openjdk*'\n",
            "Note, selecting 'openjdk-11-dbg' for glob 'openjdk*'\n",
            "Note, selecting 'openjdk-11-doc' for glob 'openjdk*'\n",
            "Note, selecting 'openjdk-11-jre-dcevm' for glob 'openjdk*'\n",
            "Note, selecting 'openjdk-21-jre-zero' for glob 'openjdk*'\n",
            "Note, selecting 'openjdk-12-jre-headless' for glob 'openjdk*'\n",
            "Package 'openjdk-6-jre-headless' is not installed, so not removed\n",
            "Package 'openjdk-14-jre-headless' is not installed, so not removed\n",
            "Package 'openjdk-13-jre-headless' is not installed, so not removed\n",
            "Package 'openjdk-12-jre-headless' is not installed, so not removed\n",
            "Package 'openjdk-6-jre' is not installed, so not removed\n",
            "Package 'openjdk-7-jre' is not installed, so not removed\n",
            "Package 'openjdk-9-jre' is not installed, so not removed\n",
            "Package 'openjdk-jre' is not installed, so not removed\n",
            "Package 'openjdk-11-jre-dcevm' is not installed, so not removed\n",
            "Package 'openjdk-11-dbg' is not installed, so not removed\n",
            "Package 'openjdk-11-doc' is not installed, so not removed\n",
            "Package 'openjdk-11-jdk' is not installed, so not removed\n",
            "Package 'openjdk-11-jdk-headless' is not installed, so not removed\n",
            "Package 'openjdk-11-jre' is not installed, so not removed\n",
            "Package 'openjdk-11-jre-headless' is not installed, so not removed\n",
            "Package 'openjdk-11-source' is not installed, so not removed\n",
            "Package 'openjdk-11-demo' is not installed, so not removed\n",
            "Package 'openjdk-11-jre-zero' is not installed, so not removed\n",
            "Package 'openjdk-17-dbg' is not installed, so not removed\n",
            "Package 'openjdk-17-demo' is not installed, so not removed\n",
            "Package 'openjdk-17-doc' is not installed, so not removed\n",
            "Package 'openjdk-17-jre-zero' is not installed, so not removed\n",
            "Package 'openjdk-17-source' is not installed, so not removed\n",
            "Package 'openjdk-18-dbg' is not installed, so not removed\n",
            "Package 'openjdk-18-demo' is not installed, so not removed\n",
            "Package 'openjdk-18-doc' is not installed, so not removed\n",
            "Package 'openjdk-18-jdk' is not installed, so not removed\n",
            "Package 'openjdk-18-jdk-headless' is not installed, so not removed\n",
            "Package 'openjdk-18-jre' is not installed, so not removed\n",
            "Package 'openjdk-18-jre-headless' is not installed, so not removed\n",
            "Package 'openjdk-18-jre-zero' is not installed, so not removed\n",
            "Package 'openjdk-18-source' is not installed, so not removed\n",
            "Package 'openjdk-19-dbg' is not installed, so not removed\n",
            "Package 'openjdk-19-demo' is not installed, so not removed\n",
            "Package 'openjdk-19-doc' is not installed, so not removed\n",
            "Package 'openjdk-19-jdk' is not installed, so not removed\n",
            "Package 'openjdk-19-jdk-headless' is not installed, so not removed\n",
            "Package 'openjdk-19-jre' is not installed, so not removed\n",
            "Package 'openjdk-19-jre-headless' is not installed, so not removed\n",
            "Package 'openjdk-19-jre-zero' is not installed, so not removed\n",
            "Package 'openjdk-19-source' is not installed, so not removed\n",
            "Package 'openjdk-21-dbg' is not installed, so not removed\n",
            "Package 'openjdk-21-demo' is not installed, so not removed\n",
            "Package 'openjdk-21-doc' is not installed, so not removed\n",
            "Package 'openjdk-21-jdk' is not installed, so not removed\n",
            "Package 'openjdk-21-jdk-headless' is not installed, so not removed\n",
            "Package 'openjdk-21-jre' is not installed, so not removed\n",
            "Package 'openjdk-21-jre-headless' is not installed, so not removed\n",
            "Package 'openjdk-21-jre-zero' is not installed, so not removed\n",
            "Package 'openjdk-21-source' is not installed, so not removed\n",
            "Package 'openjdk-21-testsupport' is not installed, so not removed\n",
            "Package 'openjdk-8-dbg' is not installed, so not removed\n",
            "Package 'openjdk-8-demo' is not installed, so not removed\n",
            "Package 'openjdk-8-doc' is not installed, so not removed\n",
            "Package 'openjdk-8-jdk' is not installed, so not removed\n",
            "Package 'openjdk-8-jdk-headless' is not installed, so not removed\n",
            "Package 'openjdk-8-jre' is not installed, so not removed\n",
            "Package 'openjdk-8-jre-headless' is not installed, so not removed\n",
            "Package 'openjdk-8-jre-zero' is not installed, so not removed\n",
            "Package 'openjdk-8-source' is not installed, so not removed\n",
            "The following packages were automatically installed and are no longer required:\n",
            "  fonts-dejavu-extra java-common libatk-wrapper-java libatk-wrapper-java-jni libice-dev\n",
            "  libpcsclite1 libsm-dev libxt-dev\n",
            "Use 'apt autoremove' to remove them.\n",
            "The following packages will be REMOVED:\n",
            "  ca-certificates-java openjdk-17-jdk openjdk-17-jdk-headless openjdk-17-jre\n",
            "  openjdk-17-jre-headless\n",
            "0 upgraded, 0 newly installed, 5 to remove and 10 not upgraded.\n",
            "After this operation, 274 MB disk space will be freed.\n",
            "(Reading database ... 121274 files and directories currently installed.)\n",
            "Removing openjdk-17-jdk:amd64 (17.0.14+7-1~22.04.1) ...\n",
            "Removing openjdk-17-jre:amd64 (17.0.14+7-1~22.04.1) ...\n",
            "Removing openjdk-17-jdk-headless:amd64 (17.0.14+7-1~22.04.1) ...\n",
            "Removing openjdk-17-jre-headless:amd64 (17.0.14+7-1~22.04.1) ...\n",
            "Removing ca-certificates-java (20190909ubuntu1.2) ...\n",
            "Processing triggers for ca-certificates (20240203~22.04.1) ...\n",
            "Updating certificates in /etc/ssl/certs...\n",
            "0 added, 0 removed; done.\n",
            "Running hooks in /etc/ca-certificates/update.d...\n",
            "\n",
            "updates of cacerts keystore disabled.\n",
            "done.\n",
            "Processing triggers for mailcap (3.70+nmu1ubuntu1) ...\n",
            "Processing triggers for hicolor-icon-theme (0.17-2) ...\n"
          ]
        }
      ]
    },
    {
      "cell_type": "code",
      "source": [
        "from google.colab import drive\n",
        "drive.mount('/content/drive')"
      ],
      "metadata": {
        "colab": {
          "base_uri": "https://localhost:8080/"
        },
        "id": "s-j_ooxzoDFC",
        "outputId": "acced114-67a7-481e-c310-b961a0326e52"
      },
      "execution_count": null,
      "outputs": [
        {
          "output_type": "stream",
          "name": "stdout",
          "text": [
            "Mounted at /content/drive\n"
          ]
        }
      ]
    },
    {
      "cell_type": "code",
      "source": [
        "DATA_PATH = '/content/drive/MyDrive/FYP/DATA_PATH'"
      ],
      "metadata": {
        "id": "Rw3lwCtA7Amv"
      },
      "execution_count": null,
      "outputs": []
    },
    {
      "cell_type": "code",
      "source": [
        "# !unzip -q \"/content/drive/My Drive/FYP/DATA_PATH/corpus.zip\" -d \"/content/drive/My Drive/FYP/DATA_PATH\"\n"
      ],
      "metadata": {
        "id": "_UW8ct98BWat"
      },
      "execution_count": null,
      "outputs": []
    },
    {
      "cell_type": "code",
      "source": [
        "# If your data is compressed, unzip it\n",
        "!unzip -q \"$DATA_PATH/corpus.zip\" -d \"$DATA_PATH\""
      ],
      "metadata": {
        "colab": {
          "base_uri": "https://localhost:8080/"
        },
        "id": "XmcE4KSRAnwh",
        "outputId": "0938dd50-34fa-4d9d-ad7f-2adea38a8f88"
      },
      "execution_count": null,
      "outputs": [
        {
          "output_type": "stream",
          "name": "stdout",
          "text": [
            "unzip:  cannot find or open /content/drive/MyDrive/FYP/DATA_PATH/corpus.zip, /content/drive/MyDrive/FYP/DATA_PATH/corpus.zip.zip or /content/drive/MyDrive/FYP/DATA_PATH/corpus.zip.ZIP.\n"
          ]
        }
      ]
    },
    {
      "cell_type": "code",
      "source": [
        "!pip install --ignore-installed blinker\n",
        "\n",
        "!pip install pyserini\n"
      ],
      "metadata": {
        "colab": {
          "base_uri": "https://localhost:8080/"
        },
        "collapsed": true,
        "id": "OB9pIXVVG9Tu",
        "outputId": "2f7957f7-fd39-45ab-8363-ab17957d6c6f"
      },
      "execution_count": null,
      "outputs": [
        {
          "output_type": "stream",
          "name": "stdout",
          "text": [
            "Collecting blinker\n",
            "  Downloading blinker-1.9.0-py3-none-any.whl.metadata (1.6 kB)\n",
            "Downloading blinker-1.9.0-py3-none-any.whl (8.5 kB)\n",
            "Installing collected packages: blinker\n",
            "Successfully installed blinker-1.9.0\n",
            "Collecting pyserini\n",
            "  Downloading pyserini-0.44.0.tar.gz (195.3 MB)\n",
            "\u001b[2K     \u001b[90m━━━━━━━━━━━━━━━━━━━━━━━━━━━━━━━━━━━━━━━━\u001b[0m \u001b[32m195.3/195.3 MB\u001b[0m \u001b[31m6.5 MB/s\u001b[0m eta \u001b[36m0:00:00\u001b[0m\n",
            "\u001b[?25h  Installing build dependencies ... \u001b[?25l\u001b[?25hdone\n",
            "  Getting requirements to build wheel ... \u001b[?25l\u001b[?25hdone\n",
            "  Preparing metadata (pyproject.toml) ... \u001b[?25l\u001b[?25hdone\n",
            "Requirement already satisfied: tqdm in /usr/local/lib/python3.11/dist-packages (from pyserini) (4.67.1)\n",
            "Requirement already satisfied: pyyaml in /usr/local/lib/python3.11/dist-packages (from pyserini) (6.0.2)\n",
            "Requirement already satisfied: requests in /usr/local/lib/python3.11/dist-packages (from pyserini) (2.32.3)\n",
            "Requirement already satisfied: Cython>=0.29.21 in /usr/local/lib/python3.11/dist-packages (from pyserini) (3.0.12)\n",
            "Requirement already satisfied: numpy>=1.18.1 in /usr/local/lib/python3.11/dist-packages (from pyserini) (1.26.4)\n",
            "Requirement already satisfied: pandas>=1.4.0 in /usr/local/lib/python3.11/dist-packages (from pyserini) (2.2.2)\n",
            "Collecting pyjnius>=1.6.0 (from pyserini)\n",
            "  Downloading pyjnius-1.6.1-cp311-cp311-manylinux_2_17_x86_64.manylinux2014_x86_64.whl.metadata (10 kB)\n",
            "Requirement already satisfied: scikit-learn>=0.22.1 in /usr/local/lib/python3.11/dist-packages (from pyserini) (1.6.1)\n",
            "Requirement already satisfied: scipy>=1.4.1 in /usr/local/lib/python3.11/dist-packages (from pyserini) (1.13.1)\n",
            "Requirement already satisfied: transformers>=4.6.0 in /usr/local/lib/python3.11/dist-packages (from pyserini) (4.48.3)\n",
            "Requirement already satisfied: torch>=2.4.0 in /usr/local/lib/python3.11/dist-packages (from pyserini) (2.5.1+cu124)\n",
            "Collecting onnxruntime>=1.8.1 (from pyserini)\n",
            "  Downloading onnxruntime-1.20.1-cp311-cp311-manylinux_2_27_x86_64.manylinux_2_28_x86_64.whl.metadata (4.5 kB)\n",
            "Requirement already satisfied: openai>=1.0.0 in /usr/local/lib/python3.11/dist-packages (from pyserini) (1.61.1)\n",
            "Requirement already satisfied: sentencepiece>=0.2 in /usr/local/lib/python3.11/dist-packages (from pyserini) (0.2.0)\n",
            "Collecting tiktoken>=0.4.0 (from pyserini)\n",
            "  Downloading tiktoken-0.9.0-cp311-cp311-manylinux_2_17_x86_64.manylinux2014_x86_64.whl.metadata (6.7 kB)\n",
            "Requirement already satisfied: flask>3.0 in /usr/local/lib/python3.11/dist-packages (from pyserini) (3.1.0)\n",
            "Requirement already satisfied: pillow>=10.2.0 in /usr/local/lib/python3.11/dist-packages (from pyserini) (11.1.0)\n",
            "Requirement already satisfied: Werkzeug>=3.1 in /usr/local/lib/python3.11/dist-packages (from flask>3.0->pyserini) (3.1.3)\n",
            "Requirement already satisfied: Jinja2>=3.1.2 in /usr/local/lib/python3.11/dist-packages (from flask>3.0->pyserini) (3.1.5)\n",
            "Requirement already satisfied: itsdangerous>=2.2 in /usr/local/lib/python3.11/dist-packages (from flask>3.0->pyserini) (2.2.0)\n",
            "Requirement already satisfied: click>=8.1.3 in /usr/local/lib/python3.11/dist-packages (from flask>3.0->pyserini) (8.1.8)\n",
            "Requirement already satisfied: blinker>=1.9 in /usr/local/lib/python3.11/dist-packages (from flask>3.0->pyserini) (1.9.0)\n",
            "Collecting coloredlogs (from onnxruntime>=1.8.1->pyserini)\n",
            "  Downloading coloredlogs-15.0.1-py2.py3-none-any.whl.metadata (12 kB)\n",
            "Requirement already satisfied: flatbuffers in /usr/local/lib/python3.11/dist-packages (from onnxruntime>=1.8.1->pyserini) (25.2.10)\n",
            "Requirement already satisfied: packaging in /usr/local/lib/python3.11/dist-packages (from onnxruntime>=1.8.1->pyserini) (24.2)\n",
            "Requirement already satisfied: protobuf in /usr/local/lib/python3.11/dist-packages (from onnxruntime>=1.8.1->pyserini) (4.25.6)\n",
            "Requirement already satisfied: sympy in /usr/local/lib/python3.11/dist-packages (from onnxruntime>=1.8.1->pyserini) (1.13.1)\n",
            "Requirement already satisfied: anyio<5,>=3.5.0 in /usr/local/lib/python3.11/dist-packages (from openai>=1.0.0->pyserini) (3.7.1)\n",
            "Requirement already satisfied: distro<2,>=1.7.0 in /usr/local/lib/python3.11/dist-packages (from openai>=1.0.0->pyserini) (1.9.0)\n",
            "Requirement already satisfied: httpx<1,>=0.23.0 in /usr/local/lib/python3.11/dist-packages (from openai>=1.0.0->pyserini) (0.28.1)\n",
            "Requirement already satisfied: jiter<1,>=0.4.0 in /usr/local/lib/python3.11/dist-packages (from openai>=1.0.0->pyserini) (0.8.2)\n",
            "Requirement already satisfied: pydantic<3,>=1.9.0 in /usr/local/lib/python3.11/dist-packages (from openai>=1.0.0->pyserini) (2.10.6)\n",
            "Requirement already satisfied: sniffio in /usr/local/lib/python3.11/dist-packages (from openai>=1.0.0->pyserini) (1.3.1)\n",
            "Requirement already satisfied: typing-extensions<5,>=4.11 in /usr/local/lib/python3.11/dist-packages (from openai>=1.0.0->pyserini) (4.12.2)\n",
            "Requirement already satisfied: python-dateutil>=2.8.2 in /usr/local/lib/python3.11/dist-packages (from pandas>=1.4.0->pyserini) (2.8.2)\n",
            "Requirement already satisfied: pytz>=2020.1 in /usr/local/lib/python3.11/dist-packages (from pandas>=1.4.0->pyserini) (2025.1)\n",
            "Requirement already satisfied: tzdata>=2022.7 in /usr/local/lib/python3.11/dist-packages (from pandas>=1.4.0->pyserini) (2025.1)\n",
            "Requirement already satisfied: joblib>=1.2.0 in /usr/local/lib/python3.11/dist-packages (from scikit-learn>=0.22.1->pyserini) (1.4.2)\n",
            "Requirement already satisfied: threadpoolctl>=3.1.0 in /usr/local/lib/python3.11/dist-packages (from scikit-learn>=0.22.1->pyserini) (3.5.0)\n",
            "Requirement already satisfied: regex>=2022.1.18 in /usr/local/lib/python3.11/dist-packages (from tiktoken>=0.4.0->pyserini) (2024.11.6)\n",
            "Requirement already satisfied: charset-normalizer<4,>=2 in /usr/local/lib/python3.11/dist-packages (from requests->pyserini) (3.4.1)\n",
            "Requirement already satisfied: idna<4,>=2.5 in /usr/local/lib/python3.11/dist-packages (from requests->pyserini) (3.10)\n",
            "Requirement already satisfied: urllib3<3,>=1.21.1 in /usr/local/lib/python3.11/dist-packages (from requests->pyserini) (2.3.0)\n",
            "Requirement already satisfied: certifi>=2017.4.17 in /usr/local/lib/python3.11/dist-packages (from requests->pyserini) (2025.1.31)\n",
            "Requirement already satisfied: filelock in /usr/local/lib/python3.11/dist-packages (from torch>=2.4.0->pyserini) (3.17.0)\n",
            "Requirement already satisfied: networkx in /usr/local/lib/python3.11/dist-packages (from torch>=2.4.0->pyserini) (3.4.2)\n",
            "Requirement already satisfied: fsspec in /usr/local/lib/python3.11/dist-packages (from torch>=2.4.0->pyserini) (2024.10.0)\n",
            "Collecting nvidia-cuda-nvrtc-cu12==12.4.127 (from torch>=2.4.0->pyserini)\n",
            "  Downloading nvidia_cuda_nvrtc_cu12-12.4.127-py3-none-manylinux2014_x86_64.whl.metadata (1.5 kB)\n",
            "Collecting nvidia-cuda-runtime-cu12==12.4.127 (from torch>=2.4.0->pyserini)\n",
            "  Downloading nvidia_cuda_runtime_cu12-12.4.127-py3-none-manylinux2014_x86_64.whl.metadata (1.5 kB)\n",
            "Collecting nvidia-cuda-cupti-cu12==12.4.127 (from torch>=2.4.0->pyserini)\n",
            "  Downloading nvidia_cuda_cupti_cu12-12.4.127-py3-none-manylinux2014_x86_64.whl.metadata (1.6 kB)\n",
            "Collecting nvidia-cudnn-cu12==9.1.0.70 (from torch>=2.4.0->pyserini)\n",
            "  Downloading nvidia_cudnn_cu12-9.1.0.70-py3-none-manylinux2014_x86_64.whl.metadata (1.6 kB)\n",
            "Collecting nvidia-cublas-cu12==12.4.5.8 (from torch>=2.4.0->pyserini)\n",
            "  Downloading nvidia_cublas_cu12-12.4.5.8-py3-none-manylinux2014_x86_64.whl.metadata (1.5 kB)\n",
            "Collecting nvidia-cufft-cu12==11.2.1.3 (from torch>=2.4.0->pyserini)\n",
            "  Downloading nvidia_cufft_cu12-11.2.1.3-py3-none-manylinux2014_x86_64.whl.metadata (1.5 kB)\n",
            "Collecting nvidia-curand-cu12==10.3.5.147 (from torch>=2.4.0->pyserini)\n",
            "  Downloading nvidia_curand_cu12-10.3.5.147-py3-none-manylinux2014_x86_64.whl.metadata (1.5 kB)\n",
            "Collecting nvidia-cusolver-cu12==11.6.1.9 (from torch>=2.4.0->pyserini)\n",
            "  Downloading nvidia_cusolver_cu12-11.6.1.9-py3-none-manylinux2014_x86_64.whl.metadata (1.6 kB)\n",
            "Collecting nvidia-cusparse-cu12==12.3.1.170 (from torch>=2.4.0->pyserini)\n",
            "  Downloading nvidia_cusparse_cu12-12.3.1.170-py3-none-manylinux2014_x86_64.whl.metadata (1.6 kB)\n",
            "Requirement already satisfied: nvidia-nccl-cu12==2.21.5 in /usr/local/lib/python3.11/dist-packages (from torch>=2.4.0->pyserini) (2.21.5)\n",
            "Requirement already satisfied: nvidia-nvtx-cu12==12.4.127 in /usr/local/lib/python3.11/dist-packages (from torch>=2.4.0->pyserini) (12.4.127)\n",
            "Collecting nvidia-nvjitlink-cu12==12.4.127 (from torch>=2.4.0->pyserini)\n",
            "  Downloading nvidia_nvjitlink_cu12-12.4.127-py3-none-manylinux2014_x86_64.whl.metadata (1.5 kB)\n",
            "Requirement already satisfied: triton==3.1.0 in /usr/local/lib/python3.11/dist-packages (from torch>=2.4.0->pyserini) (3.1.0)\n",
            "Requirement already satisfied: mpmath<1.4,>=1.1.0 in /usr/local/lib/python3.11/dist-packages (from sympy->onnxruntime>=1.8.1->pyserini) (1.3.0)\n",
            "Requirement already satisfied: huggingface-hub<1.0,>=0.24.0 in /usr/local/lib/python3.11/dist-packages (from transformers>=4.6.0->pyserini) (0.28.1)\n",
            "Requirement already satisfied: tokenizers<0.22,>=0.21 in /usr/local/lib/python3.11/dist-packages (from transformers>=4.6.0->pyserini) (0.21.0)\n",
            "Requirement already satisfied: safetensors>=0.4.1 in /usr/local/lib/python3.11/dist-packages (from transformers>=4.6.0->pyserini) (0.5.3)\n",
            "Requirement already satisfied: httpcore==1.* in /usr/local/lib/python3.11/dist-packages (from httpx<1,>=0.23.0->openai>=1.0.0->pyserini) (1.0.7)\n",
            "Requirement already satisfied: h11<0.15,>=0.13 in /usr/local/lib/python3.11/dist-packages (from httpcore==1.*->httpx<1,>=0.23.0->openai>=1.0.0->pyserini) (0.14.0)\n",
            "Requirement already satisfied: MarkupSafe>=2.0 in /usr/local/lib/python3.11/dist-packages (from Jinja2>=3.1.2->flask>3.0->pyserini) (3.0.2)\n",
            "Requirement already satisfied: annotated-types>=0.6.0 in /usr/local/lib/python3.11/dist-packages (from pydantic<3,>=1.9.0->openai>=1.0.0->pyserini) (0.7.0)\n",
            "Requirement already satisfied: pydantic-core==2.27.2 in /usr/local/lib/python3.11/dist-packages (from pydantic<3,>=1.9.0->openai>=1.0.0->pyserini) (2.27.2)\n",
            "Requirement already satisfied: six>=1.5 in /usr/local/lib/python3.11/dist-packages (from python-dateutil>=2.8.2->pandas>=1.4.0->pyserini) (1.17.0)\n",
            "Collecting humanfriendly>=9.1 (from coloredlogs->onnxruntime>=1.8.1->pyserini)\n",
            "  Downloading humanfriendly-10.0-py2.py3-none-any.whl.metadata (9.2 kB)\n",
            "Downloading onnxruntime-1.20.1-cp311-cp311-manylinux_2_27_x86_64.manylinux_2_28_x86_64.whl (13.3 MB)\n",
            "\u001b[2K   \u001b[90m━━━━━━━━━━━━━━━━━━━━━━━━━━━━━━━━━━━━━━━━\u001b[0m \u001b[32m13.3/13.3 MB\u001b[0m \u001b[31m80.2 MB/s\u001b[0m eta \u001b[36m0:00:00\u001b[0m\n",
            "\u001b[?25hDownloading pyjnius-1.6.1-cp311-cp311-manylinux_2_17_x86_64.manylinux2014_x86_64.whl (1.6 MB)\n",
            "\u001b[2K   \u001b[90m━━━━━━━━━━━━━━━━━━━━━━━━━━━━━━━━━━━━━━━━\u001b[0m \u001b[32m1.6/1.6 MB\u001b[0m \u001b[31m53.5 MB/s\u001b[0m eta \u001b[36m0:00:00\u001b[0m\n",
            "\u001b[?25hDownloading tiktoken-0.9.0-cp311-cp311-manylinux_2_17_x86_64.manylinux2014_x86_64.whl (1.2 MB)\n",
            "\u001b[2K   \u001b[90m━━━━━━━━━━━━━━━━━━━━━━━━━━━━━━━━━━━━━━━━\u001b[0m \u001b[32m1.2/1.2 MB\u001b[0m \u001b[31m52.1 MB/s\u001b[0m eta \u001b[36m0:00:00\u001b[0m\n",
            "\u001b[?25hDownloading nvidia_cublas_cu12-12.4.5.8-py3-none-manylinux2014_x86_64.whl (363.4 MB)\n",
            "\u001b[2K   \u001b[90m━━━━━━━━━━━━━━━━━━━━━━━━━━━━━━━━━━━━━━━━\u001b[0m \u001b[32m363.4/363.4 MB\u001b[0m \u001b[31m4.2 MB/s\u001b[0m eta \u001b[36m0:00:00\u001b[0m\n",
            "\u001b[?25hDownloading nvidia_cuda_cupti_cu12-12.4.127-py3-none-manylinux2014_x86_64.whl (13.8 MB)\n",
            "\u001b[2K   \u001b[90m━━━━━━━━━━━━━━━━━━━━━━━━━━━━━━━━━━━━━━━━\u001b[0m \u001b[32m13.8/13.8 MB\u001b[0m \u001b[31m60.8 MB/s\u001b[0m eta \u001b[36m0:00:00\u001b[0m\n",
            "\u001b[?25hDownloading nvidia_cuda_nvrtc_cu12-12.4.127-py3-none-manylinux2014_x86_64.whl (24.6 MB)\n",
            "\u001b[2K   \u001b[90m━━━━━━━━━━━━━━━━━━━━━━━━━━━━━━━━━━━━━━━━\u001b[0m \u001b[32m24.6/24.6 MB\u001b[0m \u001b[31m46.0 MB/s\u001b[0m eta \u001b[36m0:00:00\u001b[0m\n",
            "\u001b[?25hDownloading nvidia_cuda_runtime_cu12-12.4.127-py3-none-manylinux2014_x86_64.whl (883 kB)\n",
            "\u001b[2K   \u001b[90m━━━━━━━━━━━━━━━━━━━━━━━━━━━━━━━━━━━━━━━━\u001b[0m \u001b[32m883.7/883.7 kB\u001b[0m \u001b[31m40.1 MB/s\u001b[0m eta \u001b[36m0:00:00\u001b[0m\n",
            "\u001b[?25hDownloading nvidia_cudnn_cu12-9.1.0.70-py3-none-manylinux2014_x86_64.whl (664.8 MB)\n",
            "\u001b[2K   \u001b[90m━━━━━━━━━━━━━━━━━━━━━━━━━━━━━━━━━━━━━━━━\u001b[0m \u001b[32m664.8/664.8 MB\u001b[0m \u001b[31m2.6 MB/s\u001b[0m eta \u001b[36m0:00:00\u001b[0m\n",
            "\u001b[?25hDownloading nvidia_cufft_cu12-11.2.1.3-py3-none-manylinux2014_x86_64.whl (211.5 MB)\n",
            "\u001b[2K   \u001b[90m━━━━━━━━━━━━━━━━━━━━━━━━━━━━━━━━━━━━━━━━\u001b[0m \u001b[32m211.5/211.5 MB\u001b[0m \u001b[31m5.2 MB/s\u001b[0m eta \u001b[36m0:00:00\u001b[0m\n",
            "\u001b[?25hDownloading nvidia_curand_cu12-10.3.5.147-py3-none-manylinux2014_x86_64.whl (56.3 MB)\n",
            "\u001b[2K   \u001b[90m━━━━━━━━━━━━━━━━━━━━━━━━━━━━━━━━━━━━━━━━\u001b[0m \u001b[32m56.3/56.3 MB\u001b[0m \u001b[31m12.7 MB/s\u001b[0m eta \u001b[36m0:00:00\u001b[0m\n",
            "\u001b[?25hDownloading nvidia_cusolver_cu12-11.6.1.9-py3-none-manylinux2014_x86_64.whl (127.9 MB)\n",
            "\u001b[2K   \u001b[90m━━━━━━━━━━━━━━━━━━━━━━━━━━━━━━━━━━━━━━━━\u001b[0m \u001b[32m127.9/127.9 MB\u001b[0m \u001b[31m9.1 MB/s\u001b[0m eta \u001b[36m0:00:00\u001b[0m\n",
            "\u001b[?25hDownloading nvidia_cusparse_cu12-12.3.1.170-py3-none-manylinux2014_x86_64.whl (207.5 MB)\n",
            "\u001b[2K   \u001b[90m━━━━━━━━━━━━━━━━━━━━━━━━━━━━━━━━━━━━━━━━\u001b[0m \u001b[32m207.5/207.5 MB\u001b[0m \u001b[31m6.0 MB/s\u001b[0m eta \u001b[36m0:00:00\u001b[0m\n",
            "\u001b[?25hDownloading nvidia_nvjitlink_cu12-12.4.127-py3-none-manylinux2014_x86_64.whl (21.1 MB)\n",
            "\u001b[2K   \u001b[90m━━━━━━━━━━━━━━━━━━━━━━━━━━━━━━━━━━━━━━━━\u001b[0m \u001b[32m21.1/21.1 MB\u001b[0m \u001b[31m66.9 MB/s\u001b[0m eta \u001b[36m0:00:00\u001b[0m\n",
            "\u001b[?25hDownloading coloredlogs-15.0.1-py2.py3-none-any.whl (46 kB)\n",
            "\u001b[2K   \u001b[90m━━━━━━━━━━━━━━━━━━━━━━━━━━━━━━━━━━━━━━━━\u001b[0m \u001b[32m46.0/46.0 kB\u001b[0m \u001b[31m2.9 MB/s\u001b[0m eta \u001b[36m0:00:00\u001b[0m\n",
            "\u001b[?25hDownloading humanfriendly-10.0-py2.py3-none-any.whl (86 kB)\n",
            "\u001b[2K   \u001b[90m━━━━━━━━━━━━━━━━━━━━━━━━━━━━━━━━━━━━━━━━\u001b[0m \u001b[32m86.8/86.8 kB\u001b[0m \u001b[31m6.6 MB/s\u001b[0m eta \u001b[36m0:00:00\u001b[0m\n",
            "\u001b[?25hBuilding wheels for collected packages: pyserini\n",
            "  Building wheel for pyserini (pyproject.toml) ... \u001b[?25l\u001b[?25hdone\n",
            "  Created wheel for pyserini: filename=pyserini-0.44.0-py3-none-any.whl size=195388840 sha256=e2525dfe40e936bedae633919054ff3df1b864b1879f225200276a24f3890816\n",
            "  Stored in directory: /root/.cache/pip/wheels/4d/fb/2c/523bde7d33a5dd4d0da19070ad3c96113f2b0face35a863f25\n",
            "Successfully built pyserini\n",
            "Installing collected packages: pyjnius, nvidia-nvjitlink-cu12, nvidia-curand-cu12, nvidia-cufft-cu12, nvidia-cuda-runtime-cu12, nvidia-cuda-nvrtc-cu12, nvidia-cuda-cupti-cu12, nvidia-cublas-cu12, humanfriendly, tiktoken, nvidia-cusparse-cu12, nvidia-cudnn-cu12, coloredlogs, onnxruntime, nvidia-cusolver-cu12, pyserini\n",
            "  Attempting uninstall: nvidia-nvjitlink-cu12\n",
            "    Found existing installation: nvidia-nvjitlink-cu12 12.5.82\n",
            "    Uninstalling nvidia-nvjitlink-cu12-12.5.82:\n",
            "      Successfully uninstalled nvidia-nvjitlink-cu12-12.5.82\n",
            "  Attempting uninstall: nvidia-curand-cu12\n",
            "    Found existing installation: nvidia-curand-cu12 10.3.6.82\n",
            "    Uninstalling nvidia-curand-cu12-10.3.6.82:\n",
            "      Successfully uninstalled nvidia-curand-cu12-10.3.6.82\n",
            "  Attempting uninstall: nvidia-cufft-cu12\n",
            "    Found existing installation: nvidia-cufft-cu12 11.2.3.61\n",
            "    Uninstalling nvidia-cufft-cu12-11.2.3.61:\n",
            "      Successfully uninstalled nvidia-cufft-cu12-11.2.3.61\n",
            "  Attempting uninstall: nvidia-cuda-runtime-cu12\n",
            "    Found existing installation: nvidia-cuda-runtime-cu12 12.5.82\n",
            "    Uninstalling nvidia-cuda-runtime-cu12-12.5.82:\n",
            "      Successfully uninstalled nvidia-cuda-runtime-cu12-12.5.82\n",
            "  Attempting uninstall: nvidia-cuda-nvrtc-cu12\n",
            "    Found existing installation: nvidia-cuda-nvrtc-cu12 12.5.82\n",
            "    Uninstalling nvidia-cuda-nvrtc-cu12-12.5.82:\n",
            "      Successfully uninstalled nvidia-cuda-nvrtc-cu12-12.5.82\n",
            "  Attempting uninstall: nvidia-cuda-cupti-cu12\n",
            "    Found existing installation: nvidia-cuda-cupti-cu12 12.5.82\n",
            "    Uninstalling nvidia-cuda-cupti-cu12-12.5.82:\n",
            "      Successfully uninstalled nvidia-cuda-cupti-cu12-12.5.82\n",
            "  Attempting uninstall: nvidia-cublas-cu12\n",
            "    Found existing installation: nvidia-cublas-cu12 12.5.3.2\n",
            "    Uninstalling nvidia-cublas-cu12-12.5.3.2:\n",
            "      Successfully uninstalled nvidia-cublas-cu12-12.5.3.2\n",
            "  Attempting uninstall: nvidia-cusparse-cu12\n",
            "    Found existing installation: nvidia-cusparse-cu12 12.5.1.3\n",
            "    Uninstalling nvidia-cusparse-cu12-12.5.1.3:\n",
            "      Successfully uninstalled nvidia-cusparse-cu12-12.5.1.3\n",
            "  Attempting uninstall: nvidia-cudnn-cu12\n",
            "    Found existing installation: nvidia-cudnn-cu12 9.3.0.75\n",
            "    Uninstalling nvidia-cudnn-cu12-9.3.0.75:\n",
            "      Successfully uninstalled nvidia-cudnn-cu12-9.3.0.75\n",
            "  Attempting uninstall: nvidia-cusolver-cu12\n",
            "    Found existing installation: nvidia-cusolver-cu12 11.6.3.83\n",
            "    Uninstalling nvidia-cusolver-cu12-11.6.3.83:\n",
            "      Successfully uninstalled nvidia-cusolver-cu12-11.6.3.83\n",
            "Successfully installed coloredlogs-15.0.1 humanfriendly-10.0 nvidia-cublas-cu12-12.4.5.8 nvidia-cuda-cupti-cu12-12.4.127 nvidia-cuda-nvrtc-cu12-12.4.127 nvidia-cuda-runtime-cu12-12.4.127 nvidia-cudnn-cu12-9.1.0.70 nvidia-cufft-cu12-11.2.1.3 nvidia-curand-cu12-10.3.5.147 nvidia-cusolver-cu12-11.6.1.9 nvidia-cusparse-cu12-12.3.1.170 nvidia-nvjitlink-cu12-12.4.127 onnxruntime-1.20.1 pyjnius-1.6.1 pyserini-0.44.0 tiktoken-0.9.0\n"
          ]
        }
      ]
    },
    {
      "cell_type": "code",
      "source": [
        "!pip install pyserini ir_datasets pytrec_eval tqdm"
      ],
      "metadata": {
        "colab": {
          "base_uri": "https://localhost:8080/"
        },
        "collapsed": true,
        "id": "ZtS0RA_kDeyU",
        "outputId": "ac2b3880-2568-4793-88fb-9fc7830ca1d2"
      },
      "execution_count": null,
      "outputs": [
        {
          "output_type": "stream",
          "name": "stdout",
          "text": [
            "Requirement already satisfied: pyserini in /usr/local/lib/python3.11/dist-packages (0.44.0)\n",
            "Collecting ir_datasets\n",
            "  Downloading ir_datasets-0.5.9-py3-none-any.whl.metadata (12 kB)\n",
            "Collecting pytrec_eval\n",
            "  Downloading pytrec_eval-0.5.tar.gz (15 kB)\n",
            "  Preparing metadata (setup.py) ... \u001b[?25l\u001b[?25hdone\n",
            "Requirement already satisfied: tqdm in /usr/local/lib/python3.11/dist-packages (4.67.1)\n",
            "Requirement already satisfied: pyyaml in /usr/local/lib/python3.11/dist-packages (from pyserini) (6.0.2)\n",
            "Requirement already satisfied: requests in /usr/local/lib/python3.11/dist-packages (from pyserini) (2.32.3)\n",
            "Requirement already satisfied: Cython>=0.29.21 in /usr/local/lib/python3.11/dist-packages (from pyserini) (3.0.12)\n",
            "Requirement already satisfied: numpy>=1.18.1 in /usr/local/lib/python3.11/dist-packages (from pyserini) (1.26.4)\n",
            "Requirement already satisfied: pandas>=1.4.0 in /usr/local/lib/python3.11/dist-packages (from pyserini) (2.2.2)\n",
            "Requirement already satisfied: pyjnius>=1.6.0 in /usr/local/lib/python3.11/dist-packages (from pyserini) (1.6.1)\n",
            "Requirement already satisfied: scikit-learn>=0.22.1 in /usr/local/lib/python3.11/dist-packages (from pyserini) (1.6.1)\n",
            "Requirement already satisfied: scipy>=1.4.1 in /usr/local/lib/python3.11/dist-packages (from pyserini) (1.13.1)\n",
            "Requirement already satisfied: transformers>=4.6.0 in /usr/local/lib/python3.11/dist-packages (from pyserini) (4.48.3)\n",
            "Requirement already satisfied: torch>=2.4.0 in /usr/local/lib/python3.11/dist-packages (from pyserini) (2.5.1+cu124)\n",
            "Requirement already satisfied: onnxruntime>=1.8.1 in /usr/local/lib/python3.11/dist-packages (from pyserini) (1.20.1)\n",
            "Requirement already satisfied: openai>=1.0.0 in /usr/local/lib/python3.11/dist-packages (from pyserini) (1.61.1)\n",
            "Requirement already satisfied: sentencepiece>=0.2 in /usr/local/lib/python3.11/dist-packages (from pyserini) (0.2.0)\n",
            "Requirement already satisfied: tiktoken>=0.4.0 in /usr/local/lib/python3.11/dist-packages (from pyserini) (0.9.0)\n",
            "Requirement already satisfied: flask>3.0 in /usr/local/lib/python3.11/dist-packages (from pyserini) (3.1.0)\n",
            "Requirement already satisfied: pillow>=10.2.0 in /usr/local/lib/python3.11/dist-packages (from pyserini) (11.1.0)\n",
            "Requirement already satisfied: beautifulsoup4>=4.4.1 in /usr/local/lib/python3.11/dist-packages (from ir_datasets) (4.13.3)\n",
            "Collecting inscriptis>=2.2.0 (from ir_datasets)\n",
            "  Downloading inscriptis-2.5.3-py3-none-any.whl.metadata (25 kB)\n",
            "Requirement already satisfied: lxml>=4.5.2 in /usr/local/lib/python3.11/dist-packages (from ir_datasets) (5.3.1)\n",
            "Collecting trec-car-tools>=2.5.4 (from ir_datasets)\n",
            "  Downloading trec_car_tools-2.6-py3-none-any.whl.metadata (640 bytes)\n",
            "Collecting lz4>=3.1.10 (from ir_datasets)\n",
            "  Downloading lz4-4.4.3-cp311-cp311-manylinux_2_17_x86_64.manylinux2014_x86_64.whl.metadata (3.8 kB)\n",
            "Collecting warc3-wet>=0.2.3 (from ir_datasets)\n",
            "  Downloading warc3_wet-0.2.5-py3-none-any.whl.metadata (2.2 kB)\n",
            "Collecting warc3-wet-clueweb09>=0.2.5 (from ir_datasets)\n",
            "  Downloading warc3-wet-clueweb09-0.2.5.tar.gz (17 kB)\n",
            "  Preparing metadata (setup.py) ... \u001b[?25l\u001b[?25hdone\n",
            "Collecting zlib-state>=0.1.3 (from ir_datasets)\n",
            "  Downloading zlib_state-0.1.9-cp311-cp311-manylinux_2_17_x86_64.manylinux2014_x86_64.whl.metadata (3.3 kB)\n",
            "Collecting ijson>=3.1.3 (from ir_datasets)\n",
            "  Downloading ijson-3.3.0-cp311-cp311-manylinux_2_17_x86_64.manylinux2014_x86_64.whl.metadata (21 kB)\n",
            "Collecting unlzw3>=0.2.1 (from ir_datasets)\n",
            "  Downloading unlzw3-0.2.3-py3-none-any.whl.metadata (2.3 kB)\n",
            "Requirement already satisfied: soupsieve>1.2 in /usr/local/lib/python3.11/dist-packages (from beautifulsoup4>=4.4.1->ir_datasets) (2.6)\n",
            "Requirement already satisfied: typing-extensions>=4.0.0 in /usr/local/lib/python3.11/dist-packages (from beautifulsoup4>=4.4.1->ir_datasets) (4.12.2)\n",
            "Requirement already satisfied: Werkzeug>=3.1 in /usr/local/lib/python3.11/dist-packages (from flask>3.0->pyserini) (3.1.3)\n",
            "Requirement already satisfied: Jinja2>=3.1.2 in /usr/local/lib/python3.11/dist-packages (from flask>3.0->pyserini) (3.1.5)\n",
            "Requirement already satisfied: itsdangerous>=2.2 in /usr/local/lib/python3.11/dist-packages (from flask>3.0->pyserini) (2.2.0)\n",
            "Requirement already satisfied: click>=8.1.3 in /usr/local/lib/python3.11/dist-packages (from flask>3.0->pyserini) (8.1.8)\n",
            "Requirement already satisfied: blinker>=1.9 in /usr/local/lib/python3.11/dist-packages (from flask>3.0->pyserini) (1.9.0)\n",
            "Requirement already satisfied: coloredlogs in /usr/local/lib/python3.11/dist-packages (from onnxruntime>=1.8.1->pyserini) (15.0.1)\n",
            "Requirement already satisfied: flatbuffers in /usr/local/lib/python3.11/dist-packages (from onnxruntime>=1.8.1->pyserini) (25.2.10)\n",
            "Requirement already satisfied: packaging in /usr/local/lib/python3.11/dist-packages (from onnxruntime>=1.8.1->pyserini) (24.2)\n",
            "Requirement already satisfied: protobuf in /usr/local/lib/python3.11/dist-packages (from onnxruntime>=1.8.1->pyserini) (4.25.6)\n",
            "Requirement already satisfied: sympy in /usr/local/lib/python3.11/dist-packages (from onnxruntime>=1.8.1->pyserini) (1.13.1)\n",
            "Requirement already satisfied: anyio<5,>=3.5.0 in /usr/local/lib/python3.11/dist-packages (from openai>=1.0.0->pyserini) (3.7.1)\n",
            "Requirement already satisfied: distro<2,>=1.7.0 in /usr/local/lib/python3.11/dist-packages (from openai>=1.0.0->pyserini) (1.9.0)\n",
            "Requirement already satisfied: httpx<1,>=0.23.0 in /usr/local/lib/python3.11/dist-packages (from openai>=1.0.0->pyserini) (0.28.1)\n",
            "Requirement already satisfied: jiter<1,>=0.4.0 in /usr/local/lib/python3.11/dist-packages (from openai>=1.0.0->pyserini) (0.8.2)\n",
            "Requirement already satisfied: pydantic<3,>=1.9.0 in /usr/local/lib/python3.11/dist-packages (from openai>=1.0.0->pyserini) (2.10.6)\n",
            "Requirement already satisfied: sniffio in /usr/local/lib/python3.11/dist-packages (from openai>=1.0.0->pyserini) (1.3.1)\n",
            "Requirement already satisfied: python-dateutil>=2.8.2 in /usr/local/lib/python3.11/dist-packages (from pandas>=1.4.0->pyserini) (2.8.2)\n",
            "Requirement already satisfied: pytz>=2020.1 in /usr/local/lib/python3.11/dist-packages (from pandas>=1.4.0->pyserini) (2025.1)\n",
            "Requirement already satisfied: tzdata>=2022.7 in /usr/local/lib/python3.11/dist-packages (from pandas>=1.4.0->pyserini) (2025.1)\n",
            "Requirement already satisfied: charset-normalizer<4,>=2 in /usr/local/lib/python3.11/dist-packages (from requests->pyserini) (3.4.1)\n",
            "Requirement already satisfied: idna<4,>=2.5 in /usr/local/lib/python3.11/dist-packages (from requests->pyserini) (3.10)\n",
            "Requirement already satisfied: urllib3<3,>=1.21.1 in /usr/local/lib/python3.11/dist-packages (from requests->pyserini) (2.3.0)\n",
            "Requirement already satisfied: certifi>=2017.4.17 in /usr/local/lib/python3.11/dist-packages (from requests->pyserini) (2025.1.31)\n",
            "Requirement already satisfied: joblib>=1.2.0 in /usr/local/lib/python3.11/dist-packages (from scikit-learn>=0.22.1->pyserini) (1.4.2)\n",
            "Requirement already satisfied: threadpoolctl>=3.1.0 in /usr/local/lib/python3.11/dist-packages (from scikit-learn>=0.22.1->pyserini) (3.5.0)\n",
            "Requirement already satisfied: regex>=2022.1.18 in /usr/local/lib/python3.11/dist-packages (from tiktoken>=0.4.0->pyserini) (2024.11.6)\n",
            "Requirement already satisfied: filelock in /usr/local/lib/python3.11/dist-packages (from torch>=2.4.0->pyserini) (3.17.0)\n",
            "Requirement already satisfied: networkx in /usr/local/lib/python3.11/dist-packages (from torch>=2.4.0->pyserini) (3.4.2)\n",
            "Requirement already satisfied: fsspec in /usr/local/lib/python3.11/dist-packages (from torch>=2.4.0->pyserini) (2024.10.0)\n",
            "Requirement already satisfied: nvidia-cuda-nvrtc-cu12==12.4.127 in /usr/local/lib/python3.11/dist-packages (from torch>=2.4.0->pyserini) (12.4.127)\n",
            "Requirement already satisfied: nvidia-cuda-runtime-cu12==12.4.127 in /usr/local/lib/python3.11/dist-packages (from torch>=2.4.0->pyserini) (12.4.127)\n",
            "Requirement already satisfied: nvidia-cuda-cupti-cu12==12.4.127 in /usr/local/lib/python3.11/dist-packages (from torch>=2.4.0->pyserini) (12.4.127)\n",
            "Requirement already satisfied: nvidia-cudnn-cu12==9.1.0.70 in /usr/local/lib/python3.11/dist-packages (from torch>=2.4.0->pyserini) (9.1.0.70)\n",
            "Requirement already satisfied: nvidia-cublas-cu12==12.4.5.8 in /usr/local/lib/python3.11/dist-packages (from torch>=2.4.0->pyserini) (12.4.5.8)\n",
            "Requirement already satisfied: nvidia-cufft-cu12==11.2.1.3 in /usr/local/lib/python3.11/dist-packages (from torch>=2.4.0->pyserini) (11.2.1.3)\n",
            "Requirement already satisfied: nvidia-curand-cu12==10.3.5.147 in /usr/local/lib/python3.11/dist-packages (from torch>=2.4.0->pyserini) (10.3.5.147)\n",
            "Requirement already satisfied: nvidia-cusolver-cu12==11.6.1.9 in /usr/local/lib/python3.11/dist-packages (from torch>=2.4.0->pyserini) (11.6.1.9)\n",
            "Requirement already satisfied: nvidia-cusparse-cu12==12.3.1.170 in /usr/local/lib/python3.11/dist-packages (from torch>=2.4.0->pyserini) (12.3.1.170)\n",
            "Requirement already satisfied: nvidia-nccl-cu12==2.21.5 in /usr/local/lib/python3.11/dist-packages (from torch>=2.4.0->pyserini) (2.21.5)\n",
            "Requirement already satisfied: nvidia-nvtx-cu12==12.4.127 in /usr/local/lib/python3.11/dist-packages (from torch>=2.4.0->pyserini) (12.4.127)\n",
            "Requirement already satisfied: nvidia-nvjitlink-cu12==12.4.127 in /usr/local/lib/python3.11/dist-packages (from torch>=2.4.0->pyserini) (12.4.127)\n",
            "Requirement already satisfied: triton==3.1.0 in /usr/local/lib/python3.11/dist-packages (from torch>=2.4.0->pyserini) (3.1.0)\n",
            "Requirement already satisfied: mpmath<1.4,>=1.1.0 in /usr/local/lib/python3.11/dist-packages (from sympy->onnxruntime>=1.8.1->pyserini) (1.3.0)\n",
            "Requirement already satisfied: huggingface-hub<1.0,>=0.24.0 in /usr/local/lib/python3.11/dist-packages (from transformers>=4.6.0->pyserini) (0.28.1)\n",
            "Requirement already satisfied: tokenizers<0.22,>=0.21 in /usr/local/lib/python3.11/dist-packages (from transformers>=4.6.0->pyserini) (0.21.0)\n",
            "Requirement already satisfied: safetensors>=0.4.1 in /usr/local/lib/python3.11/dist-packages (from transformers>=4.6.0->pyserini) (0.5.3)\n",
            "Collecting cbor>=1.0.0 (from trec-car-tools>=2.5.4->ir_datasets)\n",
            "  Downloading cbor-1.0.0.tar.gz (20 kB)\n",
            "  Preparing metadata (setup.py) ... \u001b[?25l\u001b[?25hdone\n",
            "Requirement already satisfied: httpcore==1.* in /usr/local/lib/python3.11/dist-packages (from httpx<1,>=0.23.0->openai>=1.0.0->pyserini) (1.0.7)\n",
            "Requirement already satisfied: h11<0.15,>=0.13 in /usr/local/lib/python3.11/dist-packages (from httpcore==1.*->httpx<1,>=0.23.0->openai>=1.0.0->pyserini) (0.14.0)\n",
            "Requirement already satisfied: MarkupSafe>=2.0 in /usr/local/lib/python3.11/dist-packages (from Jinja2>=3.1.2->flask>3.0->pyserini) (3.0.2)\n",
            "Requirement already satisfied: annotated-types>=0.6.0 in /usr/local/lib/python3.11/dist-packages (from pydantic<3,>=1.9.0->openai>=1.0.0->pyserini) (0.7.0)\n",
            "Requirement already satisfied: pydantic-core==2.27.2 in /usr/local/lib/python3.11/dist-packages (from pydantic<3,>=1.9.0->openai>=1.0.0->pyserini) (2.27.2)\n",
            "Requirement already satisfied: six>=1.5 in /usr/local/lib/python3.11/dist-packages (from python-dateutil>=2.8.2->pandas>=1.4.0->pyserini) (1.17.0)\n",
            "Requirement already satisfied: humanfriendly>=9.1 in /usr/local/lib/python3.11/dist-packages (from coloredlogs->onnxruntime>=1.8.1->pyserini) (10.0)\n",
            "Downloading ir_datasets-0.5.9-py3-none-any.whl (347 kB)\n",
            "\u001b[2K   \u001b[90m━━━━━━━━━━━━━━━━━━━━━━━━━━━━━━━━━━━━━━━━\u001b[0m \u001b[32m347.9/347.9 kB\u001b[0m \u001b[31m11.9 MB/s\u001b[0m eta \u001b[36m0:00:00\u001b[0m\n",
            "\u001b[?25hDownloading ijson-3.3.0-cp311-cp311-manylinux_2_17_x86_64.manylinux2014_x86_64.whl (119 kB)\n",
            "\u001b[2K   \u001b[90m━━━━━━━━━━━━━━━━━━━━━━━━━━━━━━━━━━━━━━━━\u001b[0m \u001b[32m119.2/119.2 kB\u001b[0m \u001b[31m8.8 MB/s\u001b[0m eta \u001b[36m0:00:00\u001b[0m\n",
            "\u001b[?25hDownloading inscriptis-2.5.3-py3-none-any.whl (45 kB)\n",
            "\u001b[2K   \u001b[90m━━━━━━━━━━━━━━━━━━━━━━━━━━━━━━━━━━━━━━━━\u001b[0m \u001b[32m45.4/45.4 kB\u001b[0m \u001b[31m3.3 MB/s\u001b[0m eta \u001b[36m0:00:00\u001b[0m\n",
            "\u001b[?25hDownloading lz4-4.4.3-cp311-cp311-manylinux_2_17_x86_64.manylinux2014_x86_64.whl (1.3 MB)\n",
            "\u001b[2K   \u001b[90m━━━━━━━━━━━━━━━━━━━━━━━━━━━━━━━━━━━━━━━━\u001b[0m \u001b[32m1.3/1.3 MB\u001b[0m \u001b[31m46.4 MB/s\u001b[0m eta \u001b[36m0:00:00\u001b[0m\n",
            "\u001b[?25hDownloading trec_car_tools-2.6-py3-none-any.whl (8.4 kB)\n",
            "Downloading unlzw3-0.2.3-py3-none-any.whl (6.7 kB)\n",
            "Downloading warc3_wet-0.2.5-py3-none-any.whl (18 kB)\n",
            "Downloading zlib_state-0.1.9-cp311-cp311-manylinux_2_17_x86_64.manylinux2014_x86_64.whl (21 kB)\n",
            "Building wheels for collected packages: pytrec_eval, warc3-wet-clueweb09, cbor\n",
            "  Building wheel for pytrec_eval (setup.py) ... \u001b[?25l\u001b[?25hdone\n",
            "  Created wheel for pytrec_eval: filename=pytrec_eval-0.5-cp311-cp311-linux_x86_64.whl size=308666 sha256=1ee1d09a872825dd5c3362b092f2d741905e2bc587d24bccf89940daadd3bae5\n",
            "  Stored in directory: /root/.cache/pip/wheels/0f/89/42/86aecdb99975f1840c27bc37fdfed72116abcf82e2c9dc76a8\n",
            "  Building wheel for warc3-wet-clueweb09 (setup.py) ... \u001b[?25l\u001b[?25hdone\n",
            "  Created wheel for warc3-wet-clueweb09: filename=warc3_wet_clueweb09-0.2.5-py3-none-any.whl size=18920 sha256=9295b9cfdf4314bc6c3f3d6954e09784352c6543c73d285b3520512cdb45b62f\n",
            "  Stored in directory: /root/.cache/pip/wheels/63/f9/dc/2dd16d3330e327236e4d407941975c42d5159d200cdb7922d8\n",
            "  Building wheel for cbor (setup.py) ... \u001b[?25l\u001b[?25hdone\n",
            "  Created wheel for cbor: filename=cbor-1.0.0-cp311-cp311-linux_x86_64.whl size=53927 sha256=6ec0f7e66a0a7fbd0e97fac6695cf93d24e17cd7d122285de3a45779f0f6c463\n",
            "  Stored in directory: /root/.cache/pip/wheels/21/6b/45/0c34253b1af07d1d9dc524f6d44d74a6b191c43152e6aaf641\n",
            "Successfully built pytrec_eval warc3-wet-clueweb09 cbor\n",
            "Installing collected packages: warc3-wet-clueweb09, warc3-wet, ijson, cbor, zlib-state, unlzw3, trec-car-tools, pytrec_eval, lz4, inscriptis, ir_datasets\n",
            "Successfully installed cbor-1.0.0 ijson-3.3.0 inscriptis-2.5.3 ir_datasets-0.5.9 lz4-4.4.3 pytrec_eval-0.5 trec-car-tools-2.6 unlzw3-0.2.3 warc3-wet-0.2.5 warc3-wet-clueweb09-0.2.5 zlib-state-0.1.9\n"
          ]
        }
      ]
    },
    {
      "cell_type": "code",
      "source": [
        "!pip install --upgrade ir_datasets\n"
      ],
      "metadata": {
        "colab": {
          "base_uri": "https://localhost:8080/"
        },
        "collapsed": true,
        "id": "YeBevtEfGs7B",
        "outputId": "8bb616b4-ef09-45bd-932d-4be9ae664718"
      },
      "execution_count": null,
      "outputs": [
        {
          "output_type": "stream",
          "name": "stdout",
          "text": [
            "Requirement already satisfied: ir_datasets in /usr/local/lib/python3.11/dist-packages (0.5.9)\n",
            "Requirement already satisfied: beautifulsoup4>=4.4.1 in /usr/local/lib/python3.11/dist-packages (from ir_datasets) (4.13.3)\n",
            "Requirement already satisfied: inscriptis>=2.2.0 in /usr/local/lib/python3.11/dist-packages (from ir_datasets) (2.5.3)\n",
            "Requirement already satisfied: lxml>=4.5.2 in /usr/local/lib/python3.11/dist-packages (from ir_datasets) (5.3.1)\n",
            "Requirement already satisfied: numpy>=1.18.1 in /usr/local/lib/python3.11/dist-packages (from ir_datasets) (1.26.4)\n",
            "Requirement already satisfied: pyyaml>=5.3.1 in /usr/local/lib/python3.11/dist-packages (from ir_datasets) (6.0.2)\n",
            "Requirement already satisfied: requests>=2.22.0 in /usr/local/lib/python3.11/dist-packages (from ir_datasets) (2.32.3)\n",
            "Requirement already satisfied: tqdm>=4.38.0 in /usr/local/lib/python3.11/dist-packages (from ir_datasets) (4.67.1)\n",
            "Requirement already satisfied: trec-car-tools>=2.5.4 in /usr/local/lib/python3.11/dist-packages (from ir_datasets) (2.6)\n",
            "Requirement already satisfied: lz4>=3.1.10 in /usr/local/lib/python3.11/dist-packages (from ir_datasets) (4.4.3)\n",
            "Requirement already satisfied: warc3-wet>=0.2.3 in /usr/local/lib/python3.11/dist-packages (from ir_datasets) (0.2.5)\n",
            "Requirement already satisfied: warc3-wet-clueweb09>=0.2.5 in /usr/local/lib/python3.11/dist-packages (from ir_datasets) (0.2.5)\n",
            "Requirement already satisfied: zlib-state>=0.1.3 in /usr/local/lib/python3.11/dist-packages (from ir_datasets) (0.1.9)\n",
            "Requirement already satisfied: ijson>=3.1.3 in /usr/local/lib/python3.11/dist-packages (from ir_datasets) (3.3.0)\n",
            "Requirement already satisfied: unlzw3>=0.2.1 in /usr/local/lib/python3.11/dist-packages (from ir_datasets) (0.2.3)\n",
            "Requirement already satisfied: soupsieve>1.2 in /usr/local/lib/python3.11/dist-packages (from beautifulsoup4>=4.4.1->ir_datasets) (2.6)\n",
            "Requirement already satisfied: typing-extensions>=4.0.0 in /usr/local/lib/python3.11/dist-packages (from beautifulsoup4>=4.4.1->ir_datasets) (4.12.2)\n",
            "Requirement already satisfied: charset-normalizer<4,>=2 in /usr/local/lib/python3.11/dist-packages (from requests>=2.22.0->ir_datasets) (3.4.1)\n",
            "Requirement already satisfied: idna<4,>=2.5 in /usr/local/lib/python3.11/dist-packages (from requests>=2.22.0->ir_datasets) (3.10)\n",
            "Requirement already satisfied: urllib3<3,>=1.21.1 in /usr/local/lib/python3.11/dist-packages (from requests>=2.22.0->ir_datasets) (2.3.0)\n",
            "Requirement already satisfied: certifi>=2017.4.17 in /usr/local/lib/python3.11/dist-packages (from requests>=2.22.0->ir_datasets) (2025.1.31)\n",
            "Requirement already satisfied: cbor>=1.0.0 in /usr/local/lib/python3.11/dist-packages (from trec-car-tools>=2.5.4->ir_datasets) (1.0.0)\n"
          ]
        }
      ]
    },
    {
      "cell_type": "code",
      "source": [
        "!python tot.py"
      ],
      "metadata": {
        "id": "bBMWpZcu7DMb",
        "colab": {
          "base_uri": "https://localhost:8080/"
        },
        "outputId": "dfd97906-8e76-4619-d8d5-0c35f2999721"
      },
      "execution_count": null,
      "outputs": [
        {
          "output_type": "stream",
          "name": "stdout",
          "text": [
            "Enter data path:/content/drive/My Drive/FYP/DATA_PATH\n",
            "available sets: ['trec-tot:test-2024', 'trec-tot:dev1-2024', 'trec-tot:dev2-2024', 'trec-tot:train-2024']\n",
            "trec-tot:test-2024\n",
            "n queries: 600\n",
            "\n",
            "trec-tot:dev1-2024\n",
            "n queries: 150\n",
            "\n",
            "trec-tot:dev2-2024\n",
            "n queries: 150\n",
            "\n",
            "trec-tot:train-2024\n",
            "n queries: 150\n",
            "\n",
            "example query: TrecToTQuery(query_id='828', query='Animated Movie (consisted of several short movies) That Was Once On Netflix .\\n I remember watching an animated movie in the years 2009-2015. I don’t remember the name or any of the actors of the movie, but I remember a lot about it. First off, it was animated. It wasn’t super high quality, the people/things looked like silhouettes (you couldn’t see their faces or exact clothing details, but you could see the shadows of them). Second, it was about a boy and a girl acting out these “plays” in an old theater owned by an old man, who may have been their grandfather. There was also an owl in the theater, and it looked at the camera and hooted whenever they changed from one “play” to another. Third, to change from one costume to another, they stood on a sort of platform thing. It “scanned” them, and the silhouettes of the clothes they described appeared on their bodies. The plays/plots I remember are as follows : Boy gets put in prison (wrongly accused of stealing a necklace, I think), but gets pitied by a princess and she takes him food/clothing. However, the good princess’s evil sister tries to marry the boy when he gets out of prison. When he refuses/realizes she’s the evil princess, she curses him to be a wolf. Boy then eventually gets freed by the good princess. Boy finds himself in a city of gold, but an evil dragon rules the city. The dragon gives the people gold, but only if they sacrifice the most beautiful maiden to the dragon every month/year. Boy eventually slays dragon and marries the girl, who was the most beautiful at that time. Boy is in Africa/similar place and likes to play the drum, but is shunned for doing so. The girl’s father is the clan/tribe chief and is dying from illness. Boy gets thrown out of clan/tribe, but saves an old medicine man from a leopard/big cat. Old medicine man teaches boy how to play drum, which ends up healing the sick clan/tribe chief. The drum also makes the clan/tribe unbeatable in battle. Boy is an adventurer in a strange land where he crawls through a tunnel and gets put in prison. He has to choose/marry one of the king’s three daughters, but he doesn’t know which one. A bee flies around the head of the correct daughter because he fed the bee earlier in the tunnel. He also gets help from other monsters he met in the tunnel/cave. There may have been more, but it’s been years since I saw the movie. It was')\n",
            "[INFO] [starting] building docstore\n",
            "docs_iter: 100%|██████████████████| 3185450/3185450 [05:12<00:00, 10196.73doc/s]\n",
            "[INFO] [finished] docs_iter: [05:12] [3185450doc] [10196.72doc/s]\n",
            "[INFO] [finished] building docstore [05:12]\n",
            "example doc: TrecToTDoc(title='Nason airstrip', doc_id='72614834', wikidata_id='Q115946005', text='Nason Airstrip , was an airstrip on the Surinamese side of the Marowijne River, Suriname opposite of the Nason island in the Sipaliwini District. \\nThe airfield used to serve the Nason village is no longer operational since the Surinamese Interior War (1986-1992). \\n\\nCharters and destinations.\\nCharter airlines potentially serving this airport are:', sections={'Abstract': 'Nason Airstrip , was an airstrip on the Surinamese side of the Marowijne River, Suriname opposite of the Nason island in the Sipaliwini District. \\nThe airfield used to serve the Nason village is no longer operational since the Surinamese Interior War (1986-1992).', 'Charters and destinations': ' \\n\\nCharters and destinations.\\nCharter airlines potentially serving this airport are:'})\n",
            "corpus size:  3185450\n"
          ]
        }
      ]
    },
    {
      "cell_type": "code",
      "source": [
        "#Run the BM25 retrieval for train-2024 split\n",
        "!python bm25.py --index_name bm25 --index_path ./anserini_indicies \\\n",
        "                --data_path \"$DATA_PATH\" \\\n",
        "                --param_k1 1.0 --param_b 1.0 \\\n",
        "                --field text --splits train-2024 \\\n",
        "                --run ./runs/bm25/train.run --run_format trec_eval --run_id baseline_bm25 \\\n",
        "                --negatives_out ./bm25_negatives/train-negatives.json"
      ],
      "metadata": {
        "colab": {
          "base_uri": "https://localhost:8080/"
        },
        "collapsed": true,
        "id": "lEyxyLwIDd5S",
        "outputId": "ef0dbfc3-5109-48f4-f3b1-b6d0335657f6"
      },
      "execution_count": null,
      "outputs": [
        {
          "output_type": "stream",
          "name": "stdout",
          "text": [
            "WARNING: Using incubator modules: jdk.incubator.vector\n",
            "2025-02-26 11:38:02.698338: E external/local_xla/xla/stream_executor/cuda/cuda_fft.cc:477] Unable to register cuFFT factory: Attempting to register factory for plugin cuFFT when one has already been registered\n",
            "WARNING: All log messages before absl::InitializeLog() is called are written to STDERR\n",
            "E0000 00:00:1740569882.947155    4846 cuda_dnn.cc:8310] Unable to register cuDNN factory: Attempting to register factory for plugin cuDNN when one has already been registered\n",
            "E0000 00:00:1740569883.011175    4846 cuda_blas.cc:1418] Unable to register cuBLAS factory: Attempting to register factory for plugin cuBLAS when one has already been registered\n",
            "2025-02-26 11:38:03.528616: I tensorflow/core/platform/cpu_feature_guard.cc:210] This TensorFlow binary is optimized to use available CPU instructions in performance-critical operations.\n",
            "To enable the following instructions: AVX2 FMA, in other operations, rebuild TensorFlow with the appropriate compiler flags.\n",
            "WARNING: Using incubator modules: jdk.incubator.vector\n",
            "2025-02-26 11:40:59,547 INFO  [main] index.AbstractIndexer (AbstractIndexer.java:205) - Setting log level to INFO\n",
            "2025-02-26 11:40:59,554 INFO  [main] index.AbstractIndexer (AbstractIndexer.java:208) - ============ Loading Index Configuration ============\n",
            "2025-02-26 11:40:59,555 INFO  [main] index.AbstractIndexer (AbstractIndexer.java:209) - AbstractIndexer settings:\n",
            "2025-02-26 11:40:59,555 INFO  [main] index.AbstractIndexer (AbstractIndexer.java:210) -  + DocumentCollection path: ./anserini_docs/bm25/docs\n",
            "2025-02-26 11:40:59,555 INFO  [main] index.AbstractIndexer (AbstractIndexer.java:211) -  + CollectionClass: JsonCollection\n",
            "2025-02-26 11:40:59,556 INFO  [main] index.AbstractIndexer (AbstractIndexer.java:212) -  + Index path: ./anserini_indicies/bm25\n",
            "2025-02-26 11:40:59,556 INFO  [main] index.AbstractIndexer (AbstractIndexer.java:213) -  + Threads: 1\n",
            "2025-02-26 11:40:59,557 INFO  [main] index.AbstractIndexer (AbstractIndexer.java:214) -  + Optimize (merge segments)? false\n",
            "Feb 26, 2025 11:40:59 AM org.apache.lucene.store.MemorySegmentIndexInputProvider <init>\n",
            "INFO: Using MemorySegmentIndexInput with Java 21; to disable start with -Dorg.apache.lucene.store.MMapDirectory.enableMemorySegments=false\n",
            "2025-02-26 11:40:59,646 INFO  [main] index.IndexCollection (IndexCollection.java:246) - Using DefaultEnglishAnalyzer\n",
            "2025-02-26 11:40:59,647 INFO  [main] index.IndexCollection (IndexCollection.java:247) - Stemmer: porter\n",
            "2025-02-26 11:40:59,649 INFO  [main] index.IndexCollection (IndexCollection.java:248) - Keep stopwords? false\n",
            "2025-02-26 11:40:59,650 INFO  [main] index.IndexCollection (IndexCollection.java:249) - Stopwords file: null\n",
            "2025-02-26 11:40:59,887 INFO  [main] index.IndexCollection (IndexCollection.java:197) - IndexCollection settings:\n",
            "2025-02-26 11:40:59,888 INFO  [main] index.IndexCollection (IndexCollection.java:198) -  + Generator: DefaultLuceneDocumentGenerator\n",
            "2025-02-26 11:40:59,888 INFO  [main] index.IndexCollection (IndexCollection.java:199) -  + Language: en\n",
            "2025-02-26 11:40:59,889 INFO  [main] index.IndexCollection (IndexCollection.java:200) -  + Stemmer: porter\n",
            "2025-02-26 11:40:59,889 INFO  [main] index.IndexCollection (IndexCollection.java:201) -  + Keep stopwords? false\n",
            "2025-02-26 11:40:59,889 INFO  [main] index.IndexCollection (IndexCollection.java:202) -  + Stopwords: null\n",
            "2025-02-26 11:40:59,890 INFO  [main] index.IndexCollection (IndexCollection.java:203) -  + Store positions? true\n",
            "2025-02-26 11:40:59,890 INFO  [main] index.IndexCollection (IndexCollection.java:204) -  + Store docvectors? true\n",
            "2025-02-26 11:40:59,891 INFO  [main] index.IndexCollection (IndexCollection.java:205) -  + Store document \"contents\" field? false\n",
            "2025-02-26 11:40:59,891 INFO  [main] index.IndexCollection (IndexCollection.java:206) -  + Store document \"raw\" field? true\n",
            "2025-02-26 11:40:59,892 INFO  [main] index.IndexCollection (IndexCollection.java:207) -  + Additional fields to index: []\n",
            "2025-02-26 11:40:59,892 INFO  [main] index.IndexCollection (IndexCollection.java:208) -  + Whitelist: null\n",
            "2025-02-26 11:40:59,892 INFO  [main] index.IndexCollection (IndexCollection.java:209) -  + Pretokenized?: false\n",
            "2025-02-26 11:40:59,893 INFO  [main] index.IndexCollection (IndexCollection.java:210) -  + Codec: Lucene99\n",
            "2025-02-26 11:40:59,893 INFO  [main] index.AbstractIndexer (AbstractIndexer.java:238) - ============ Indexing Collection ============\n",
            "2025-02-26 11:40:59,898 INFO  [main] index.AbstractIndexer (AbstractIndexer.java:247) - Thread pool with 1 threads initialized.\n",
            "2025-02-26 11:40:59,899 INFO  [main] index.AbstractIndexer (AbstractIndexer.java:248) - 1 file found in ./anserini_docs/bm25/docs\n",
            "2025-02-26 11:40:59,899 INFO  [main] index.AbstractIndexer (AbstractIndexer.java:249) - Starting to index...\n",
            "2025-02-26 11:41:59,902 INFO  [main] index.AbstractIndexer (AbstractIndexer.java:259) - 0 documents indexed\n",
            "2025-02-26 11:42:59,904 INFO  [main] index.AbstractIndexer (AbstractIndexer.java:259) - 40,000 documents indexed\n",
            "2025-02-26 11:43:59,906 INFO  [main] index.AbstractIndexer (AbstractIndexer.java:259) - 60,000 documents indexed\n",
            "2025-02-26 11:44:59,907 INFO  [main] index.AbstractIndexer (AbstractIndexer.java:259) - 90,000 documents indexed\n",
            "2025-02-26 11:45:59,917 INFO  [main] index.AbstractIndexer (AbstractIndexer.java:259) - 120,000 documents indexed\n",
            "2025-02-26 11:46:59,918 INFO  [main] index.AbstractIndexer (AbstractIndexer.java:259) - 160,000 documents indexed\n",
            "2025-02-26 11:47:59,921 INFO  [main] index.AbstractIndexer (AbstractIndexer.java:259) - 210,000 documents indexed\n",
            "2025-02-26 11:48:59,923 INFO  [main] index.AbstractIndexer (AbstractIndexer.java:259) - 260,000 documents indexed\n",
            "2025-02-26 11:49:59,925 INFO  [main] index.AbstractIndexer (AbstractIndexer.java:259) - 320,000 documents indexed\n",
            "2025-02-26 11:50:59,929 INFO  [main] index.AbstractIndexer (AbstractIndexer.java:259) - 380,000 documents indexed\n",
            "2025-02-26 11:51:59,931 INFO  [main] index.AbstractIndexer (AbstractIndexer.java:259) - 450,000 documents indexed\n",
            "2025-02-26 11:52:59,934 INFO  [main] index.AbstractIndexer (AbstractIndexer.java:259) - 530,000 documents indexed\n",
            "2025-02-26 11:53:59,936 INFO  [main] index.AbstractIndexer (AbstractIndexer.java:259) - 620,000 documents indexed\n",
            "2025-02-26 11:54:59,938 INFO  [main] index.AbstractIndexer (AbstractIndexer.java:259) - 710,000 documents indexed\n",
            "2025-02-26 11:55:59,940 INFO  [main] index.AbstractIndexer (AbstractIndexer.java:259) - 800,000 documents indexed\n",
            "2025-02-26 11:56:59,941 INFO  [main] index.AbstractIndexer (AbstractIndexer.java:259) - 910,000 documents indexed\n",
            "2025-02-26 11:57:59,943 INFO  [main] index.AbstractIndexer (AbstractIndexer.java:259) - 1,050,000 documents indexed\n",
            "2025-02-26 11:58:59,946 INFO  [main] index.AbstractIndexer (AbstractIndexer.java:259) - 1,190,000 documents indexed\n",
            "2025-02-26 11:59:59,947 INFO  [main] index.AbstractIndexer (AbstractIndexer.java:259) - 1,320,000 documents indexed\n",
            "2025-02-26 12:00:59,950 INFO  [main] index.AbstractIndexer (AbstractIndexer.java:259) - 1,420,000 documents indexed\n",
            "2025-02-26 12:01:59,952 INFO  [main] index.AbstractIndexer (AbstractIndexer.java:259) - 1,500,000 documents indexed\n",
            "2025-02-26 12:02:59,953 INFO  [main] index.AbstractIndexer (AbstractIndexer.java:259) - 1,500,000 documents indexed\n",
            "2025-02-26 12:03:59,955 INFO  [main] index.AbstractIndexer (AbstractIndexer.java:259) - 1,590,000 documents indexed\n",
            "2025-02-26 12:04:59,957 INFO  [main] index.AbstractIndexer (AbstractIndexer.java:259) - 1,700,000 documents indexed\n",
            "2025-02-26 12:05:59,959 INFO  [main] index.AbstractIndexer (AbstractIndexer.java:259) - 1,820,000 documents indexed\n",
            "2025-02-26 12:06:59,961 INFO  [main] index.AbstractIndexer (AbstractIndexer.java:259) - 1,950,000 documents indexed\n",
            "2025-02-26 12:07:59,963 INFO  [main] index.AbstractIndexer (AbstractIndexer.java:259) - 2,080,000 documents indexed\n",
            "2025-02-26 12:08:59,971 INFO  [main] index.AbstractIndexer (AbstractIndexer.java:259) - 2,200,000 documents indexed\n",
            "2025-02-26 12:09:59,972 INFO  [main] index.AbstractIndexer (AbstractIndexer.java:259) - 2,320,000 documents indexed\n",
            "2025-02-26 12:10:59,974 INFO  [main] index.AbstractIndexer (AbstractIndexer.java:259) - 2,440,000 documents indexed\n",
            "2025-02-26 12:11:59,976 INFO  [main] index.AbstractIndexer (AbstractIndexer.java:259) - 2,570,000 documents indexed\n",
            "2025-02-26 12:12:59,978 INFO  [main] index.AbstractIndexer (AbstractIndexer.java:259) - 2,690,000 documents indexed\n",
            "2025-02-26 12:13:59,980 INFO  [main] index.AbstractIndexer (AbstractIndexer.java:259) - 2,830,000 documents indexed\n",
            "2025-02-26 12:14:59,982 INFO  [main] index.AbstractIndexer (AbstractIndexer.java:259) - 2,980,000 documents indexed\n",
            "2025-02-26 12:15:59,985 INFO  [main] index.AbstractIndexer (AbstractIndexer.java:259) - 3,110,000 documents indexed\n",
            "2025-02-26 12:17:28,196 INFO  [main] index.AbstractIndexer (AbstractIndexer.java:307) - Indexing Complete! 3,185,289 documents indexed\n",
            "2025-02-26 12:17:28,197 INFO  [main] index.AbstractIndexer (AbstractIndexer.java:308) - ============ Final Counter Values ============\n",
            "2025-02-26 12:17:28,198 INFO  [main] index.AbstractIndexer (AbstractIndexer.java:309) - indexed:        3,185,289\n",
            "2025-02-26 12:17:28,198 INFO  [main] index.AbstractIndexer (AbstractIndexer.java:310) - unindexable:            0\n",
            "2025-02-26 12:17:28,198 INFO  [main] index.AbstractIndexer (AbstractIndexer.java:311) - empty:                161\n",
            "2025-02-26 12:17:28,199 INFO  [main] index.AbstractIndexer (AbstractIndexer.java:312) - skipped:                0\n",
            "2025-02-26 12:17:28,199 INFO  [main] index.AbstractIndexer (AbstractIndexer.java:313) - errors:                 0\n",
            "2025-02-26 12:17:28,212 INFO  [main] index.AbstractIndexer (AbstractIndexer.java:316) - Total 3,185,289 documents indexed in 00:36:28\n",
            "Feb 26, 2025 12:17:29 PM org.apache.lucene.store.MemorySegmentIndexInputProvider <init>\n",
            "INFO: Using MemorySegmentIndexInput with Java 21; to disable start with -Dorg.apache.lucene.store.MMapDirectory.enableMemorySegments=false\n",
            "100% 19/19 [02:05<00:00,  6.63s/it]\n"
          ]
        }
      ]
    },
    {
      "cell_type": "code",
      "source": [
        "!ls -lh ./anserini_indicies\n"
      ],
      "metadata": {
        "colab": {
          "base_uri": "https://localhost:8080/"
        },
        "id": "6OTf8W6UR4af",
        "outputId": "54076950-2b08-4eb9-cfc5-1e70c296e256"
      },
      "execution_count": null,
      "outputs": [
        {
          "output_type": "stream",
          "name": "stdout",
          "text": [
            "total 4.0K\n",
            "drwxr-xr-x 2 root root 4.0K Feb 26 12:17 bm25\n"
          ]
        }
      ]
    },
    {
      "cell_type": "code",
      "source": [
        "!cp -r ./anserini_indicies /content/drive/MyDrive/FYP\n"
      ],
      "metadata": {
        "id": "vZe76gdxSJ1l"
      },
      "execution_count": null,
      "outputs": []
    },
    {
      "cell_type": "code",
      "source": [
        "!ls \"/content/drive/MyDrive/FYP/anserini_indicies/bm25\"\n"
      ],
      "metadata": {
        "colab": {
          "base_uri": "https://localhost:8080/"
        },
        "id": "5atzlwmVubYa",
        "outputId": "1c445281-4409-4501-e76a-9920073ae801"
      },
      "execution_count": null,
      "outputs": [
        {
          "output_type": "stream",
          "name": "stdout",
          "text": [
            "_0.fdm\t\t   _0_Lucene99_0.pos  _0.si   _1_Lucene90_0.dvd  _1.nvd      write.lock\n",
            "_0.fdx\t\t   _0_Lucene99_0.tim  _0.tvm  _1_Lucene90_0.dvm  _1.nvm\n",
            "_0.fnm\t\t   _0_Lucene99_0.tip  _0.tvx  _1_Lucene99_0.doc  _1.si\n",
            "_0_Lucene90_0.dvd  _0_Lucene99_0.tmd  _1.fdm  _1_Lucene99_0.tim  _1.tvm\n",
            "_0_Lucene90_0.dvm  _0.nvd\t      _1.fdx  _1_Lucene99_0.tip  _1.tvx\n",
            "_0_Lucene99_0.doc  _0.nvm\t      _1.fnm  _1_Lucene99_0.tmd  segments_1\n"
          ]
        }
      ]
    },
    {
      "cell_type": "code",
      "source": [
        "# #using gdrive\n",
        "# !python bm25.py --index_name bm25 --index_path ./anserini_indicies \\\n",
        "#                 --data_path \"$DATA_PATH\" \\\n",
        "#                 --param_k1 1.0 --param_b 1.0 \\\n",
        "#                 --field text --splits train-2024 \\\n",
        "#                 --run ./runs/bm25/train.run --run_format trec_eval --run_id baseline_bm25 \\\n",
        "#                 --negatives_out ./bm25_negatives/train-negatives.json"
      ],
      "metadata": {
        "colab": {
          "base_uri": "https://localhost:8080/"
        },
        "collapsed": true,
        "id": "zGfAYRL5sscd",
        "outputId": "7ddc8280-9ffe-4533-89ca-0f4102a9c326"
      },
      "execution_count": null,
      "outputs": [
        {
          "output_type": "stream",
          "name": "stdout",
          "text": [
            "WARNING: Using incubator modules: jdk.incubator.vector\n",
            "/usr/local/lib/python3.11/dist-packages/torch_xla/__init__.py:253: UserWarning: `tensorflow` can conflict with `torch-xla`. Prefer `tensorflow-cpu` when using PyTorch/XLA. To silence this warning, `pip uninstall -y tensorflow && pip install tensorflow-cpu`. If you are in a notebook environment such as Colab or Kaggle, restart your notebook runtime afterwards.\n",
            "  warnings.warn(\n",
            "WARNING: Using incubator modules: jdk.incubator.vector\n",
            "2025-02-26 10:25:33,068 INFO  [main] index.AbstractIndexer (AbstractIndexer.java:205) - Setting log level to INFO\n",
            "2025-02-26 10:25:33,072 INFO  [main] index.AbstractIndexer (AbstractIndexer.java:208) - ============ Loading Index Configuration ============\n",
            "2025-02-26 10:25:33,073 INFO  [main] index.AbstractIndexer (AbstractIndexer.java:209) - AbstractIndexer settings:\n",
            "2025-02-26 10:25:33,073 INFO  [main] index.AbstractIndexer (AbstractIndexer.java:210) -  + DocumentCollection path: ./anserini_docs/bm25/docs\n",
            "2025-02-26 10:25:33,073 INFO  [main] index.AbstractIndexer (AbstractIndexer.java:211) -  + CollectionClass: JsonCollection\n",
            "2025-02-26 10:25:33,073 INFO  [main] index.AbstractIndexer (AbstractIndexer.java:212) -  + Index path: /content/drive/MyDrive/FYP/anserini_indicies/bm25/bm25\n",
            "2025-02-26 10:25:33,074 INFO  [main] index.AbstractIndexer (AbstractIndexer.java:213) -  + Threads: 1\n",
            "2025-02-26 10:25:33,074 INFO  [main] index.AbstractIndexer (AbstractIndexer.java:214) -  + Optimize (merge segments)? false\n",
            "Feb 26, 2025 10:25:33 AM org.apache.lucene.store.MemorySegmentIndexInputProvider <init>\n",
            "INFO: Using MemorySegmentIndexInput with Java 21; to disable start with -Dorg.apache.lucene.store.MMapDirectory.enableMemorySegments=false\n",
            "2025-02-26 10:25:33,107 INFO  [main] index.IndexCollection (IndexCollection.java:246) - Using DefaultEnglishAnalyzer\n",
            "2025-02-26 10:25:33,107 INFO  [main] index.IndexCollection (IndexCollection.java:247) - Stemmer: porter\n",
            "2025-02-26 10:25:33,107 INFO  [main] index.IndexCollection (IndexCollection.java:248) - Keep stopwords? false\n",
            "2025-02-26 10:25:33,108 INFO  [main] index.IndexCollection (IndexCollection.java:249) - Stopwords file: null\n",
            "2025-02-26 10:25:33,209 INFO  [main] index.IndexCollection (IndexCollection.java:197) - IndexCollection settings:\n",
            "2025-02-26 10:25:33,209 INFO  [main] index.IndexCollection (IndexCollection.java:198) -  + Generator: DefaultLuceneDocumentGenerator\n",
            "2025-02-26 10:25:33,210 INFO  [main] index.IndexCollection (IndexCollection.java:199) -  + Language: en\n",
            "2025-02-26 10:25:33,210 INFO  [main] index.IndexCollection (IndexCollection.java:200) -  + Stemmer: porter\n",
            "2025-02-26 10:25:33,210 INFO  [main] index.IndexCollection (IndexCollection.java:201) -  + Keep stopwords? false\n",
            "2025-02-26 10:25:33,210 INFO  [main] index.IndexCollection (IndexCollection.java:202) -  + Stopwords: null\n",
            "2025-02-26 10:25:33,211 INFO  [main] index.IndexCollection (IndexCollection.java:203) -  + Store positions? true\n",
            "2025-02-26 10:25:33,211 INFO  [main] index.IndexCollection (IndexCollection.java:204) -  + Store docvectors? true\n",
            "2025-02-26 10:25:33,211 INFO  [main] index.IndexCollection (IndexCollection.java:205) -  + Store document \"contents\" field? false\n",
            "2025-02-26 10:25:33,211 INFO  [main] index.IndexCollection (IndexCollection.java:206) -  + Store document \"raw\" field? true\n",
            "2025-02-26 10:25:33,212 INFO  [main] index.IndexCollection (IndexCollection.java:207) -  + Additional fields to index: []\n",
            "2025-02-26 10:25:33,212 INFO  [main] index.IndexCollection (IndexCollection.java:208) -  + Whitelist: null\n",
            "2025-02-26 10:25:33,212 INFO  [main] index.IndexCollection (IndexCollection.java:209) -  + Pretokenized?: false\n",
            "2025-02-26 10:25:33,212 INFO  [main] index.IndexCollection (IndexCollection.java:210) -  + Codec: Lucene99\n",
            "2025-02-26 10:25:33,212 INFO  [main] index.AbstractIndexer (AbstractIndexer.java:238) - ============ Indexing Collection ============\n",
            "2025-02-26 10:25:33,215 INFO  [main] index.AbstractIndexer (AbstractIndexer.java:247) - Thread pool with 1 threads initialized.\n",
            "2025-02-26 10:25:33,215 INFO  [main] index.AbstractIndexer (AbstractIndexer.java:248) - 1 file found in ./anserini_docs/bm25/docs\n",
            "2025-02-26 10:25:33,215 INFO  [main] index.AbstractIndexer (AbstractIndexer.java:249) - Starting to index...\n",
            "2025-02-26 10:26:33,217 INFO  [main] index.AbstractIndexer (AbstractIndexer.java:259) - 0 documents indexed\n",
            "2025-02-26 10:27:33,218 INFO  [main] index.AbstractIndexer (AbstractIndexer.java:259) - 50,000 documents indexed\n",
            "2025-02-26 10:28:33,219 INFO  [main] index.AbstractIndexer (AbstractIndexer.java:259) - 80,000 documents indexed\n",
            "2025-02-26 10:29:33,220 INFO  [main] index.AbstractIndexer (AbstractIndexer.java:259) - 130,000 documents indexed\n",
            "2025-02-26 10:30:33,221 INFO  [main] index.AbstractIndexer (AbstractIndexer.java:259) - 180,000 documents indexed\n",
            "2025-02-26 10:31:33,222 INFO  [main] index.AbstractIndexer (AbstractIndexer.java:259) - 250,000 documents indexed\n",
            "2025-02-26 10:32:33,223 INFO  [main] index.AbstractIndexer (AbstractIndexer.java:259) - 330,000 documents indexed\n",
            "2025-02-26 10:33:33,224 INFO  [main] index.AbstractIndexer (AbstractIndexer.java:259) - 410,000 documents indexed\n",
            "2025-02-26 10:34:33,225 INFO  [main] index.AbstractIndexer (AbstractIndexer.java:259) - 510,000 documents indexed\n",
            "2025-02-26 10:35:33,226 INFO  [main] index.AbstractIndexer (AbstractIndexer.java:259) - 620,000 documents indexed\n",
            "2025-02-26 10:36:33,228 INFO  [main] index.AbstractIndexer (AbstractIndexer.java:259) - 740,000 documents indexed\n",
            "2025-02-26 10:37:33,229 INFO  [main] index.AbstractIndexer (AbstractIndexer.java:259) - 880,000 documents indexed\n",
            "2025-02-26 10:38:33,230 INFO  [main] index.AbstractIndexer (AbstractIndexer.java:259) - 1,050,000 documents indexed\n",
            "2025-02-26 10:39:33,231 INFO  [main] index.AbstractIndexer (AbstractIndexer.java:259) - 1,240,000 documents indexed\n",
            "2025-02-26 10:40:33,232 INFO  [main] index.AbstractIndexer (AbstractIndexer.java:259) - 1,400,000 documents indexed\n",
            "2025-02-26 10:41:33,233 INFO  [main] index.AbstractIndexer (AbstractIndexer.java:259) - 1,500,000 documents indexed\n",
            "2025-02-26 10:42:33,234 INFO  [main] index.AbstractIndexer (AbstractIndexer.java:259) - 1,530,000 documents indexed\n",
            "2025-02-26 10:43:33,234 INFO  [main] index.AbstractIndexer (AbstractIndexer.java:259) - 1,690,000 documents indexed\n",
            "2025-02-26 10:44:33,235 INFO  [main] index.AbstractIndexer (AbstractIndexer.java:259) - 1,860,000 documents indexed\n",
            "2025-02-26 10:45:33,236 INFO  [main] index.AbstractIndexer (AbstractIndexer.java:259) - 2,030,000 documents indexed\n",
            "2025-02-26 10:46:33,237 INFO  [main] index.AbstractIndexer (AbstractIndexer.java:259) - 2,200,000 documents indexed\n"
          ]
        }
      ]
    },
    {
      "cell_type": "code",
      "source": [
        "!python bm25.py --help\n"
      ],
      "metadata": {
        "colab": {
          "base_uri": "https://localhost:8080/"
        },
        "collapsed": true,
        "id": "nsIQoJ-rRmvu",
        "outputId": "5f7fa316-f2ca-4ba0-a4a9-4d792786cce0"
      },
      "execution_count": null,
      "outputs": [
        {
          "output_type": "stream",
          "name": "stdout",
          "text": [
            "WARNING: Using incubator modules: jdk.incubator.vector\n",
            "2025-02-26 12:41:19.505127: E external/local_xla/xla/stream_executor/cuda/cuda_fft.cc:477] Unable to register cuFFT factory: Attempting to register factory for plugin cuFFT when one has already been registered\n",
            "WARNING: All log messages before absl::InitializeLog() is called are written to STDERR\n",
            "E0000 00:00:1740573679.530264   20415 cuda_dnn.cc:8310] Unable to register cuDNN factory: Attempting to register factory for plugin cuDNN when one has already been registered\n",
            "E0000 00:00:1740573679.537925   20415 cuda_blas.cc:1418] Unable to register cuBLAS factory: Attempting to register factory for plugin cuBLAS when one has already been registered\n",
            "2025-02-26 12:41:19.563273: I tensorflow/core/platform/cpu_feature_guard.cc:210] This TensorFlow binary is optimized to use available CPU instructions in performance-critical operations.\n",
            "To enable the following instructions: AVX2 FMA, in other operations, rebuild TensorFlow with the appropriate compiler flags.\n",
            "usage: BM25 Run [-h] --data_path DATA_PATH --splits SPLITS --field FIELD --index_name INDEX_NAME\n",
            "                [--param_k1 PARAM_K1] [--param_b PARAM_B] [--run RUN]\n",
            "                [--run_format {json,trec_eval}] [--run_id RUN_ID] [--metrics METRICS]\n",
            "                [--docs_path DOCS_PATH] [--index_path INDEX_PATH] [--n_hits N_HITS]\n",
            "                [--n_threads N_THREADS] [--batch_size BATCH_SIZE] [--negatives_out NEGATIVES_OUT]\n",
            "                [--n_negatives N_NEGATIVES]\n",
            "\n",
            "options:\n",
            "  -h, --help            show this help message and exit\n",
            "  --data_path DATA_PATH\n",
            "                        location to dataset\n",
            "  --splits SPLITS       csv of splits to run\n",
            "  --field FIELD         field to index from documents\n",
            "  --index_name INDEX_NAME\n",
            "                        name of index\n",
            "  --param_k1 PARAM_K1   param: k1 for BM25\n",
            "  --param_b PARAM_B     param: b for BM25\n",
            "  --run RUN             (optional) path to save run\n",
            "  --run_format {json,trec_eval}\n",
            "                        (optional) path to save run, defaults to json if json is in file name\n",
            "  --run_id RUN_ID       run id (required if run_format = trec_eval)\n",
            "  --metrics METRICS     csv - metrics to evaluate\n",
            "  --docs_path DOCS_PATH\n",
            "                        path to store (temp) documents for indexing\n",
            "  --index_path INDEX_PATH\n",
            "                        path to store (all) indices\n",
            "  --n_hits N_HITS       number of hits to retrieve\n",
            "  --n_threads N_THREADS\n",
            "                        number of threads (eval)\n",
            "  --batch_size BATCH_SIZE\n",
            "                        batch size (eval)\n",
            "  --negatives_out NEGATIVES_OUT\n",
            "                        if provided, dumps negatives for use in training other models\n",
            "  --n_negatives N_NEGATIVES\n",
            "                        number of negatives to obtain\n"
          ]
        }
      ]
    },
    {
      "cell_type": "code",
      "source": [
        "!python bm25.py --index_name bm25 --index_path ./anserini_indicies/bm25 \\\n",
        "               --data_path $DATA_PATH \\\n",
        "               --param_k1 1.0 --param_b 1.0 \\\n",
        "               --field text --splits dev1-2024 \\\n",
        "               --run ./runs/bm25/dev1.run --run_format trec_eval --run_id baseline_bm25 \\\n",
        "               --negatives_out ./bm25_negatives/dev1-negatives.json"
      ],
      "metadata": {
        "colab": {
          "base_uri": "https://localhost:8080/"
        },
        "collapsed": true,
        "id": "QD6tn2dqTwOd",
        "outputId": "7d608240-6474-4ae9-8036-6a6b579cb3e5"
      },
      "execution_count": null,
      "outputs": [
        {
          "output_type": "stream",
          "name": "stdout",
          "text": [
            "WARNING: Using incubator modules: jdk.incubator.vector\n",
            "2025-02-26 12:43:41.732740: E external/local_xla/xla/stream_executor/cuda/cuda_fft.cc:477] Unable to register cuFFT factory: Attempting to register factory for plugin cuFFT when one has already been registered\n",
            "WARNING: All log messages before absl::InitializeLog() is called are written to STDERR\n",
            "E0000 00:00:1740573821.777608   21010 cuda_dnn.cc:8310] Unable to register cuDNN factory: Attempting to register factory for plugin cuDNN when one has already been registered\n",
            "E0000 00:00:1740573821.791364   21010 cuda_blas.cc:1418] Unable to register cuBLAS factory: Attempting to register factory for plugin cuBLAS when one has already been registered\n",
            "2025-02-26 12:43:41.833532: I tensorflow/core/platform/cpu_feature_guard.cc:210] This TensorFlow binary is optimized to use available CPU instructions in performance-critical operations.\n",
            "To enable the following instructions: AVX2 FMA, in other operations, rebuild TensorFlow with the appropriate compiler flags.\n",
            "WARNING: Using incubator modules: jdk.incubator.vector\n",
            "2025-02-26 12:46:42,814 INFO  [main] index.AbstractIndexer (AbstractIndexer.java:205) - Setting log level to INFO\n",
            "2025-02-26 12:46:42,824 INFO  [main] index.AbstractIndexer (AbstractIndexer.java:208) - ============ Loading Index Configuration ============\n",
            "2025-02-26 12:46:42,824 INFO  [main] index.AbstractIndexer (AbstractIndexer.java:209) - AbstractIndexer settings:\n",
            "2025-02-26 12:46:42,826 INFO  [main] index.AbstractIndexer (AbstractIndexer.java:210) -  + DocumentCollection path: ./anserini_docs/bm25/docs\n",
            "2025-02-26 12:46:42,827 INFO  [main] index.AbstractIndexer (AbstractIndexer.java:211) -  + CollectionClass: JsonCollection\n",
            "2025-02-26 12:46:42,828 INFO  [main] index.AbstractIndexer (AbstractIndexer.java:212) -  + Index path: ./anserini_indicies/bm25/bm25\n",
            "2025-02-26 12:46:42,830 INFO  [main] index.AbstractIndexer (AbstractIndexer.java:213) -  + Threads: 1\n",
            "2025-02-26 12:46:42,831 INFO  [main] index.AbstractIndexer (AbstractIndexer.java:214) -  + Optimize (merge segments)? false\n",
            "Feb 26, 2025 12:46:42 PM org.apache.lucene.store.MemorySegmentIndexInputProvider <init>\n",
            "INFO: Using MemorySegmentIndexInput with Java 21; to disable start with -Dorg.apache.lucene.store.MMapDirectory.enableMemorySegments=false\n",
            "2025-02-26 12:46:42,961 INFO  [main] index.IndexCollection (IndexCollection.java:246) - Using DefaultEnglishAnalyzer\n",
            "2025-02-26 12:46:42,962 INFO  [main] index.IndexCollection (IndexCollection.java:247) - Stemmer: porter\n",
            "2025-02-26 12:46:42,963 INFO  [main] index.IndexCollection (IndexCollection.java:248) - Keep stopwords? false\n",
            "2025-02-26 12:46:42,965 INFO  [main] index.IndexCollection (IndexCollection.java:249) - Stopwords file: null\n",
            "2025-02-26 12:46:43,345 INFO  [main] index.IndexCollection (IndexCollection.java:197) - IndexCollection settings:\n",
            "2025-02-26 12:46:43,346 INFO  [main] index.IndexCollection (IndexCollection.java:198) -  + Generator: DefaultLuceneDocumentGenerator\n",
            "2025-02-26 12:46:43,346 INFO  [main] index.IndexCollection (IndexCollection.java:199) -  + Language: en\n",
            "2025-02-26 12:46:43,346 INFO  [main] index.IndexCollection (IndexCollection.java:200) -  + Stemmer: porter\n",
            "2025-02-26 12:46:43,347 INFO  [main] index.IndexCollection (IndexCollection.java:201) -  + Keep stopwords? false\n",
            "2025-02-26 12:46:43,347 INFO  [main] index.IndexCollection (IndexCollection.java:202) -  + Stopwords: null\n",
            "2025-02-26 12:46:43,348 INFO  [main] index.IndexCollection (IndexCollection.java:203) -  + Store positions? true\n",
            "2025-02-26 12:46:43,348 INFO  [main] index.IndexCollection (IndexCollection.java:204) -  + Store docvectors? true\n",
            "2025-02-26 12:46:43,348 INFO  [main] index.IndexCollection (IndexCollection.java:205) -  + Store document \"contents\" field? false\n",
            "2025-02-26 12:46:43,349 INFO  [main] index.IndexCollection (IndexCollection.java:206) -  + Store document \"raw\" field? true\n",
            "2025-02-26 12:46:43,350 INFO  [main] index.IndexCollection (IndexCollection.java:207) -  + Additional fields to index: []\n",
            "2025-02-26 12:46:43,350 INFO  [main] index.IndexCollection (IndexCollection.java:208) -  + Whitelist: null\n",
            "2025-02-26 12:46:43,350 INFO  [main] index.IndexCollection (IndexCollection.java:209) -  + Pretokenized?: false\n",
            "2025-02-26 12:46:43,351 INFO  [main] index.IndexCollection (IndexCollection.java:210) -  + Codec: Lucene99\n",
            "2025-02-26 12:46:43,351 INFO  [main] index.AbstractIndexer (AbstractIndexer.java:238) - ============ Indexing Collection ============\n",
            "2025-02-26 12:46:43,365 INFO  [main] index.AbstractIndexer (AbstractIndexer.java:247) - Thread pool with 1 threads initialized.\n",
            "2025-02-26 12:46:43,366 INFO  [main] index.AbstractIndexer (AbstractIndexer.java:248) - 1 file found in ./anserini_docs/bm25/docs\n",
            "2025-02-26 12:46:43,367 INFO  [main] index.AbstractIndexer (AbstractIndexer.java:249) - Starting to index...\n",
            "2025-02-26 12:47:43,375 INFO  [main] index.AbstractIndexer (AbstractIndexer.java:259) - 0 documents indexed\n",
            "2025-02-26 12:48:43,376 INFO  [main] index.AbstractIndexer (AbstractIndexer.java:259) - 40,000 documents indexed\n",
            "2025-02-26 12:49:43,378 INFO  [main] index.AbstractIndexer (AbstractIndexer.java:259) - 60,000 documents indexed\n",
            "2025-02-26 12:50:43,380 INFO  [main] index.AbstractIndexer (AbstractIndexer.java:259) - 80,000 documents indexed\n",
            "2025-02-26 12:51:43,382 INFO  [main] index.AbstractIndexer (AbstractIndexer.java:259) - 110,000 documents indexed\n",
            "2025-02-26 12:52:43,388 INFO  [main] index.AbstractIndexer (AbstractIndexer.java:259) - 140,000 documents indexed\n",
            "2025-02-26 12:53:43,389 INFO  [main] index.AbstractIndexer (AbstractIndexer.java:259) - 180,000 documents indexed\n",
            "2025-02-26 12:54:43,391 INFO  [main] index.AbstractIndexer (AbstractIndexer.java:259) - 230,000 documents indexed\n",
            "2025-02-26 12:55:43,392 INFO  [main] index.AbstractIndexer (AbstractIndexer.java:259) - 280,000 documents indexed\n",
            "2025-02-26 12:56:43,399 INFO  [main] index.AbstractIndexer (AbstractIndexer.java:259) - 340,000 documents indexed\n",
            "2025-02-26 12:57:43,402 INFO  [main] index.AbstractIndexer (AbstractIndexer.java:259) - 400,000 documents indexed\n",
            "2025-02-26 12:58:43,405 INFO  [main] index.AbstractIndexer (AbstractIndexer.java:259) - 470,000 documents indexed\n",
            "2025-02-26 12:59:43,407 INFO  [main] index.AbstractIndexer (AbstractIndexer.java:259) - 540,000 documents indexed\n",
            "2025-02-26 13:00:43,408 INFO  [main] index.AbstractIndexer (AbstractIndexer.java:259) - 620,000 documents indexed\n",
            "2025-02-26 13:01:43,410 INFO  [main] index.AbstractIndexer (AbstractIndexer.java:259) - 700,000 documents indexed\n",
            "2025-02-26 13:02:43,412 INFO  [main] index.AbstractIndexer (AbstractIndexer.java:259) - 790,000 documents indexed\n",
            "2025-02-26 13:03:43,414 INFO  [main] index.AbstractIndexer (AbstractIndexer.java:259) - 890,000 documents indexed\n",
            "2025-02-26 13:04:43,417 INFO  [main] index.AbstractIndexer (AbstractIndexer.java:259) - 1,010,000 documents indexed\n",
            "2025-02-26 13:05:43,421 INFO  [main] index.AbstractIndexer (AbstractIndexer.java:259) - 1,130,000 documents indexed\n",
            "2025-02-26 13:06:43,423 INFO  [main] index.AbstractIndexer (AbstractIndexer.java:259) - 1,250,000 documents indexed\n",
            "2025-02-26 13:07:43,424 INFO  [main] index.AbstractIndexer (AbstractIndexer.java:259) - 1,370,000 documents indexed\n",
            "2025-02-26 13:08:43,425 INFO  [main] index.AbstractIndexer (AbstractIndexer.java:259) - 1,470,000 documents indexed\n",
            "2025-02-26 13:09:43,428 INFO  [main] index.AbstractIndexer (AbstractIndexer.java:259) - 1,500,000 documents indexed\n",
            "2025-02-26 13:10:43,429 INFO  [main] index.AbstractIndexer (AbstractIndexer.java:259) - 1,530,000 documents indexed\n",
            "2025-02-26 13:11:43,431 INFO  [main] index.AbstractIndexer (AbstractIndexer.java:259) - 1,650,000 documents indexed\n",
            "2025-02-26 13:12:43,434 INFO  [main] index.AbstractIndexer (AbstractIndexer.java:259) - 1,760,000 documents indexed\n",
            "2025-02-26 13:13:43,436 INFO  [main] index.AbstractIndexer (AbstractIndexer.java:259) - 1,890,000 documents indexed\n",
            "2025-02-26 13:14:43,438 INFO  [main] index.AbstractIndexer (AbstractIndexer.java:259) - 2,010,000 documents indexed\n",
            "2025-02-26 13:15:43,441 INFO  [main] index.AbstractIndexer (AbstractIndexer.java:259) - 2,130,000 documents indexed\n",
            "2025-02-26 13:16:43,443 INFO  [main] index.AbstractIndexer (AbstractIndexer.java:259) - 2,240,000 documents indexed\n",
            "2025-02-26 13:17:43,445 INFO  [main] index.AbstractIndexer (AbstractIndexer.java:259) - 2,360,000 documents indexed\n",
            "2025-02-26 13:18:43,447 INFO  [main] index.AbstractIndexer (AbstractIndexer.java:259) - 2,480,000 documents indexed\n",
            "2025-02-26 13:19:43,449 INFO  [main] index.AbstractIndexer (AbstractIndexer.java:259) - 2,600,000 documents indexed\n",
            "2025-02-26 13:20:43,451 INFO  [main] index.AbstractIndexer (AbstractIndexer.java:259) - 2,720,000 documents indexed\n",
            "2025-02-26 13:21:43,456 INFO  [main] index.AbstractIndexer (AbstractIndexer.java:259) - 2,860,000 documents indexed\n",
            "2025-02-26 13:22:43,458 INFO  [main] index.AbstractIndexer (AbstractIndexer.java:259) - 3,000,000 documents indexed\n",
            "2025-02-26 13:23:43,460 INFO  [main] index.AbstractIndexer (AbstractIndexer.java:259) - 3,130,000 documents indexed\n",
            "2025-02-26 13:25:04,895 INFO  [main] index.AbstractIndexer (AbstractIndexer.java:307) - Indexing Complete! 3,185,289 documents indexed\n",
            "2025-02-26 13:25:04,896 INFO  [main] index.AbstractIndexer (AbstractIndexer.java:308) - ============ Final Counter Values ============\n",
            "2025-02-26 13:25:04,896 INFO  [main] index.AbstractIndexer (AbstractIndexer.java:309) - indexed:        3,185,289\n",
            "2025-02-26 13:25:04,897 INFO  [main] index.AbstractIndexer (AbstractIndexer.java:310) - unindexable:            0\n",
            "2025-02-26 13:25:04,897 INFO  [main] index.AbstractIndexer (AbstractIndexer.java:311) - empty:                161\n",
            "2025-02-26 13:25:04,897 INFO  [main] index.AbstractIndexer (AbstractIndexer.java:312) - skipped:                0\n",
            "2025-02-26 13:25:04,898 INFO  [main] index.AbstractIndexer (AbstractIndexer.java:313) - errors:                 0\n",
            "2025-02-26 13:25:04,912 INFO  [main] index.AbstractIndexer (AbstractIndexer.java:316) - Total 3,185,289 documents indexed in 00:38:21\n",
            "Feb 26, 2025 1:25:06 PM org.apache.lucene.store.MemorySegmentIndexInputProvider <init>\n",
            "INFO: Using MemorySegmentIndexInput with Java 21; to disable start with -Dorg.apache.lucene.store.MMapDirectory.enableMemorySegments=false\n",
            "100% 19/19 [02:08<00:00,  6.78s/it]\n"
          ]
        }
      ]
    },
    {
      "cell_type": "code",
      "source": [
        "print(f\"DATA_PATH: {DATA_PATH}\")\n"
      ],
      "metadata": {
        "colab": {
          "base_uri": "https://localhost:8080/"
        },
        "id": "wSY_28-FxwDo",
        "outputId": "569efb9a-7feb-44d1-9d3a-96d47f8a012d"
      },
      "execution_count": null,
      "outputs": [
        {
          "output_type": "stream",
          "name": "stdout",
          "text": [
            "DATA_PATH: /content/drive/My Drive/FYP/DATA_PATH\n"
          ]
        }
      ]
    },
    {
      "cell_type": "code",
      "source": [
        "!python bm25.py --index_name bm25 --index_path ./anserini_indicies \\\n",
        "               --data_path $DATA_PATH \\\n",
        "               --param_k1 1.0 --param_b 1.0 \\\n",
        "               --field text  --splits dev2-2024 \\\n",
        "               --run ./runs/bm25/dev2.run --run_format trec_eval --run_id baseline_bm25 \\\n",
        "               --negatives_out ./bm25_negatives/dev2-negatives.json"
      ],
      "metadata": {
        "colab": {
          "base_uri": "https://localhost:8080/"
        },
        "id": "uMpQ0oPio1mO",
        "outputId": "4481f662-7560-4d49-83da-db4ee4503bec"
      },
      "execution_count": null,
      "outputs": [
        {
          "output_type": "stream",
          "name": "stdout",
          "text": [
            "WARNING: Using incubator modules: jdk.incubator.vector\n",
            "2025-02-26 13:28:18.189125: E external/local_xla/xla/stream_executor/cuda/cuda_fft.cc:477] Unable to register cuFFT factory: Attempting to register factory for plugin cuFFT when one has already been registered\n",
            "WARNING: All log messages before absl::InitializeLog() is called are written to STDERR\n",
            "E0000 00:00:1740576498.224280   31962 cuda_dnn.cc:8310] Unable to register cuDNN factory: Attempting to register factory for plugin cuDNN when one has already been registered\n",
            "E0000 00:00:1740576498.235666   31962 cuda_blas.cc:1418] Unable to register cuBLAS factory: Attempting to register factory for plugin cuBLAS when one has already been registered\n",
            "2025-02-26 13:28:18.275217: I tensorflow/core/platform/cpu_feature_guard.cc:210] This TensorFlow binary is optimized to use available CPU instructions in performance-critical operations.\n",
            "To enable the following instructions: AVX2 FMA, in other operations, rebuild TensorFlow with the appropriate compiler flags.\n",
            "\n",
            "2025-02-26 13:28:25,890 - __main__ - WARNING - Index ./anserini_indicies/bm25 already exists!\n",
            "Feb 26, 2025 1:28:26 PM org.apache.lucene.store.MemorySegmentIndexInputProvider <init>\n",
            "INFO: Using MemorySegmentIndexInput with Java 21; to disable start with -Dorg.apache.lucene.store.MMapDirectory.enableMemorySegments=false\n",
            "100% 19/19 [02:11<00:00,  6.90s/it]\n"
          ]
        }
      ]
    },
    {
      "cell_type": "code",
      "source": [
        "## (once test split is released)\n",
        "!python bm25.py --index_name bm25 --index_path ./anserini_indicies \\\n",
        "               --data_path $DATA_PATH \\\n",
        "               --param_k1 1.0 --param_b 1.0 \\\n",
        "               --field text  --splits test-2024 \\\n",
        "               --run ./runs/bm25/test.run --run_format trec_eval --run_id baseline_bm25"
      ],
      "metadata": {
        "colab": {
          "base_uri": "https://localhost:8080/"
        },
        "id": "7wSIXwJPpzf6",
        "outputId": "420fbb71-24f9-4556-bb55-214f1340a23c"
      },
      "execution_count": null,
      "outputs": [
        {
          "output_type": "stream",
          "name": "stdout",
          "text": [
            "python3: can't open file '/content/bench/trec_eval/bm25.py': [Errno 2] No such file or directory\n"
          ]
        }
      ]
    },
    {
      "cell_type": "code",
      "source": [
        "!git clone https://github.com/usnistgov/trec_eval.git\n"
      ],
      "metadata": {
        "colab": {
          "base_uri": "https://localhost:8080/"
        },
        "id": "IY8Odpf9UpW2",
        "outputId": "98800a40-0ee2-4506-9b85-259cf6410793"
      },
      "execution_count": null,
      "outputs": [
        {
          "output_type": "stream",
          "name": "stdout",
          "text": [
            "Cloning into 'trec_eval'...\n",
            "remote: Enumerating objects: 1147, done.\u001b[K\n",
            "remote: Counting objects: 100% (296/296), done.\u001b[K\n",
            "remote: Compressing objects: 100% (100/100), done.\u001b[K\n",
            "remote: Total 1147 (delta 229), reused 241 (delta 190), pack-reused 851 (from 1)\u001b[K\n",
            "Receiving objects: 100% (1147/1147), 756.14 KiB | 14.00 MiB/s, done.\n",
            "Resolving deltas: 100% (773/773), done.\n"
          ]
        }
      ]
    },
    {
      "cell_type": "code",
      "source": [
        "%cd trec_eval\n"
      ],
      "metadata": {
        "colab": {
          "base_uri": "https://localhost:8080/"
        },
        "id": "3nb98gUEU96F",
        "outputId": "a9050451-f218-402e-9f19-604e7c2e6c11"
      },
      "execution_count": null,
      "outputs": [
        {
          "output_type": "stream",
          "name": "stdout",
          "text": [
            "/content/bench/trec_eval\n"
          ]
        }
      ]
    },
    {
      "cell_type": "code",
      "source": [
        "!make\n"
      ],
      "metadata": {
        "colab": {
          "base_uri": "https://localhost:8080/"
        },
        "id": "sjzpjz9AVAPK",
        "outputId": "dd5f06f5-caa4-4036-e079-43d33ee23605"
      },
      "execution_count": null,
      "outputs": [
        {
          "output_type": "stream",
          "name": "stdout",
          "text": [
            "gcc -g -I.  -Wall -Wno-macro-redefined -DVERSIONID=\\\"10.0-rc2\\\"  -o trec_eval trec_eval.c formats.c meas_init.c meas_acc.c meas_avg.c meas_print_single.c meas_print_final.c gain_init.c get_qrels.c get_trec_results.c get_prefs.c get_qrels_prefs.c get_qrels_jg.c form_res_rels.c form_res_rels_jg.c form_prefs_counts.c utility_pool.c get_zscores.c convert_zscores.c measures.c  m_map.c m_P.c m_num_q.c m_num_ret.c m_num_rel.c m_num_rel_ret.c m_gm_map.c m_Rprec.c m_recip_rank.c m_bpref.c m_iprec_at_recall.c m_recall.c m_Rprec_mult.c m_utility.c m_11pt_avg.c m_ndcg.c m_ndcg_cut.c m_Rndcg.c m_ndcg_rel.c m_binG.c m_G.c m_rel_P.c m_success.c m_infap.c m_map_cut.c m_gm_bpref.c m_runid.c m_relstring.c m_set_P.c m_set_recall.c m_set_rel_P.c m_set_map.c m_set_F.c m_num_nonrel_judged_ret.c m_prefs_num_prefs_poss.c m_prefs_num_prefs_ful.c m_prefs_num_prefs_ful_ret.c m_prefs_simp.c m_prefs_pair.c m_prefs_avgjg.c m_prefs_avgjg_Rnonrel.c m_prefs_simp_ret.c m_prefs_pair_ret.c m_prefs_avgjg_ret.c m_prefs_avgjg_Rnonrel_ret.c m_prefs_simp_imp.c m_prefs_pair_imp.c m_prefs_avgjg_imp.c m_map_avgjg.c m_Rprec_mult_avgjg.c m_P_avgjg.c m_yaap.c m_rbp.c m_rbp_resid.c m_unjudged.c -lm\n"
          ]
        }
      ]
    },
    {
      "cell_type": "code",
      "source": [
        "!cp trec_eval /usr/local/bin/\n"
      ],
      "metadata": {
        "id": "zVa9-Y13VCFv"
      },
      "execution_count": null,
      "outputs": []
    },
    {
      "cell_type": "code",
      "source": [
        "!trec_eval -version\n"
      ],
      "metadata": {
        "colab": {
          "base_uri": "https://localhost:8080/"
        },
        "id": "3Iv5MUtUVEId",
        "outputId": "ccc9d7fa-ae86-4c17-90bf-a351f6cc30d5"
      },
      "execution_count": null,
      "outputs": [
        {
          "output_type": "stream",
          "name": "stdout",
          "text": [
            "trec_eval version 10.0-rc2\n"
          ]
        }
      ]
    },
    {
      "cell_type": "code",
      "source": [
        "!ls -lh /content/bench/runs/bm25\n"
      ],
      "metadata": {
        "colab": {
          "base_uri": "https://localhost:8080/"
        },
        "id": "AHctc0tck4Cj",
        "outputId": "dd7c272d-d006-4693-8d31-42dc06d6888b"
      },
      "execution_count": null,
      "outputs": [
        {
          "output_type": "stream",
          "name": "stdout",
          "text": [
            "total 53M\n",
            "-rw-r--r-- 1 root root 7.4M Mar  2 07:34 dev1.run\n",
            "-rw-r--r-- 1 root root 7.4M Mar  2 07:34 dev2.run\n",
            "-rw-r--r-- 1 root root  31M Mar  2 07:34 test.run\n",
            "-rw-r--r-- 1 root root 7.4M Mar  2 07:34 train.run\n"
          ]
        }
      ]
    },
    {
      "cell_type": "code",
      "source": [
        "#train\n",
        "!trec_eval -m ndcg_cut.10,1000 -m recall.1000 -m recip_rank $DATA_PATH/train-2024/qrel.txt /content/bench/runs/bm25/train.run\n"
      ],
      "metadata": {
        "colab": {
          "base_uri": "https://localhost:8080/"
        },
        "id": "d1lKv7-4VHD6",
        "outputId": "b060248c-e225-4400-900c-62c9b9bfb13e"
      },
      "execution_count": null,
      "outputs": [
        {
          "output_type": "stream",
          "name": "stdout",
          "text": [
            "recip_rank            \tall\t0.0530\n",
            "recall_1000           \tall\t0.3400\n",
            "ndcg_cut_10           \tall\t0.0610\n",
            "ndcg_cut_1000         \tall\t0.0968\n"
          ]
        }
      ]
    },
    {
      "cell_type": "code",
      "source": [
        "# dev1\n",
        "!trec_eval -m ndcg_cut.10,1000 -m recall.1000  -m recip_rank $DATA_PATH/dev1-2024/qrel.txt /content/bench/runs/bm25/dev1.run"
      ],
      "metadata": {
        "colab": {
          "base_uri": "https://localhost:8080/"
        },
        "id": "lPEF4ybYqWI2",
        "outputId": "4a5b5fbc-7020-4cd0-a6f3-4e3a1d8539d8"
      },
      "execution_count": null,
      "outputs": [
        {
          "output_type": "stream",
          "name": "stdout",
          "text": [
            "recip_rank            \tall\t0.0676\n",
            "recall_1000           \tall\t0.3400\n",
            "ndcg_cut_10           \tall\t0.0701\n",
            "ndcg_cut_1000         \tall\t0.1053\n"
          ]
        }
      ]
    },
    {
      "cell_type": "code",
      "source": [
        "# dev2\n",
        "!trec_eval -m ndcg_cut.10,1000 -m recall.1000  -m recip_rank $DATA_PATH/dev2-2024/qrel.txt /content/bench/runs/bm25/dev2.run"
      ],
      "metadata": {
        "colab": {
          "base_uri": "https://localhost:8080/"
        },
        "id": "o4wM8exCqc57",
        "outputId": "30a72bec-8a81-4b7e-fa62-5c16fd300fa4"
      },
      "execution_count": null,
      "outputs": [
        {
          "output_type": "stream",
          "name": "stdout",
          "text": [
            "recip_rank            \tall\t0.0590\n",
            "recall_1000           \tall\t0.3600\n",
            "ndcg_cut_10           \tall\t0.0657\n",
            "ndcg_cut_1000         \tall\t0.1033\n"
          ]
        }
      ]
    },
    {
      "cell_type": "code",
      "source": [
        "# test\n",
        "!trec_eval -m ndcg_cut.10,1000 -m recall.1000  -m recip_rank $DATA_PATH/dev2-2024/qrel.txt /content/bench/runs/bm25/test.run"
      ],
      "metadata": {
        "colab": {
          "base_uri": "https://localhost:8080/"
        },
        "id": "29aoLxlHVV7k",
        "outputId": "da572415-22a6-49e1-b5ff-4b3907f008d0"
      },
      "execution_count": null,
      "outputs": [
        {
          "output_type": "stream",
          "name": "stdout",
          "text": [
            "trec_eval: No queries with both results and relevance info\n"
          ]
        }
      ]
    },
    {
      "cell_type": "markdown",
      "source": [
        "DENSE MODEL"
      ],
      "metadata": {
        "id": "oTPufjLafEur"
      }
    },
    {
      "cell_type": "code",
      "source": [],
      "metadata": {
        "id": "5vMqhZwr0B-2"
      },
      "execution_count": null,
      "outputs": []
    },
    {
      "cell_type": "code",
      "source": [
        "!ls -lh /content/bench/trec_eval\n"
      ],
      "metadata": {
        "colab": {
          "base_uri": "https://localhost:8080/"
        },
        "id": "EmSY-rxSgyW5",
        "outputId": "a5399fef-d46d-4db1-ddbd-81864f18b3d5"
      },
      "execution_count": null,
      "outputs": [
        {
          "output_type": "stream",
          "name": "stdout",
          "text": [
            "total 1.1M\n",
            "-rw-r--r-- 1 root root 8.1K Mar  2 07:38 bpref_bug\n",
            "-rw-r--r-- 1 root root 1.2K Mar  2 07:38 build.bat\n",
            "-rw-r--r-- 1 root root 4.7K Mar  2 07:38 CHANGELOG\n",
            "-rw-r--r-- 1 root root  904 Mar  2 07:38 common.h\n",
            "-rw-r--r-- 1 root root 3.2K Mar  2 07:38 convert_zscores.c\n",
            "-rw-r--r-- 1 root root  13K Mar  2 07:38 formats.c\n",
            "-rw-r--r-- 1 root root  43K Mar  2 07:38 form_prefs_counts.c\n",
            "-rw-r--r-- 1 root root 9.9K Mar  2 07:38 form_res_rels.c\n",
            "-rw-r--r-- 1 root root  11K Mar  2 07:38 form_res_rels_jg.c\n",
            "-rw-r--r-- 1 root root 5.3K Mar  2 07:38 functions.h\n",
            "-rw-r--r-- 1 root root 2.9K Mar  2 07:38 gain_init.c\n",
            "-rw-r--r-- 1 root root  12K Mar  2 07:38 get_prefs.c\n",
            "-rw-r--r-- 1 root root 8.0K Mar  2 07:38 get_qrels.c\n",
            "-rw-r--r-- 1 root root 9.7K Mar  2 07:38 get_qrels_jg.c\n",
            "-rw-r--r-- 1 root root 9.6K Mar  2 07:38 get_qrels_prefs.c\n",
            "-rw-r--r-- 1 root root 8.6K Mar  2 07:38 get_trec_results.c\n",
            "-rw-r--r-- 1 root root 6.6K Mar  2 07:38 get_zscores.c\n",
            "-rw-r--r-- 1 root root 4.2K Mar  2 07:38 m_11pt_avg.c\n",
            "-rw-r--r-- 1 root root 6.8K Mar  2 07:38 Makefile\n",
            "-rw-r--r-- 1 root root 2.0K Mar  2 07:38 m_binG.c\n",
            "-rw-r--r-- 1 root root 3.1K Mar  2 07:38 m_bpref.c\n",
            "-rw-r--r-- 1 root root 1.7K Mar  2 07:38 meas_acc.c\n",
            "-rw-r--r-- 1 root root 2.6K Mar  2 07:38 meas_avg.c\n",
            "-rw-r--r-- 1 root root  17K Mar  2 07:38 meas_init.c\n",
            "-rw-r--r-- 1 root root 3.2K Mar  2 07:38 meas_print_final.c\n",
            "-rw-r--r-- 1 root root 2.7K Mar  2 07:38 meas_print_single.c\n",
            "-rw-r--r-- 1 root root 8.1K Mar  2 07:38 measures.c\n",
            "-rw-r--r-- 1 root root 5.2K Mar  2 07:38 m_G.c\n",
            "-rw-r--r-- 1 root root 3.5K Mar  2 07:38 m_gm_bpref.c\n",
            "-rw-r--r-- 1 root root 1.9K Mar  2 07:38 m_gm_map.c\n",
            "-rw-r--r-- 1 root root 3.3K Mar  2 07:38 m_infap.c\n",
            "-rw-r--r-- 1 root root 3.9K Mar  2 07:38 m_iprec_at_recall.c\n",
            "drwxr-xr-x 2 root root 4.0K Mar  2 07:38 mman-win32\n",
            "-rw-r--r-- 1 root root 2.2K Mar  2 07:38 m_map_avgjg.c\n",
            "-rw-r--r-- 1 root root 2.4K Mar  2 07:38 m_map.c\n",
            "-rw-r--r-- 1 root root 2.7K Mar  2 07:38 m_map_cut.c\n",
            "-rw-r--r-- 1 root root 5.3K Mar  2 07:38 m_ndcg.c\n",
            "-rw-r--r-- 1 root root 4.7K Mar  2 07:38 m_ndcg_cut.c\n",
            "-rw-r--r-- 1 root root 3.4K Mar  2 07:38 m_ndcg_p.c\n",
            "-rw-r--r-- 1 root root 6.0K Mar  2 07:38 m_ndcg_rel.c\n",
            "-rw-r--r-- 1 root root 1.5K Mar  2 07:38 m_num_nonrel_judged_ret.c\n",
            "-rw-r--r-- 1 root root 1.8K Mar  2 07:38 m_num_q.c\n",
            "-rw-r--r-- 1 root root 3.2K Mar  2 07:38 m_num_rel.c\n",
            "-rw-r--r-- 1 root root 1.5K Mar  2 07:38 m_num_rel_ret.c\n",
            "-rw-r--r-- 1 root root 1.4K Mar  2 07:38 m_num_ret.c\n",
            "-rw-r--r-- 1 root root 3.1K Mar  2 07:38 m_P_avgjg.c\n",
            "-rw-r--r-- 1 root root 3.0K Mar  2 07:38 m_P.c\n",
            "-rw-r--r-- 1 root root 2.5K Mar  2 07:38 m_prefs_avgjg.c\n",
            "-rw-r--r-- 1 root root 2.6K Mar  2 07:38 m_prefs_avgjg_imp.c\n",
            "-rw-r--r-- 1 root root 2.4K Mar  2 07:38 m_prefs_avgjg_ret.c\n",
            "-rw-r--r-- 1 root root 9.0K Mar  2 07:38 m_prefs_avgjg_Rnonrel.c\n",
            "-rw-r--r-- 1 root root 8.0K Mar  2 07:38 m_prefs_avgjg_Rnonrel_ret.c\n",
            "-rw-r--r-- 1 root root 1.7K Mar  2 07:38 m_prefs_num_prefs_ful.c\n",
            "-rw-r--r-- 1 root root 1.6K Mar  2 07:38 m_prefs_num_prefs_ful_ret.c\n",
            "-rw-r--r-- 1 root root 1.6K Mar  2 07:38 m_prefs_num_prefs_poss.c\n",
            "-rw-r--r-- 1 root root 2.8K Mar  2 07:38 m_prefs_pair.c\n",
            "-rw-r--r-- 1 root root 2.7K Mar  2 07:38 m_prefs_pair_imp.c\n",
            "-rw-r--r-- 1 root root 2.4K Mar  2 07:38 m_prefs_pair_ret.c\n",
            "-rw-r--r-- 1 root root 2.1K Mar  2 07:38 m_prefs_simp.c\n",
            "-rw-r--r-- 1 root root 2.2K Mar  2 07:38 m_prefs_simp_imp.c\n",
            "-rw-r--r-- 1 root root 2.1K Mar  2 07:38 m_prefs_simp_ret.c\n",
            "-rw-r--r-- 1 root root 3.3K Mar  2 07:38 m_rbp.c\n",
            "-rw-r--r-- 1 root root 2.9K Mar  2 07:38 m_rbp_resid.c\n",
            "-rw-r--r-- 1 root root 2.6K Mar  2 07:38 m_recall.c\n",
            "-rw-r--r-- 1 root root 1.5K Mar  2 07:38 m_recip_rank.c\n",
            "-rw-r--r-- 1 root root 2.6K Mar  2 07:38 m_rel_P.c\n",
            "-rw-r--r-- 1 root root 3.4K Mar  2 07:38 m_relstring.c\n",
            "-rw-r--r-- 1 root root 6.5K Mar  2 07:38 m_Rndcg.c\n",
            "-rw-r--r-- 1 root root 2.2K Mar  2 07:38 m_Rprec.c\n",
            "-rw-r--r-- 1 root root 4.1K Mar  2 07:38 m_Rprec_mult_avgjg.c\n",
            "-rw-r--r-- 1 root root 3.4K Mar  2 07:38 m_Rprec_mult.c\n",
            "-rw-r--r-- 1 root root 1.2K Mar  2 07:38 m_runid.c\n",
            "-rw-r--r-- 1 root root 1.9K Mar  2 07:38 m_set_F.c\n",
            "-rw-r--r-- 1 root root 1.7K Mar  2 07:38 m_set_map.c\n",
            "-rw-r--r-- 1 root root 1.5K Mar  2 07:38 m_set_P.c\n",
            "-rw-r--r-- 1 root root 1.4K Mar  2 07:38 m_set_recall.c\n",
            "-rw-r--r-- 1 root root 1.6K Mar  2 07:38 m_set_rel_P.c\n",
            "-rw-r--r-- 1 root root 2.5K Mar  2 07:38 m_success.c\n",
            "-rw-r--r-- 1 root root 2.8K Mar  2 07:38 m_unjudged.c\n",
            "-rw-r--r-- 1 root root 2.8K Mar  2 07:38 m_utility.c\n",
            "-rw-r--r-- 1 root root 1.9K Mar  2 07:38 m_yaap.c\n",
            "-rw-r--r-- 1 root root 2.1K Mar  2 07:38 quicktest.bat\n",
            "-rw-r--r-- 1 root root 8.8K Mar  2 07:38 README\n",
            "drwxr-xr-x 2 root root 4.0K Mar  2 07:38 strings_h\n",
            "-rw-r--r-- 1 root root 1.5K Mar  2 07:38 sysfunc.h\n",
            "drwxr-xr-x 2 root root 4.0K Mar  2 07:38 test\n",
            "-rwxr-xr-x 1 root root 440K Mar  2 07:38 trec_eval\n",
            "-rw-r--r-- 1 root root  23K Mar  2 07:38 trec_eval.c\n",
            "-rw-r--r-- 1 root root 1.2K Mar  2 07:38 trec_eval_compressed\n",
            "-rw-r--r-- 1 root root  11K Mar  2 07:38 trec_eval.h\n",
            "-rw-r--r-- 1 root root  13K Mar  2 07:38 trec_format.h\n",
            "-rw-r--r-- 1 root root 1.7K Mar  2 07:38 utility_pool.c\n",
            "drwxr-xr-x 2 root root 4.0K Mar  2 07:38 ya_getopt\n"
          ]
        }
      ]
    },
    {
      "cell_type": "code",
      "source": [
        "!find /content -name \"train_dense.py\"\n"
      ],
      "metadata": {
        "colab": {
          "base_uri": "https://localhost:8080/"
        },
        "id": "JVj37VkghUUm",
        "outputId": "637cbf1a-e0af-4612-e5b4-0c525ecb7b90"
      },
      "execution_count": null,
      "outputs": [
        {
          "output_type": "stream",
          "name": "stdout",
          "text": [
            "/content/bench/train_dense.py\n"
          ]
        }
      ]
    },
    {
      "cell_type": "code",
      "source": [
        "%cd ..\n"
      ],
      "metadata": {
        "colab": {
          "base_uri": "https://localhost:8080/"
        },
        "id": "6JSs4SYDhxx2",
        "outputId": "6408fc93-cf82-401b-f25b-7f04a1123b43"
      },
      "execution_count": null,
      "outputs": [
        {
          "output_type": "stream",
          "name": "stdout",
          "text": [
            "/content/bench\n"
          ]
        }
      ]
    },
    {
      "cell_type": "code",
      "source": [
        "# file_path = \"/content/bench/src/data.py\"\n",
        "\n",
        "# # Read the file\n",
        "# with open(file_path, \"r\") as file:\n",
        "#     content = file.read()\n",
        "\n",
        "# # Replace 'T_co' with 'T'\n",
        "# content = content.replace(\"from torch.utils.data.dataset import T_co\",\n",
        "#                           \"from torch.utils.data.dataset import T\")\n",
        "\n",
        "# # Write the changes back\n",
        "# with open(file_path, \"w\") as file:\n",
        "#     file.write(content)\n",
        "\n",
        "# print(\"✅ Successfully updated `data.py`!\")\n"
      ],
      "metadata": {
        "colab": {
          "base_uri": "https://localhost:8080/"
        },
        "id": "l-J4wSB4iWed",
        "outputId": "39052f9d-ee80-4e32-b54e-7f2216b953ed"
      },
      "execution_count": null,
      "outputs": [
        {
          "output_type": "stream",
          "name": "stdout",
          "text": [
            "✅ Successfully updated `data.py`!\n"
          ]
        }
      ]
    },
    {
      "cell_type": "code",
      "source": [
        "# file_path = \"/content/bench/src/data.py\"\n",
        "\n",
        "# # Read the file\n",
        "# with open(file_path, \"r\") as file:\n",
        "#     lines = file.readlines()\n",
        "\n",
        "# # Remove the line that imports T_co or T\n",
        "# lines = [line for line in lines if \"from torch.utils.data.dataset import T\" not in line]\n",
        "# lines = [line for line in lines if \"from torch.utils.data.dataset import T_co\" not in line]\n",
        "\n",
        "# # Write the updated content back to the file\n",
        "# with open(file_path, \"w\") as file:\n",
        "#     file.writelines(lines)\n",
        "\n",
        "# print(\"✅ Successfully fixed `data.py` by removing incorrect imports!\")\n"
      ],
      "metadata": {
        "colab": {
          "base_uri": "https://localhost:8080/"
        },
        "id": "WD6JWSnciwiN",
        "outputId": "c4444f1f-d412-4fe7-bd8a-5af34ad56ed0"
      },
      "execution_count": null,
      "outputs": [
        {
          "output_type": "stream",
          "name": "stdout",
          "text": [
            "✅ Successfully fixed `data.py` by removing incorrect imports!\n"
          ]
        }
      ]
    },
    {
      "cell_type": "code",
      "source": [
        "file_path = \"/content/bench/src/data.py\"\n",
        "\n",
        "# Read the file content\n",
        "with open(file_path, \"r\") as f:\n",
        "    content = f.read()\n",
        "\n",
        "# Remove the type annotation \"-> T_co\"\n",
        "import re\n",
        "content_fixed = re.sub(r\"->\\s*T_co\", \"\", content)\n",
        "\n",
        "# Write the updated content back\n",
        "with open(file_path, \"w\") as f:\n",
        "    f.write(content_fixed)\n",
        "\n",
        "print(\"✅ Removed '-> T_co' from data.py successfully!\")\n"
      ],
      "metadata": {
        "colab": {
          "base_uri": "https://localhost:8080/"
        },
        "id": "79xxRqEMjFMW",
        "outputId": "8640e18a-2047-499f-e394-9e14acd25d98"
      },
      "execution_count": null,
      "outputs": [
        {
          "output_type": "stream",
          "name": "stdout",
          "text": [
            "✅ Removed '-> T_co' from data.py successfully!\n"
          ]
        }
      ]
    },
    {
      "cell_type": "code",
      "source": [
        "!pip install faiss-cpu\n"
      ],
      "metadata": {
        "colab": {
          "base_uri": "https://localhost:8080/"
        },
        "id": "bLv40mHyjS7w",
        "outputId": "721fdba9-2d95-400b-f7a6-90c525d50db3"
      },
      "execution_count": null,
      "outputs": [
        {
          "output_type": "stream",
          "name": "stdout",
          "text": [
            "Collecting faiss-cpu\n",
            "  Downloading faiss_cpu-1.10.0-cp311-cp311-manylinux_2_28_x86_64.whl.metadata (4.4 kB)\n",
            "Requirement already satisfied: numpy<3.0,>=1.25.0 in /usr/local/lib/python3.11/dist-packages (from faiss-cpu) (1.26.4)\n",
            "Requirement already satisfied: packaging in /usr/local/lib/python3.11/dist-packages (from faiss-cpu) (24.2)\n",
            "Downloading faiss_cpu-1.10.0-cp311-cp311-manylinux_2_28_x86_64.whl (30.7 MB)\n",
            "\u001b[2K   \u001b[90m━━━━━━━━━━━━━━━━━━━━━━━━━━━━━━━━━━━━━━━━\u001b[0m \u001b[32m30.7/30.7 MB\u001b[0m \u001b[31m53.6 MB/s\u001b[0m eta \u001b[36m0:00:00\u001b[0m\n",
            "\u001b[?25hInstalling collected packages: faiss-cpu\n",
            "Successfully installed faiss-cpu-1.10.0\n"
          ]
        }
      ]
    },
    {
      "cell_type": "code",
      "source": [
        "!pip install datasets"
      ],
      "metadata": {
        "colab": {
          "base_uri": "https://localhost:8080/"
        },
        "id": "86_oKpx1mmox",
        "outputId": "76004a44-0919-41e8-a807-a0a558605632"
      },
      "execution_count": null,
      "outputs": [
        {
          "output_type": "stream",
          "name": "stdout",
          "text": [
            "Collecting datasets\n",
            "  Downloading datasets-3.3.2-py3-none-any.whl.metadata (19 kB)\n",
            "Requirement already satisfied: filelock in /usr/local/lib/python3.11/dist-packages (from datasets) (3.17.0)\n",
            "Requirement already satisfied: numpy>=1.17 in /usr/local/lib/python3.11/dist-packages (from datasets) (1.26.4)\n",
            "Requirement already satisfied: pyarrow>=15.0.0 in /usr/local/lib/python3.11/dist-packages (from datasets) (18.1.0)\n",
            "Collecting dill<0.3.9,>=0.3.0 (from datasets)\n",
            "  Downloading dill-0.3.8-py3-none-any.whl.metadata (10 kB)\n",
            "Requirement already satisfied: pandas in /usr/local/lib/python3.11/dist-packages (from datasets) (2.2.2)\n",
            "Requirement already satisfied: requests>=2.32.2 in /usr/local/lib/python3.11/dist-packages (from datasets) (2.32.3)\n",
            "Requirement already satisfied: tqdm>=4.66.3 in /usr/local/lib/python3.11/dist-packages (from datasets) (4.67.1)\n",
            "Collecting xxhash (from datasets)\n",
            "  Downloading xxhash-3.5.0-cp311-cp311-manylinux_2_17_x86_64.manylinux2014_x86_64.whl.metadata (12 kB)\n",
            "Collecting multiprocess<0.70.17 (from datasets)\n",
            "  Downloading multiprocess-0.70.16-py311-none-any.whl.metadata (7.2 kB)\n",
            "Requirement already satisfied: fsspec<=2024.12.0,>=2023.1.0 in /usr/local/lib/python3.11/dist-packages (from fsspec[http]<=2024.12.0,>=2023.1.0->datasets) (2024.10.0)\n",
            "Requirement already satisfied: aiohttp in /usr/local/lib/python3.11/dist-packages (from datasets) (3.11.13)\n",
            "Requirement already satisfied: huggingface-hub>=0.24.0 in /usr/local/lib/python3.11/dist-packages (from datasets) (0.28.1)\n",
            "Requirement already satisfied: packaging in /usr/local/lib/python3.11/dist-packages (from datasets) (24.2)\n",
            "Requirement already satisfied: pyyaml>=5.1 in /usr/local/lib/python3.11/dist-packages (from datasets) (6.0.2)\n",
            "Requirement already satisfied: aiohappyeyeballs>=2.3.0 in /usr/local/lib/python3.11/dist-packages (from aiohttp->datasets) (2.4.6)\n",
            "Requirement already satisfied: aiosignal>=1.1.2 in /usr/local/lib/python3.11/dist-packages (from aiohttp->datasets) (1.3.2)\n",
            "Requirement already satisfied: attrs>=17.3.0 in /usr/local/lib/python3.11/dist-packages (from aiohttp->datasets) (25.1.0)\n",
            "Requirement already satisfied: frozenlist>=1.1.1 in /usr/local/lib/python3.11/dist-packages (from aiohttp->datasets) (1.5.0)\n",
            "Requirement already satisfied: multidict<7.0,>=4.5 in /usr/local/lib/python3.11/dist-packages (from aiohttp->datasets) (6.1.0)\n",
            "Requirement already satisfied: propcache>=0.2.0 in /usr/local/lib/python3.11/dist-packages (from aiohttp->datasets) (0.3.0)\n",
            "Requirement already satisfied: yarl<2.0,>=1.17.0 in /usr/local/lib/python3.11/dist-packages (from aiohttp->datasets) (1.18.3)\n",
            "Requirement already satisfied: typing-extensions>=3.7.4.3 in /usr/local/lib/python3.11/dist-packages (from huggingface-hub>=0.24.0->datasets) (4.12.2)\n",
            "Requirement already satisfied: charset-normalizer<4,>=2 in /usr/local/lib/python3.11/dist-packages (from requests>=2.32.2->datasets) (3.4.1)\n",
            "Requirement already satisfied: idna<4,>=2.5 in /usr/local/lib/python3.11/dist-packages (from requests>=2.32.2->datasets) (3.10)\n",
            "Requirement already satisfied: urllib3<3,>=1.21.1 in /usr/local/lib/python3.11/dist-packages (from requests>=2.32.2->datasets) (2.3.0)\n",
            "Requirement already satisfied: certifi>=2017.4.17 in /usr/local/lib/python3.11/dist-packages (from requests>=2.32.2->datasets) (2025.1.31)\n",
            "Requirement already satisfied: python-dateutil>=2.8.2 in /usr/local/lib/python3.11/dist-packages (from pandas->datasets) (2.8.2)\n",
            "Requirement already satisfied: pytz>=2020.1 in /usr/local/lib/python3.11/dist-packages (from pandas->datasets) (2025.1)\n",
            "Requirement already satisfied: tzdata>=2022.7 in /usr/local/lib/python3.11/dist-packages (from pandas->datasets) (2025.1)\n",
            "Requirement already satisfied: six>=1.5 in /usr/local/lib/python3.11/dist-packages (from python-dateutil>=2.8.2->pandas->datasets) (1.17.0)\n",
            "Downloading datasets-3.3.2-py3-none-any.whl (485 kB)\n",
            "\u001b[2K   \u001b[90m━━━━━━━━━━━━━━━━━━━━━━━━━━━━━━━━━━━━━━━━\u001b[0m \u001b[32m485.4/485.4 kB\u001b[0m \u001b[31m8.9 MB/s\u001b[0m eta \u001b[36m0:00:00\u001b[0m\n",
            "\u001b[?25hDownloading dill-0.3.8-py3-none-any.whl (116 kB)\n",
            "\u001b[2K   \u001b[90m━━━━━━━━━━━━━━━━━━━━━━━━━━━━━━━━━━━━━━━━\u001b[0m \u001b[32m116.3/116.3 kB\u001b[0m \u001b[31m5.2 MB/s\u001b[0m eta \u001b[36m0:00:00\u001b[0m\n",
            "\u001b[?25hDownloading multiprocess-0.70.16-py311-none-any.whl (143 kB)\n",
            "\u001b[2K   \u001b[90m━━━━━━━━━━━━━━━━━━━━━━━━━━━━━━━━━━━━━━━━\u001b[0m \u001b[32m143.5/143.5 kB\u001b[0m \u001b[31m8.4 MB/s\u001b[0m eta \u001b[36m0:00:00\u001b[0m\n",
            "\u001b[?25hDownloading xxhash-3.5.0-cp311-cp311-manylinux_2_17_x86_64.manylinux2014_x86_64.whl (194 kB)\n",
            "\u001b[2K   \u001b[90m━━━━━━━━━━━━━━━━━━━━━━━━━━━━━━━━━━━━━━━━\u001b[0m \u001b[32m194.8/194.8 kB\u001b[0m \u001b[31m8.9 MB/s\u001b[0m eta \u001b[36m0:00:00\u001b[0m\n",
            "\u001b[?25hInstalling collected packages: xxhash, dill, multiprocess, datasets\n",
            "Successfully installed datasets-3.3.2 dill-0.3.8 multiprocess-0.70.16 xxhash-3.5.0\n"
          ]
        }
      ]
    },
    {
      "cell_type": "code",
      "source": [
        "!grep -rnw \"/content/bench/src/data.py\" -e \"InformationRetrievalEvaluator\"\n"
      ],
      "metadata": {
        "colab": {
          "base_uri": "https://localhost:8080/"
        },
        "id": "JF_lmSG6s89G",
        "outputId": "e4ba3565-09f2-4df6-96c3-ea98a05a8abb"
      },
      "execution_count": null,
      "outputs": [
        {
          "output_type": "stream",
          "name": "stdout",
          "text": [
            "130:class IrEvaluator(evaluation.InformationRetrievalEvaluator):\n"
          ]
        }
      ]
    },
    {
      "cell_type": "code",
      "source": [
        "!pip install sentence_transformers"
      ],
      "metadata": {
        "colab": {
          "base_uri": "https://localhost:8080/"
        },
        "id": "FsJ4VukauNV0",
        "outputId": "4313ba9f-c647-45f5-e67d-05f91f309271"
      },
      "execution_count": null,
      "outputs": [
        {
          "output_type": "stream",
          "name": "stdout",
          "text": [
            "Requirement already satisfied: sentence_transformers in /usr/local/lib/python3.11/dist-packages (3.4.1)\n",
            "Requirement already satisfied: transformers<5.0.0,>=4.41.0 in /usr/local/lib/python3.11/dist-packages (from sentence_transformers) (4.48.3)\n",
            "Requirement already satisfied: tqdm in /usr/local/lib/python3.11/dist-packages (from sentence_transformers) (4.67.1)\n",
            "Requirement already satisfied: torch>=1.11.0 in /usr/local/lib/python3.11/dist-packages (from sentence_transformers) (2.5.1+cu124)\n",
            "Requirement already satisfied: scikit-learn in /usr/local/lib/python3.11/dist-packages (from sentence_transformers) (1.6.1)\n",
            "Requirement already satisfied: scipy in /usr/local/lib/python3.11/dist-packages (from sentence_transformers) (1.13.1)\n",
            "Requirement already satisfied: huggingface-hub>=0.20.0 in /usr/local/lib/python3.11/dist-packages (from sentence_transformers) (0.28.1)\n",
            "Requirement already satisfied: Pillow in /usr/local/lib/python3.11/dist-packages (from sentence_transformers) (11.1.0)\n",
            "Requirement already satisfied: filelock in /usr/local/lib/python3.11/dist-packages (from huggingface-hub>=0.20.0->sentence_transformers) (3.17.0)\n",
            "Requirement already satisfied: fsspec>=2023.5.0 in /usr/local/lib/python3.11/dist-packages (from huggingface-hub>=0.20.0->sentence_transformers) (2024.10.0)\n",
            "Requirement already satisfied: packaging>=20.9 in /usr/local/lib/python3.11/dist-packages (from huggingface-hub>=0.20.0->sentence_transformers) (24.2)\n",
            "Requirement already satisfied: pyyaml>=5.1 in /usr/local/lib/python3.11/dist-packages (from huggingface-hub>=0.20.0->sentence_transformers) (6.0.2)\n",
            "Requirement already satisfied: requests in /usr/local/lib/python3.11/dist-packages (from huggingface-hub>=0.20.0->sentence_transformers) (2.32.3)\n",
            "Requirement already satisfied: typing-extensions>=3.7.4.3 in /usr/local/lib/python3.11/dist-packages (from huggingface-hub>=0.20.0->sentence_transformers) (4.12.2)\n",
            "Requirement already satisfied: networkx in /usr/local/lib/python3.11/dist-packages (from torch>=1.11.0->sentence_transformers) (3.4.2)\n",
            "Requirement already satisfied: jinja2 in /usr/local/lib/python3.11/dist-packages (from torch>=1.11.0->sentence_transformers) (3.1.5)\n",
            "Requirement already satisfied: nvidia-cuda-nvrtc-cu12==12.4.127 in /usr/local/lib/python3.11/dist-packages (from torch>=1.11.0->sentence_transformers) (12.4.127)\n",
            "Requirement already satisfied: nvidia-cuda-runtime-cu12==12.4.127 in /usr/local/lib/python3.11/dist-packages (from torch>=1.11.0->sentence_transformers) (12.4.127)\n",
            "Requirement already satisfied: nvidia-cuda-cupti-cu12==12.4.127 in /usr/local/lib/python3.11/dist-packages (from torch>=1.11.0->sentence_transformers) (12.4.127)\n",
            "Requirement already satisfied: nvidia-cudnn-cu12==9.1.0.70 in /usr/local/lib/python3.11/dist-packages (from torch>=1.11.0->sentence_transformers) (9.1.0.70)\n",
            "Requirement already satisfied: nvidia-cublas-cu12==12.4.5.8 in /usr/local/lib/python3.11/dist-packages (from torch>=1.11.0->sentence_transformers) (12.4.5.8)\n",
            "Requirement already satisfied: nvidia-cufft-cu12==11.2.1.3 in /usr/local/lib/python3.11/dist-packages (from torch>=1.11.0->sentence_transformers) (11.2.1.3)\n",
            "Requirement already satisfied: nvidia-curand-cu12==10.3.5.147 in /usr/local/lib/python3.11/dist-packages (from torch>=1.11.0->sentence_transformers) (10.3.5.147)\n",
            "Requirement already satisfied: nvidia-cusolver-cu12==11.6.1.9 in /usr/local/lib/python3.11/dist-packages (from torch>=1.11.0->sentence_transformers) (11.6.1.9)\n",
            "Requirement already satisfied: nvidia-cusparse-cu12==12.3.1.170 in /usr/local/lib/python3.11/dist-packages (from torch>=1.11.0->sentence_transformers) (12.3.1.170)\n",
            "Requirement already satisfied: nvidia-nccl-cu12==2.21.5 in /usr/local/lib/python3.11/dist-packages (from torch>=1.11.0->sentence_transformers) (2.21.5)\n",
            "Requirement already satisfied: nvidia-nvtx-cu12==12.4.127 in /usr/local/lib/python3.11/dist-packages (from torch>=1.11.0->sentence_transformers) (12.4.127)\n",
            "Requirement already satisfied: nvidia-nvjitlink-cu12==12.4.127 in /usr/local/lib/python3.11/dist-packages (from torch>=1.11.0->sentence_transformers) (12.4.127)\n",
            "Requirement already satisfied: triton==3.1.0 in /usr/local/lib/python3.11/dist-packages (from torch>=1.11.0->sentence_transformers) (3.1.0)\n",
            "Requirement already satisfied: sympy==1.13.1 in /usr/local/lib/python3.11/dist-packages (from torch>=1.11.0->sentence_transformers) (1.13.1)\n",
            "Requirement already satisfied: mpmath<1.4,>=1.1.0 in /usr/local/lib/python3.11/dist-packages (from sympy==1.13.1->torch>=1.11.0->sentence_transformers) (1.3.0)\n",
            "Requirement already satisfied: numpy>=1.17 in /usr/local/lib/python3.11/dist-packages (from transformers<5.0.0,>=4.41.0->sentence_transformers) (1.26.4)\n",
            "Requirement already satisfied: regex!=2019.12.17 in /usr/local/lib/python3.11/dist-packages (from transformers<5.0.0,>=4.41.0->sentence_transformers) (2024.11.6)\n",
            "Requirement already satisfied: tokenizers<0.22,>=0.21 in /usr/local/lib/python3.11/dist-packages (from transformers<5.0.0,>=4.41.0->sentence_transformers) (0.21.0)\n",
            "Requirement already satisfied: safetensors>=0.4.1 in /usr/local/lib/python3.11/dist-packages (from transformers<5.0.0,>=4.41.0->sentence_transformers) (0.5.3)\n",
            "Requirement already satisfied: joblib>=1.2.0 in /usr/local/lib/python3.11/dist-packages (from scikit-learn->sentence_transformers) (1.4.2)\n",
            "Requirement already satisfied: threadpoolctl>=3.1.0 in /usr/local/lib/python3.11/dist-packages (from scikit-learn->sentence_transformers) (3.5.0)\n",
            "Requirement already satisfied: MarkupSafe>=2.0 in /usr/local/lib/python3.11/dist-packages (from jinja2->torch>=1.11.0->sentence_transformers) (3.0.2)\n",
            "Requirement already satisfied: charset-normalizer<4,>=2 in /usr/local/lib/python3.11/dist-packages (from requests->huggingface-hub>=0.20.0->sentence_transformers) (3.4.1)\n",
            "Requirement already satisfied: idna<4,>=2.5 in /usr/local/lib/python3.11/dist-packages (from requests->huggingface-hub>=0.20.0->sentence_transformers) (3.10)\n",
            "Requirement already satisfied: urllib3<3,>=1.21.1 in /usr/local/lib/python3.11/dist-packages (from requests->huggingface-hub>=0.20.0->sentence_transformers) (2.3.0)\n",
            "Requirement already satisfied: certifi>=2017.4.17 in /usr/local/lib/python3.11/dist-packages (from requests->huggingface-hub>=0.20.0->sentence_transformers) (2025.1.31)\n"
          ]
        }
      ]
    },
    {
      "cell_type": "code",
      "source": [
        "from sentence_transformers import evaluation\n",
        "\n",
        "class IrEvaluator(evaluation.InformationRetrievalEvaluator):\n",
        "    def __init__(self, queries, corpus, relevant_docs, score_functions=None, **kwargs):\n",
        "        if score_functions is None:\n",
        "            score_functions = ['cosine', 'dot']  # Default similarity functions\n",
        "        super().__init__(queries, corpus, relevant_docs, score_functions=score_functions, **kwargs)\n"
      ],
      "metadata": {
        "id": "HjqDwBxnuLT7"
      },
      "execution_count": null,
      "outputs": []
    },
    {
      "cell_type": "code",
      "source": [
        "import os\n",
        "\n",
        "file_path = \"/content/bench/src/data.py\"\n",
        "\n",
        "# Read the file\n",
        "with open(file_path, \"r\") as file:\n",
        "    content = file.read()\n",
        "\n",
        "# Replace 'T_co' with 'Any'\n",
        "content = content.replace(\"from torch.utils.data.dataset import T_co\",\n",
        "                          \"from typing import Any\")\n",
        "\n",
        "# Replace all occurrences of `T_co`\n",
        "content = content.replace(\"-> T_co\", \"-> Any\")\n",
        "\n",
        "# Write the fixed content back to the file\n",
        "with open(file_path, \"w\") as file:\n",
        "    file.write(content)\n",
        "\n",
        "print(\"✅ Successfully replaced `T_co` with `Any` in `data.py`!\")\n"
      ],
      "metadata": {
        "colab": {
          "base_uri": "https://localhost:8080/"
        },
        "id": "MLsJbJDww2cA",
        "outputId": "a16635a3-b90f-4581-c841-b1f775a78c33"
      },
      "execution_count": null,
      "outputs": [
        {
          "output_type": "stream",
          "name": "stdout",
          "text": [
            "✅ Successfully replaced `T_co` with `Any` in `data.py`!\n"
          ]
        }
      ]
    },
    {
      "cell_type": "code",
      "source": [
        "# !pip uninstall -y torch torchvision torchaudio\n",
        "!pip install torch torchvision torchaudio --index-url https://download.pytorch.org/whl/cu118\n"
      ],
      "metadata": {
        "colab": {
          "base_uri": "https://localhost:8080/"
        },
        "id": "BlEcsbLLxNmS",
        "outputId": "049a6fd9-5b69-47f9-93ac-1176fb655673"
      },
      "execution_count": null,
      "outputs": [
        {
          "output_type": "stream",
          "name": "stdout",
          "text": [
            "Looking in indexes: https://download.pytorch.org/whl/cu118\n",
            "Requirement already satisfied: torch in /usr/local/lib/python3.11/dist-packages (2.5.1+cu124)\n",
            "Requirement already satisfied: torchvision in /usr/local/lib/python3.11/dist-packages (0.20.1+cu124)\n",
            "Requirement already satisfied: torchaudio in /usr/local/lib/python3.11/dist-packages (2.5.1+cu124)\n",
            "Requirement already satisfied: filelock in /usr/local/lib/python3.11/dist-packages (from torch) (3.17.0)\n",
            "Requirement already satisfied: typing-extensions>=4.8.0 in /usr/local/lib/python3.11/dist-packages (from torch) (4.12.2)\n",
            "Requirement already satisfied: networkx in /usr/local/lib/python3.11/dist-packages (from torch) (3.4.2)\n",
            "Requirement already satisfied: jinja2 in /usr/local/lib/python3.11/dist-packages (from torch) (3.1.5)\n",
            "Requirement already satisfied: fsspec in /usr/local/lib/python3.11/dist-packages (from torch) (2024.10.0)\n",
            "Requirement already satisfied: nvidia-cuda-nvrtc-cu12==12.4.127 in /usr/local/lib/python3.11/dist-packages (from torch) (12.4.127)\n",
            "Requirement already satisfied: nvidia-cuda-runtime-cu12==12.4.127 in /usr/local/lib/python3.11/dist-packages (from torch) (12.4.127)\n",
            "Requirement already satisfied: nvidia-cuda-cupti-cu12==12.4.127 in /usr/local/lib/python3.11/dist-packages (from torch) (12.4.127)\n",
            "Requirement already satisfied: nvidia-cudnn-cu12==9.1.0.70 in /usr/local/lib/python3.11/dist-packages (from torch) (9.1.0.70)\n",
            "Requirement already satisfied: nvidia-cublas-cu12==12.4.5.8 in /usr/local/lib/python3.11/dist-packages (from torch) (12.4.5.8)\n",
            "Requirement already satisfied: nvidia-cufft-cu12==11.2.1.3 in /usr/local/lib/python3.11/dist-packages (from torch) (11.2.1.3)\n",
            "Requirement already satisfied: nvidia-curand-cu12==10.3.5.147 in /usr/local/lib/python3.11/dist-packages (from torch) (10.3.5.147)\n",
            "Requirement already satisfied: nvidia-cusolver-cu12==11.6.1.9 in /usr/local/lib/python3.11/dist-packages (from torch) (11.6.1.9)\n",
            "Requirement already satisfied: nvidia-cusparse-cu12==12.3.1.170 in /usr/local/lib/python3.11/dist-packages (from torch) (12.3.1.170)\n",
            "Requirement already satisfied: nvidia-nccl-cu12==2.21.5 in /usr/local/lib/python3.11/dist-packages (from torch) (2.21.5)\n",
            "Requirement already satisfied: nvidia-nvtx-cu12==12.4.127 in /usr/local/lib/python3.11/dist-packages (from torch) (12.4.127)\n",
            "Requirement already satisfied: nvidia-nvjitlink-cu12==12.4.127 in /usr/local/lib/python3.11/dist-packages (from torch) (12.4.127)\n",
            "Requirement already satisfied: triton==3.1.0 in /usr/local/lib/python3.11/dist-packages (from torch) (3.1.0)\n",
            "Requirement already satisfied: sympy==1.13.1 in /usr/local/lib/python3.11/dist-packages (from torch) (1.13.1)\n",
            "Requirement already satisfied: mpmath<1.4,>=1.1.0 in /usr/local/lib/python3.11/dist-packages (from sympy==1.13.1->torch) (1.3.0)\n",
            "Requirement already satisfied: numpy in /usr/local/lib/python3.11/dist-packages (from torchvision) (1.26.4)\n",
            "Requirement already satisfied: pillow!=8.3.*,>=5.3.0 in /usr/local/lib/python3.11/dist-packages (from torchvision) (11.1.0)\n",
            "Requirement already satisfied: MarkupSafe>=2.0 in /usr/local/lib/python3.11/dist-packages (from jinja2->torch) (3.0.2)\n"
          ]
        }
      ]
    },
    {
      "cell_type": "code",
      "source": [
        "import torch\n",
        "print(\"CUDA Available:\", torch.cuda.is_available())  # Should print True\n"
      ],
      "metadata": {
        "colab": {
          "base_uri": "https://localhost:8080/"
        },
        "id": "xhkm4qJuxU0U",
        "outputId": "fa15a86a-105f-47fe-e80a-b7929b5f5046"
      },
      "execution_count": null,
      "outputs": [
        {
          "output_type": "stream",
          "name": "stdout",
          "text": [
            "CUDA Available: False\n"
          ]
        }
      ]
    },
    {
      "cell_type": "code",
      "source": [
        "!python /content/bench/train_dense.py \\\n",
        "    --model_dir dense_models/baseline_distilbert_0/ \\\n",
        "    --data_path {DATA_PATH} \\\n",
        "    --encode_after_train \\\n",
        "    --epochs 20 --loss_margin 0.75 --lr 6e-05 --n_train_negatives 5 \\\n",
        "    --run_id baseline_distilbert_0 --device cpu --weight_decay 0.01 \\\n",
        "    --model_or_checkpoint distilbert-base-uncased --embed_size 768 \\\n",
        "    --encode_batch_size 128 --batch_size 5 --loss_fn triplet \\\n",
        "    --loss_distance cosine --encode_norm \\\n",
        "    --negatives_out distilbert_negatives"
      ],
      "metadata": {
        "colab": {
          "base_uri": "https://localhost:8080/"
        },
        "id": "u8K3e5jalXLn",
        "outputId": "986ce3eb-baec-4e7a-ce5c-1ceaf72aeba9"
      },
      "execution_count": null,
      "outputs": [
        {
          "output_type": "stream",
          "name": "stdout",
          "text": [
            "2025-03-02 07:59:38.221283: E external/local_xla/xla/stream_executor/cuda/cuda_fft.cc:477] Unable to register cuFFT factory: Attempting to register factory for plugin cuFFT when one has already been registered\n",
            "WARNING: All log messages before absl::InitializeLog() is called are written to STDERR\n",
            "E0000 00:00:1740902378.512528    8788 cuda_dnn.cc:8310] Unable to register cuDNN factory: Attempting to register factory for plugin cuDNN when one has already been registered\n",
            "E0000 00:00:1740902378.589903    8788 cuda_blas.cc:1418] Unable to register cuBLAS factory: Attempting to register factory for plugin cuBLAS when one has already been registered\n",
            "WARNING: Using incubator modules: jdk.incubator.vector\n",
            "\n",
            "2025-03-02 07:59:51,420 - sentence_transformers.SentenceTransformer - WARNING - No sentence-transformers model found with name distilbert-base-uncased. Creating a new one with mean pooling.\n",
            "\u001b[34m\u001b[1mwandb\u001b[0m: \u001b[33mWARNING\u001b[0m The `run_name` is currently set to the same value as `TrainingArguments.output_dir`. If this was not intended, please specify a different run name by setting the `TrainingArguments.run_name` parameter.\n",
            "\u001b[34m\u001b[1mwandb\u001b[0m: Using wandb-core as the SDK backend.  Please refer to https://wandb.me/wandb-core for more information.\n",
            "\u001b[34m\u001b[1mwandb\u001b[0m: Currently logged in as: \u001b[33mfinalyeargpt4\u001b[0m (\u001b[33mfinalyeargpt4-informatics-institute-of-technology\u001b[0m) to \u001b[32mhttps://api.wandb.ai\u001b[0m. Use \u001b[1m`wandb login --relogin`\u001b[0m to force relogin\n",
            "\u001b[34m\u001b[1mwandb\u001b[0m: Tracking run with wandb version 0.19.7\n",
            "\u001b[34m\u001b[1mwandb\u001b[0m: Run data is saved locally in \u001b[35m\u001b[1m/content/bench/wandb/run-20250302_080007-fnbohmlw\u001b[0m\n",
            "\u001b[34m\u001b[1mwandb\u001b[0m: Run \u001b[1m`wandb offline`\u001b[0m to turn off syncing.\n",
            "\u001b[34m\u001b[1mwandb\u001b[0m: Syncing run \u001b[33mcheckpoints/model_2\u001b[0m\n",
            "\u001b[34m\u001b[1mwandb\u001b[0m: ⭐️ View project at \u001b[34m\u001b[4mhttps://wandb.ai/finalyeargpt4-informatics-institute-of-technology/sentence-transformers\u001b[0m\n",
            "\u001b[34m\u001b[1mwandb\u001b[0m: 🚀 View run at \u001b[34m\u001b[4mhttps://wandb.ai/finalyeargpt4-informatics-institute-of-technology/sentence-transformers/runs/fnbohmlw\u001b[0m\n",
            "  5% 60/1200 [45:08<14:10:38, 44.77s/it]\n",
            "Batches:   0% 0/5 [00:00<?, ?it/s]\u001b[A\n",
            "Batches:  20% 1/5 [00:33<02:15, 33.98s/it]\u001b[A\n",
            "Batches:  40% 2/5 [00:46<01:04, 21.40s/it]\u001b[A\n",
            "Batches:  60% 3/5 [00:55<00:31, 15.91s/it]\u001b[A\n",
            "Batches:  80% 4/5 [01:05<00:13, 13.26s/it]\u001b[A\n",
            "Batches: 100% 5/5 [01:08<00:00, 13.67s/it]\n",
            "Traceback (most recent call last):\n",
            "  File \"/content/bench/train_dense.py\", line 174, in <module>\n",
            "    model.fit(train_objectives=[(train_dataloader, train_loss)],\n",
            "  File \"/usr/local/lib/python3.11/dist-packages/sentence_transformers/fit_mixin.py\", line 385, in fit\n",
            "    trainer.train()\n",
            "  File \"/usr/local/lib/python3.11/dist-packages/transformers/trainer.py\", line 2171, in train\n",
            "    return inner_training_loop(\n",
            "           ^^^^^^^^^^^^^^^^^^^^\n",
            "  File \"/usr/local/lib/python3.11/dist-packages/transformers/trainer.py\", line 2624, in _inner_training_loop\n",
            "    self.control = self.callback_handler.on_epoch_end(args, self.state, self.control)\n",
            "                   ^^^^^^^^^^^^^^^^^^^^^^^^^^^^^^^^^^^^^^^^^^^^^^^^^^^^^^^^^^^^^^^^^^\n",
            "  File \"/usr/local/lib/python3.11/dist-packages/transformers/trainer_callback.py\", line 479, in on_epoch_end\n",
            "    return self.call_event(\"on_epoch_end\", args, state, control)\n",
            "           ^^^^^^^^^^^^^^^^^^^^^^^^^^^^^^^^^^^^^^^^^^^^^^^^^^^^^\n",
            "  File \"/usr/local/lib/python3.11/dist-packages/transformers/trainer_callback.py\", line 519, in call_event\n",
            "    result = getattr(callback, event)(\n",
            "             ^^^^^^^^^^^^^^^^^^^^^^^^^\n",
            "  File \"/usr/local/lib/python3.11/dist-packages/sentence_transformers/fit_mixin.py\", line 122, in on_epoch_end\n",
            "    evaluator_metrics = self.evaluator(\n",
            "                        ^^^^^^^^^^^^^^^\n",
            "  File \"/content/bench/src/data.py\", line 140, in __call__\n",
            "    scores = self.compute_metrices(model, *args, **kwargs)\n",
            "             ^^^^^^^^^^^^^^^^^^^^^^^^^^^^^^^^^^^^^^^^^^^^^\n",
            "  File \"/usr/local/lib/python3.11/dist-packages/sentence_transformers/evaluation/InformationRetrievalEvaluator.py\", line 309, in compute_metrices\n",
            "    for name in self.score_functions:\n",
            "TypeError: 'NoneType' object is not iterable\n",
            "\u001b[1;34mwandb\u001b[0m: \n",
            "\u001b[1;34mwandb\u001b[0m: 🚀 View run \u001b[33mcheckpoints/model_2\u001b[0m at: \u001b[34mhttps://wandb.ai/finalyeargpt4-informatics-institute-of-technology/sentence-transformers/runs/fnbohmlw\u001b[0m\n",
            "\u001b[1;34mwandb\u001b[0m: Find logs at: \u001b[1;35mwandb/run-20250302_080007-fnbohmlw/logs\u001b[0m\n"
          ]
        }
      ]
    },
    {
      "cell_type": "code",
      "source": [
        "21!python train_dense.py \\\n",
        "    --model_dir dense_models/baseline_distilbert/ \\\n",
        "    --data_path {DATA_PATH} \\\n",
        "    --negatives_path distilbert_negatives \\\n",
        "    --epochs 20 --loss_margin 0.75 --lr 6e-05 --n_train_negatives 5 \\\n",
        "    --run_id baseline_distilbert --device cpu --weight_decay 0.01 \\\n",
        "    --model_or_checkpoint distilbert-base-uncased --embed_size 768 \\\n",
        "    --encode_batch_size 128 --batch_size 10 --loss_fn triplet \\\n",
        "    --loss_distance cosine --encode_norm"
      ],
      "metadata": {
        "colab": {
          "base_uri": "https://localhost:8080/"
        },
        "id": "ajII2S3GfOTQ",
        "outputId": "83f2a1fe-f60c-4d69-dd56-6f636c2b4b31"
      },
      "execution_count": null,
      "outputs": [
        {
          "output_type": "stream",
          "name": "stdout",
          "text": [
            "2025-02-28 08:16:29.296867: E external/local_xla/xla/stream_executor/cuda/cuda_fft.cc:477] Unable to register cuFFT factory: Attempting to register factory for plugin cuFFT when one has already been registered\n",
            "WARNING: All log messages before absl::InitializeLog() is called are written to STDERR\n",
            "E0000 00:00:1740730589.341277   11597 cuda_dnn.cc:8310] Unable to register cuDNN factory: Attempting to register factory for plugin cuDNN when one has already been registered\n",
            "E0000 00:00:1740730589.353599   11597 cuda_blas.cc:1418] Unable to register cuBLAS factory: Attempting to register factory for plugin cuBLAS when one has already been registered\n",
            "2025-02-28 08:16:29.392479: I tensorflow/core/platform/cpu_feature_guard.cc:210] This TensorFlow binary is optimized to use available CPU instructions in performance-critical operations.\n",
            "To enable the following instructions: AVX2 FMA, in other operations, rebuild TensorFlow with the appropriate compiler flags.\n",
            "WARNING: Using incubator modules: jdk.incubator.vector\n",
            "\n",
            "2025-02-28 08:16:37,353 - sentence_transformers.SentenceTransformer - WARNING - No sentence-transformers model found with name distilbert-base-uncased. Creating a new one with mean pooling.\n",
            "Traceback (most recent call last):\n",
            "  File \"/content/bench/train_dense.py\", line 99, in <module>\n",
            "    negatives[split] = utils.read_json(os.path.join(args.negatives_path, f\"{neg_name}-negatives.json\"))\n",
            "                       ^^^^^^^^^^^^^^^^^^^^^^^^^^^^^^^^^^^^^^^^^^^^^^^^^^^^^^^^^^^^^^^^^^^^^^^^^^^^^^^^\n",
            "  File \"/content/bench/src/utils.py\", line 30, in read_json\n",
            "    with open(path, \"r\") as reader:\n",
            "         ^^^^^^^^^^^^^^^\n",
            "FileNotFoundError: [Errno 2] No such file or directory: 'distilbert_negatives/dev2-negatives.json'\n"
          ]
        }
      ]
    },
    {
      "cell_type": "code",
      "source": [
        "!python train_dense.py \\\n",
        "    --model_or_checkpoint dense_models/baseline_distilbert/model \\\n",
        "    --model_dir dense_models/baseline_distilbert_out/ \\\n",
        "    --device cuda \\\n",
        "    --loss_fn triplet \\\n",
        "    --loss_distance cosine \\\n",
        "    --encode_norm \\\n",
        "    --run_id baseline_distilbert \\\n",
        "    --no_train \\\n",
        "    --epochs 0 \\\n",
        "    --embed_size 768 \\\n",
        "    --data_path {DATA_PATH} \\\n",
        "    --encode_after_train \\\n",
        "    --encode_batch_size 386"
      ],
      "metadata": {
        "id": "Lr4NkzASfSDe"
      },
      "execution_count": null,
      "outputs": []
    },
    {
      "cell_type": "code",
      "source": [
        "!trec_eval -m ndcg_cut.10,1000 -m recall.1000 -m recip_rank \\\n",
        "    {DATA_PATH}/dev1-2024/qrel.txt \\\n",
        "    ./dense_models/baseline_distilbert/dev1.run"
      ],
      "metadata": {
        "id": "kR2CyFhVfU9u"
      },
      "execution_count": null,
      "outputs": []
    }
  ]
}