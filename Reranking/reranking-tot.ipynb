{
 "cells": [
  {
   "cell_type": "code",
   "execution_count": null,
   "metadata": {
    "execution": {
     "iopub.execute_input": "2025-04-24T13:15:25.279936Z",
     "iopub.status.busy": "2025-04-24T13:15:25.279468Z",
     "iopub.status.idle": "2025-04-24T13:17:15.140259Z",
     "shell.execute_reply": "2025-04-24T13:17:15.138324Z",
     "shell.execute_reply.started": "2025-04-24T13:15:25.279901Z"
    },
    "trusted": true
   },
   "outputs": [],
   "source": [
    "# Install dependencies\n",
    "!pip install -q faiss-cpu sentence-transformers pytrec_eval torch tqdm"
   ]
  },
  {
   "cell_type": "code",
   "execution_count": null,
   "metadata": {
    "execution": {
     "iopub.execute_input": "2025-04-24T13:17:15.145007Z",
     "iopub.status.busy": "2025-04-24T13:17:15.144268Z",
     "iopub.status.idle": "2025-04-24T13:17:15.153110Z",
     "shell.execute_reply": "2025-04-24T13:17:15.151768Z",
     "shell.execute_reply.started": "2025-04-24T13:17:15.144962Z"
    },
    "trusted": true
   },
   "outputs": [],
   "source": [
    "import os\n",
    "os.environ[\"WANDB_DISABLED\"] = \"true\"  #  Disable WandB globally"
   ]
  },
  {
   "cell_type": "code",
   "execution_count": null,
   "metadata": {
    "execution": {
     "iopub.execute_input": "2025-04-24T13:17:15.154745Z",
     "iopub.status.busy": "2025-04-24T13:17:15.154399Z",
     "iopub.status.idle": "2025-04-24T13:17:56.176626Z",
     "shell.execute_reply": "2025-04-24T13:17:56.175680Z",
     "shell.execute_reply.started": "2025-04-24T13:17:15.154721Z"
    },
    "trusted": true
   },
   "outputs": [],
   "source": [
    "import os\n",
    "import logging\n",
    "import json\n",
    "import torch\n",
    "import faiss\n",
    "import numpy as np\n",
    "import pytrec_eval\n",
    "from sentence_transformers import SentenceTransformer, losses\n",
    "from tqdm import tqdm\n",
    "from torch.utils.data import DataLoader, Dataset"
   ]
  },
  {
   "cell_type": "code",
   "execution_count": null,
   "metadata": {
    "execution": {
     "iopub.execute_input": "2025-04-24T13:17:56.180111Z",
     "iopub.status.busy": "2025-04-24T13:17:56.178660Z",
     "iopub.status.idle": "2025-04-24T13:17:56.185090Z",
     "shell.execute_reply": "2025-04-24T13:17:56.183843Z",
     "shell.execute_reply.started": "2025-04-24T13:17:56.180081Z"
    },
    "trusted": true
   },
   "outputs": [],
   "source": [
    "# Enable logging\n",
    "logging.basicConfig(level=logging.INFO, format='[%(asctime)s] %(levelname)s - %(message)s')\n",
    "log = logging.getLogger(__name__)"
   ]
  },
  {
   "cell_type": "code",
   "execution_count": null,
   "metadata": {
    "execution": {
     "iopub.execute_input": "2025-04-24T13:17:56.186648Z",
     "iopub.status.busy": "2025-04-24T13:17:56.186240Z",
     "iopub.status.idle": "2025-04-24T13:17:56.276720Z",
     "shell.execute_reply": "2025-04-24T13:17:56.275235Z",
     "shell.execute_reply.started": "2025-04-24T13:17:56.186614Z"
    },
    "trusted": true
   },
   "outputs": [],
   "source": [
    "# Set paths\n",
    "DATA_PATH = '/kaggle/input/trec2023/TREC2023 Data/TREC-ToT'"
   ]
  },
  {
   "cell_type": "code",
   "execution_count": null,
   "metadata": {
    "execution": {
     "iopub.execute_input": "2025-04-24T13:17:56.279344Z",
     "iopub.status.busy": "2025-04-24T13:17:56.278141Z",
     "iopub.status.idle": "2025-04-24T13:17:56.298392Z",
     "shell.execute_reply": "2025-04-24T13:17:56.297296Z",
     "shell.execute_reply.started": "2025-04-24T13:17:56.279314Z"
    },
    "trusted": true
   },
   "outputs": [],
   "source": [
    "DEV_QREL_PATH =('/kaggle/input/trec2023/TREC2023 Data/TREC-ToT/TREC-TOT/dev/qrel.txt')"
   ]
  },
  {
   "cell_type": "code",
   "execution_count": null,
   "metadata": {
    "execution": {
     "iopub.execute_input": "2025-04-24T13:17:56.299965Z",
     "iopub.status.busy": "2025-04-24T13:17:56.299652Z",
     "iopub.status.idle": "2025-04-24T13:17:56.320111Z",
     "shell.execute_reply": "2025-04-24T13:17:56.319060Z",
     "shell.execute_reply.started": "2025-04-24T13:17:56.299940Z"
    },
    "trusted": true
   },
   "outputs": [],
   "source": [
    "def load_qrels(qrel_file):\n",
    "    \"\"\"Load qrels (relevance judgments).\"\"\"\n",
    "    qrels = {}\n",
    "    with open(qrel_file, 'r', encoding='utf-8') as f:\n",
    "        for line in f:\n",
    "            qid, _, docid, rel = line.strip().split()\n",
    "            if qid not in qrels:\n",
    "                qrels[qid] = {}\n",
    "            qrels[qid][docid] = int(rel)\n",
    "    return qrels"
   ]
  },
  {
   "cell_type": "code",
   "execution_count": null,
   "metadata": {
    "execution": {
     "iopub.execute_input": "2025-04-24T13:17:56.321597Z",
     "iopub.status.busy": "2025-04-24T13:17:56.321240Z",
     "iopub.status.idle": "2025-04-24T13:17:56.342500Z",
     "shell.execute_reply": "2025-04-24T13:17:56.341335Z",
     "shell.execute_reply.started": "2025-04-24T13:17:56.321555Z"
    },
    "trusted": true
   },
   "outputs": [],
   "source": [
    "# Evaluation function\n",
    "def evaluate(retrieved, qrels):\n",
    "    common_qids = set(retrieved.keys()) & set(qrels.keys())\n",
    "    if not common_qids:\n",
    "        log.warning(\"No overlapping queries between results and qrels\")\n",
    "        return {}\n",
    "\n",
    "    evaluator = pytrec_eval.RelevanceEvaluator(\n",
    "    {qid: qrels[qid] for qid in common_qids},\n",
    "    {'ndcg_cut_10',    # same as plain 'ndcg'\n",
    "      'ndcg_cut_100',\n",
    "      'ndcg_cut_1000',\n",
    "      'recip_rank',\n",
    "      'recall_3', 'recall_100', 'recall_1000',\n",
    "      'success_3', 'success_100', 'success_1000'}\n",
    "    )\n",
    "    \n",
    "    results = evaluator.evaluate({qid: retrieved[qid] for qid in common_qids})\n",
    "    \n",
    "    return {metric: np.mean([v[metric] for v in results.values()]) \n",
    "           for metric in results[next(iter(results))].keys()}\n",
    "\n"
   ]
  },
  {
   "cell_type": "code",
   "execution_count": null,
   "metadata": {
    "execution": {
     "iopub.execute_input": "2025-04-24T06:14:28.816956Z",
     "iopub.status.busy": "2025-04-24T06:14:28.816613Z",
     "iopub.status.idle": "2025-04-24T06:14:29.159884Z",
     "shell.execute_reply": "2025-04-24T06:14:29.158954Z",
     "shell.execute_reply.started": "2025-04-24T06:14:28.816931Z"
    },
    "trusted": true
   },
   "outputs": [],
   "source": [
    "import json\n",
    "\n",
    "# load your reranker output\n",
    "with open(\"/kaggle/input/ce-reranked-results/CE-MiniLM-L6-v2.json\") as f:\n",
    "    reranked = json.load(f)\n",
    "\n",
    "# load your qrels into the same dict[qid]→{docid: relevance}\n",
    "qrels = load_qrels(DEV_QREL_PATH)\n",
    "\n",
    "# run exactly the same evaluate call\n",
    "scores = evaluate(reranked, qrels)\n",
    "print('Roberta Reranked Scores')\n",
    "# print(scores)\n",
    "for metric, value in scores.items():\n",
    "    print(f\"{metric}: {value:.6f}\")\n"
   ]
  },
  {
   "cell_type": "code",
   "execution_count": null,
   "metadata": {
    "execution": {
     "iopub.execute_input": "2025-04-24T06:15:29.360984Z",
     "iopub.status.busy": "2025-04-24T06:15:29.360188Z",
     "iopub.status.idle": "2025-04-24T06:15:29.584541Z",
     "shell.execute_reply": "2025-04-24T06:15:29.583587Z",
     "shell.execute_reply.started": "2025-04-24T06:15:29.360961Z"
    },
    "trusted": true
   },
   "outputs": [],
   "source": [
    "import json\n",
    "\n",
    "# load your reranker output\n",
    "with open(\"/kaggle/input/ce-reranked-results/CE-MiniLM-L6-v2.json\") as f:\n",
    "    reranked = json.load(f)\n",
    "\n",
    "# load your qrels into the same dict[qid]→{docid: relevance}\n",
    "qrels = load_qrels(DEV_QREL_PATH)\n",
    "\n",
    "# run exactly the same evaluate call\n",
    "scores = evaluate(reranked, qrels)\n",
    "print('CE-MiniLM Reranked Scores')\n",
    "# print(scores)\n",
    "for metric, value in scores.items():\n",
    "    print(f\"{metric}: {value:.6f}\")\n"
   ]
  },
  {
   "cell_type": "code",
   "execution_count": null,
   "metadata": {
    "execution": {
     "iopub.execute_input": "2025-04-24T06:38:06.414316Z",
     "iopub.status.busy": "2025-04-24T06:38:06.413193Z",
     "iopub.status.idle": "2025-04-24T06:38:06.507821Z",
     "shell.execute_reply": "2025-04-24T06:38:06.507062Z",
     "shell.execute_reply.started": "2025-04-24T06:38:06.414281Z"
    },
    "trusted": true
   },
   "outputs": [],
   "source": [
    "import json\n",
    "\n",
    "# load your reranker output\n",
    "with open(\"/kaggle/input/ce-minilm-20epoch/CE-MiniLM-L6-v2_20Epoch.json\") as f:\n",
    "    reranked = json.load(f)\n",
    "\n",
    "# load your qrels into the same dict[qid]→{docid: relevance}\n",
    "qrels = load_qrels(DEV_QREL_PATH)\n",
    "\n",
    "# run exactly the same evaluate call\n",
    "scores = evaluate(reranked, qrels)\n",
    "print('Roberta Reranked Scores')\n",
    "# print(scores)\n",
    "for metric, value in scores.items():\n",
    "    print(f\"{metric}: {value:.6f}\")\n"
   ]
  },
  {
   "cell_type": "code",
   "execution_count": null,
   "metadata": {
    "execution": {
     "iopub.execute_input": "2025-04-24T06:42:10.831820Z",
     "iopub.status.busy": "2025-04-24T06:42:10.831462Z",
     "iopub.status.idle": "2025-04-24T06:42:10.868522Z",
     "shell.execute_reply": "2025-04-24T06:42:10.867738Z",
     "shell.execute_reply.started": "2025-04-24T06:42:10.831788Z"
    },
    "trusted": true
   },
   "outputs": [],
   "source": [
    "import json\n",
    "\n",
    "# load your reranker output\n",
    "with open(\"/kaggle/input/monot5epoch20/monot5_resultsEpoch20.json\") as f:\n",
    "    reranked = json.load(f)\n",
    "\n",
    "# load your qrels into the same dict[qid]→{docid: relevance}\n",
    "qrels = load_qrels(DEV_QREL_PATH)\n",
    "\n",
    "# run exactly the same evaluate call\n",
    "scores = evaluate(reranked, qrels)\n",
    "print('Roberta Reranked Scores')\n",
    "# print(scores)\n",
    "for metric, value in scores.items():\n",
    "    print(f\"{metric}: {value:.6f}\")\n"
   ]
  },
  {
   "cell_type": "code",
   "execution_count": null,
   "metadata": {
    "execution": {
     "iopub.execute_input": "2025-04-24T06:53:18.828498Z",
     "iopub.status.busy": "2025-04-24T06:53:18.828052Z",
     "iopub.status.idle": "2025-04-24T06:53:19.086368Z",
     "shell.execute_reply": "2025-04-24T06:53:19.085437Z",
     "shell.execute_reply.started": "2025-04-24T06:53:18.828469Z"
    },
    "trusted": true
   },
   "outputs": [],
   "source": [
    "import json\n",
    "\n",
    "# load your reranker output\n",
    "with open(\"/kaggle/input/rrfepoch20/rrf_resultsepoch20.json\") as f:\n",
    "    reranked = json.load(f)\n",
    "\n",
    "# load your qrels into the same dict[qid]→{docid: relevance}\n",
    "qrels = load_qrels(DEV_QREL_PATH)\n",
    "\n",
    "# run exactly the same evaluate call\n",
    "scores = evaluate(reranked, qrels)\n",
    "print('Roberta Reranked Scores')\n",
    "# print(scores)\n",
    "for metric, value in scores.items():\n",
    "    print(f\"{metric}: {value:.6f}\")\n"
   ]
  },
  {
   "cell_type": "code",
   "execution_count": null,
   "metadata": {
    "execution": {
     "iopub.execute_input": "2025-04-24T13:19:18.492339Z",
     "iopub.status.busy": "2025-04-24T13:19:18.491423Z",
     "iopub.status.idle": "2025-04-24T13:19:18.525445Z",
     "shell.execute_reply": "2025-04-24T13:19:18.524295Z",
     "shell.execute_reply.started": "2025-04-24T13:19:18.492310Z"
    },
    "trusted": true
   },
   "outputs": [],
   "source": [
    "import json\n",
    "\n",
    "# load your reranker output\n",
    "with open(\"/kaggle/input/5030e/CE-MiniLM-L6-v2_30E.json\") as f:\n",
    "    reranked = json.load(f)\n",
    "\n",
    "# load your qrels into the same dict[qid]→{docid: relevance}\n",
    "qrels = load_qrels(DEV_QREL_PATH)\n",
    "\n",
    "# run exactly the same evaluate call\n",
    "scores = evaluate(reranked, qrels)\n",
    "print('Reranked Scores')\n",
    "# print(scores)\n",
    "for metric, value in scores.items():\n",
    "    print(f\"{metric}: {value:.6f}\")\n"
   ]
  },
  {
   "cell_type": "code",
   "execution_count": null,
   "metadata": {
    "execution": {
     "iopub.execute_input": "2025-04-24T13:19:15.794790Z",
     "iopub.status.busy": "2025-04-24T13:19:15.794393Z",
     "iopub.status.idle": "2025-04-24T13:19:15.825412Z",
     "shell.execute_reply": "2025-04-24T13:19:15.824499Z",
     "shell.execute_reply.started": "2025-04-24T13:19:15.794764Z"
    },
    "trusted": true
   },
   "outputs": [],
   "source": [
    "import json\n",
    "\n",
    "# load your reranker output\n",
    "with open(\"/kaggle/input/5030e/monot5_results_30E.json\") as f:\n",
    "    reranked = json.load(f)\n",
    "\n",
    "# load your qrels into the same dict[qid]→{docid: relevance}\n",
    "qrels = load_qrels(DEV_QREL_PATH)\n",
    "\n",
    "# run exactly the same evaluate call\n",
    "scores = evaluate(reranked, qrels)\n",
    "print('Reranked Scores')\n",
    "# print(scores)\n",
    "for metric, value in scores.items():\n",
    "    print(f\"{metric}: {value:.6f}\")\n"
   ]
  },
  {
   "cell_type": "code",
   "execution_count": null,
   "metadata": {
    "execution": {
     "iopub.execute_input": "2025-04-24T13:19:12.894694Z",
     "iopub.status.busy": "2025-04-24T13:19:12.893834Z",
     "iopub.status.idle": "2025-04-24T13:19:13.108174Z",
     "shell.execute_reply": "2025-04-24T13:19:13.107067Z",
     "shell.execute_reply.started": "2025-04-24T13:19:12.894664Z"
    },
    "trusted": true
   },
   "outputs": [],
   "source": [
    "import json\n",
    "\n",
    "# load your reranker output\n",
    "with open(\"/kaggle/input/5030e/rrf_results_30E.json\") as f:\n",
    "    reranked = json.load(f)\n",
    "\n",
    "# load your qrels into the same dict[qid]→{docid: relevance}\n",
    "qrels = load_qrels(DEV_QREL_PATH)\n",
    "\n",
    "# run exactly the same evaluate call\n",
    "scores = evaluate(reranked, qrels)\n",
    "print('Reranked Scores')\n",
    "# print(scores)\n",
    "for metric, value in scores.items():\n",
    "    print(f\"{metric}: {value:.6f}\")\n"
   ]
  },
  {
   "cell_type": "code",
   "execution_count": null,
   "metadata": {
    "execution": {
     "iopub.execute_input": "2025-04-24T13:19:10.094370Z",
     "iopub.status.busy": "2025-04-24T13:19:10.094051Z",
     "iopub.status.idle": "2025-04-24T13:19:10.131447Z",
     "shell.execute_reply": "2025-04-24T13:19:10.130310Z",
     "shell.execute_reply.started": "2025-04-24T13:19:10.094347Z"
    },
    "trusted": true
   },
   "outputs": [],
   "source": [
    "import json\n",
    "\n",
    "# load your reranker output\n",
    "with open(\"/kaggle/input/5030e/CE-MiniLM-L6-v2_50E.json\") as f:\n",
    "    reranked = json.load(f)\n",
    "\n",
    "# load your qrels into the same dict[qid]→{docid: relevance}\n",
    "qrels = load_qrels(DEV_QREL_PATH)\n",
    "\n",
    "# run exactly the same evaluate call\n",
    "scores = evaluate(reranked, qrels)\n",
    "print('Reranked Scores')\n",
    "# print(scores)\n",
    "for metric, value in scores.items():\n",
    "    print(f\"{metric}: {value:.6f}\")\n"
   ]
  },
  {
   "cell_type": "code",
   "execution_count": null,
   "metadata": {
    "execution": {
     "iopub.execute_input": "2025-04-24T13:19:07.707711Z",
     "iopub.status.busy": "2025-04-24T13:19:07.707336Z",
     "iopub.status.idle": "2025-04-24T13:19:07.759945Z",
     "shell.execute_reply": "2025-04-24T13:19:07.758973Z",
     "shell.execute_reply.started": "2025-04-24T13:19:07.707686Z"
    },
    "trusted": true
   },
   "outputs": [],
   "source": [
    "import json\n",
    "\n",
    "# load your reranker output\n",
    "with open(\"/kaggle/input/5030e/monot5_results_50E.json\") as f:\n",
    "    reranked = json.load(f)\n",
    "\n",
    "# load your qrels into the same dict[qid]→{docid: relevance}\n",
    "qrels = load_qrels(DEV_QREL_PATH)\n",
    "\n",
    "# run exactly the same evaluate call\n",
    "scores = evaluate(reranked, qrels)\n",
    "print('Reranked Scores')\n",
    "# print(scores)\n",
    "for metric, value in scores.items():\n",
    "    print(f\"{metric}: {value:.6f}\")\n"
   ]
  },
  {
   "cell_type": "code",
   "execution_count": null,
   "metadata": {
    "execution": {
     "iopub.execute_input": "2025-04-24T13:19:02.730866Z",
     "iopub.status.busy": "2025-04-24T13:19:02.730380Z",
     "iopub.status.idle": "2025-04-24T13:19:03.027080Z",
     "shell.execute_reply": "2025-04-24T13:19:03.026095Z",
     "shell.execute_reply.started": "2025-04-24T13:19:02.730838Z"
    },
    "trusted": true
   },
   "outputs": [],
   "source": [
    "import json\n",
    "\n",
    "# load your reranker output\n",
    "with open(\"/kaggle/input/5030e/rrf_results_50E.json\") as f:\n",
    "    reranked = json.load(f)\n",
    "\n",
    "# load your qrels into the same dict[qid]→{docid: relevance}\n",
    "qrels = load_qrels(DEV_QREL_PATH)\n",
    "\n",
    "# run exactly the same evaluate call\n",
    "scores = evaluate(reranked, qrels)\n",
    "print('Reranked Scores')\n",
    "# print(scores)\n",
    "for metric, value in scores.items():\n",
    "    print(f\"{metric}: {value:.6f}\")\n"
   ]
  },
  {
   "cell_type": "code",
   "execution_count": null,
   "metadata": {
    "trusted": true
   },
   "outputs": [],
   "source": []
  }
 ],
 "metadata": {
  "kaggle": {
   "accelerator": "none",
   "dataSources": [
    {
     "datasetId": 6846729,
     "sourceId": 10998655,
     "sourceType": "datasetVersion"
    },
    {
     "datasetId": 7237087,
     "sourceId": 11540126,
     "sourceType": "datasetVersion"
    },
    {
     "datasetId": 7237332,
     "sourceId": 11540517,
     "sourceType": "datasetVersion"
    },
    {
     "datasetId": 7237368,
     "sourceId": 11540582,
     "sourceType": "datasetVersion"
    },
    {
     "datasetId": 7237486,
     "sourceId": 11540766,
     "sourceType": "datasetVersion"
    },
    {
     "datasetId": 7240923,
     "sourceId": 11546451,
     "sourceType": "datasetVersion"
    }
   ],
   "dockerImageVersionId": 31012,
   "isGpuEnabled": false,
   "isInternetEnabled": true,
   "language": "python",
   "sourceType": "notebook"
  },
  "kernelspec": {
   "display_name": "Python 3",
   "language": "python",
   "name": "python3"
  },
  "language_info": {
   "codemirror_mode": {
    "name": "ipython",
    "version": 3
   },
   "file_extension": ".py",
   "mimetype": "text/x-python",
   "name": "python",
   "nbconvert_exporter": "python",
   "pygments_lexer": "ipython3",
   "version": "3.11.11"
  }
 },
 "nbformat": 4,
 "nbformat_minor": 4
}
