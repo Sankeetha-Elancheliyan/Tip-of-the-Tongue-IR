{
 "cells": [
  {
   "cell_type": "code",
   "execution_count": null,
   "metadata": {
    "execution": {
     "iopub.execute_input": "2025-03-17T05:43:17.676943Z",
     "iopub.status.busy": "2025-03-17T05:43:17.676459Z",
     "iopub.status.idle": "2025-03-17T05:43:23.124351Z",
     "shell.execute_reply": "2025-03-17T05:43:23.123229Z",
     "shell.execute_reply.started": "2025-03-17T05:43:17.676910Z"
    },
    "trusted": true
   },
   "outputs": [],
   "source": [
    "import pandas as pd\n",
    "import json\n",
    "import matplotlib.pyplot as plt\n",
    "import seaborn as sns\n",
    "from wordcloud import WordCloud\n",
    "from collections import Counter\n",
    "import nltk\n",
    "from nltk.corpus import stopwords\n",
    "import re"
   ]
  },
  {
   "cell_type": "code",
   "execution_count": null,
   "metadata": {
    "trusted": true
   },
   "outputs": [],
   "source": [
    "import json\n",
    "\n",
    "# Update the correct file path after checking the folder structure\n",
    "jsonl_file_path = \"/kaggle/input/trec2023/TREC2023 Data/TREC-ToT/TREC-TOT/corpus.jsonl\"  \n",
    "\n",
    "# Read and print a single line from JSONL file\n",
    "with open(jsonl_file_path, 'r', encoding='utf-8') as f:\n",
    "    first_line = json.loads(f.readline())\n",
    "\n",
    "# Display the structure of the first document\n",
    "print(first_line)\n"
   ]
  },
  {
   "cell_type": "markdown",
   "metadata": {},
   "source": [
    "# **DATA PRE-PROCESSING**"
   ]
  },
  {
   "cell_type": "code",
   "execution_count": null,
   "metadata": {
    "execution": {
     "iopub.execute_input": "2025-03-17T05:43:23.126671Z",
     "iopub.status.busy": "2025-03-17T05:43:23.126029Z",
     "iopub.status.idle": "2025-03-17T05:43:23.130876Z",
     "shell.execute_reply": "2025-03-17T05:43:23.129713Z",
     "shell.execute_reply.started": "2025-03-17T05:43:23.126622Z"
    },
    "trusted": true
   },
   "outputs": [],
   "source": [
    "# Define the output path for the preprocessed corpus\n",
    "OUTPUT_PATH = \"/kaggle/working/preprocessed_corpus.jsonl\"  "
   ]
  },
  {
   "cell_type": "code",
   "execution_count": null,
   "metadata": {
    "execution": {
     "iopub.execute_input": "2025-03-17T05:43:23.133433Z",
     "iopub.status.busy": "2025-03-17T05:43:23.132990Z",
     "iopub.status.idle": "2025-03-17T05:43:23.151433Z",
     "shell.execute_reply": "2025-03-17T05:43:23.150571Z",
     "shell.execute_reply.started": "2025-03-17T05:43:23.133394Z"
    },
    "trusted": true
   },
   "outputs": [],
   "source": [
    "def clean_wikipedia_markup(text):\n",
    "    \"\"\"Remove Wikipedia markup, templates, references, and normalize text.\"\"\"\n",
    "    text = re.sub(r'\\{\\{.*?\\}\\}', '', text)  # Remove {{templates}}\n",
    "    text = re.sub(r'\\[\\[([^\\|\\]]+\\|)?([^\\]]+)\\]\\]', r'\\2', text)  # Convert [[link|text]] to \"text\"\n",
    "    text = re.sub(r'<ref.*?>.*?</ref>', '', text)  # Remove <ref> tags\n",
    "    text = re.sub(r'\\s+', ' ', text).strip()  # Remove excessive whitespace\n",
    "    return text.lower()  # Convert text to lowercase"
   ]
  },
  {
   "cell_type": "code",
   "execution_count": null,
   "metadata": {
    "execution": {
     "iopub.execute_input": "2025-03-17T05:43:23.152871Z",
     "iopub.status.busy": "2025-03-17T05:43:23.152521Z",
     "iopub.status.idle": "2025-03-17T05:43:23.172372Z",
     "shell.execute_reply": "2025-03-17T05:43:23.171302Z",
     "shell.execute_reply.started": "2025-03-17T05:43:23.152844Z"
    },
    "trusted": true
   },
   "outputs": [],
   "source": [
    "def preprocess_corpus(file_path, output_path):\n",
    "    \"\"\"Load, clean, and save corpus.jsonl while retaining doc_id, text, and page_title.\"\"\"\n",
    "    processed_corpus = []\n",
    "\n",
    "    with open(file_path, 'r', encoding='utf-8') as f, open(output_path, 'w', encoding='utf-8') as out_f:\n",
    "        for line in f:\n",
    "            doc = json.loads(line)\n",
    "            clean_text = clean_wikipedia_markup(doc.get(\"text\", \"\"))\n",
    "            page_title = doc.get(\"page_title\", \"\").lower().strip()  # Convert title to lowercase\n",
    "\n",
    "            if clean_text:  # Ensure we don't keep empty documents\n",
    "                cleaned_doc = {\n",
    "                    \"doc_id\": doc[\"doc_id\"],\n",
    "                    \"page_title\": page_title,  # Include lowercase page title\n",
    "                    \"text\": clean_text  # Store cleaned and lowercase text\n",
    "                }\n",
    "                processed_corpus.append(cleaned_doc)\n",
    "                out_f.write(json.dumps(cleaned_doc) + \"\\n\")  # Save line-by-line\n",
    "\n",
    "    return processed_corpus"
   ]
  },
  {
   "cell_type": "code",
   "execution_count": null,
   "metadata": {
    "execution": {
     "iopub.execute_input": "2025-03-17T05:43:23.174029Z",
     "iopub.status.busy": "2025-03-17T05:43:23.173559Z",
     "iopub.status.idle": "2025-03-17T05:45:07.263813Z",
     "shell.execute_reply": "2025-03-17T05:45:07.262614Z",
     "shell.execute_reply.started": "2025-03-17T05:43:23.173986Z"
    },
    "trusted": true
   },
   "outputs": [],
   "source": [
    "# Run Preprocessing\n",
    "CORPUS_PATH = \"/kaggle/input/trec2023/TREC2023 Data/TREC-ToT/TREC-TOT/corpus.jsonl\"  # Adjust file path as needed\n",
    "preprocessed_corpus = preprocess_corpus(CORPUS_PATH, OUTPUT_PATH)\n",
    "\n",
    "# Display confirmation message\n",
    "OUTPUT_PATH"
   ]
  },
  {
   "cell_type": "code",
   "execution_count": null,
   "metadata": {
    "trusted": true
   },
   "outputs": [],
   "source": [
    "with open(OUTPUT_PATH, 'r') as f:\n",
    "    for _ in range(5):\n",
    "        print(json.loads(f.readline()))\n"
   ]
  },
  {
   "cell_type": "code",
   "execution_count": null,
   "metadata": {
    "trusted": true
   },
   "outputs": [],
   "source": [
    "import pandas as pd\n",
    "import json\n",
    "\n",
    "csv_file_path = \"/kaggle/working/preprocessed_corpus.csv\"  # New path to save CSV\n",
    "\n",
    "# Read and convert JSONL to DataFrame\n",
    "data = []\n",
    "with open(OUTPUT_PATH, 'r', encoding='utf-8') as f:\n",
    "    for line in f:\n",
    "        data.append(json.loads(line))\n",
    "\n",
    "df = pd.DataFrame(data)\n",
    "df.to_csv(csv_file_path, index=False)  # Save CSV\n",
    "\n",
    "# Display first few rows\n",
    "print(df.head())\n",
    "\n",
    "print(f\"CSV file successfully saved at: {csv_file_path}\")\n"
   ]
  },
  {
   "cell_type": "markdown",
   "metadata": {},
   "source": [
    "# **EDA** "
   ]
  },
  {
   "cell_type": "code",
   "execution_count": null,
   "metadata": {
    "execution": {
     "iopub.execute_input": "2025-03-17T05:45:07.265802Z",
     "iopub.status.busy": "2025-03-17T05:45:07.265351Z",
     "iopub.status.idle": "2025-03-17T05:45:07.578586Z",
     "shell.execute_reply": "2025-03-17T05:45:07.577411Z",
     "shell.execute_reply.started": "2025-03-17T05:45:07.265759Z"
    },
    "trusted": true
   },
   "outputs": [],
   "source": [
    "\n",
    "# Download stopwords if not already available\n",
    "nltk.download('stopwords')\n",
    "stop_words = set(stopwords.words('english'))\n"
   ]
  },
  {
   "cell_type": "code",
   "execution_count": null,
   "metadata": {
    "execution": {
     "iopub.execute_input": "2025-03-17T05:45:46.576339Z",
     "iopub.status.busy": "2025-03-17T05:45:46.575896Z",
     "iopub.status.idle": "2025-03-17T05:45:46.580461Z",
     "shell.execute_reply": "2025-03-17T05:45:46.579408Z",
     "shell.execute_reply.started": "2025-03-17T05:45:46.576309Z"
    },
    "trusted": true
   },
   "outputs": [],
   "source": [
    "# Load preprocessed corpus\n",
    "preprocessed_corpus_path = \"/kaggle/working/preprocessed_corpus.jsonl\""
   ]
  },
  {
   "cell_type": "code",
   "execution_count": null,
   "metadata": {
    "execution": {
     "iopub.execute_input": "2025-03-17T05:45:50.593214Z",
     "iopub.status.busy": "2025-03-17T05:45:50.592757Z",
     "iopub.status.idle": "2025-03-17T05:45:55.620485Z",
     "shell.execute_reply": "2025-03-17T05:45:55.619406Z",
     "shell.execute_reply.started": "2025-03-17T05:45:50.593177Z"
    },
    "trusted": true
   },
   "outputs": [],
   "source": [
    "# Read JSONL into DataFrame\n",
    "data = []\n",
    "with open(preprocessed_corpus_path, 'r', encoding='utf-8') as f:\n",
    "    for line in f:\n",
    "        data.append(json.loads(line))\n",
    "\n",
    "df = pd.DataFrame(data)"
   ]
  },
  {
   "cell_type": "code",
   "execution_count": null,
   "metadata": {
    "execution": {
     "iopub.execute_input": "2025-03-17T06:01:01.158419Z",
     "iopub.status.busy": "2025-03-17T06:01:01.157862Z",
     "iopub.status.idle": "2025-03-17T06:01:23.051989Z",
     "shell.execute_reply": "2025-03-17T06:01:23.051075Z",
     "shell.execute_reply.started": "2025-03-17T06:01:01.158383Z"
    },
    "trusted": true
   },
   "outputs": [],
   "source": [
    "# Basic dataset overview\n",
    "dataset_info = {\n",
    "    \"Total Documents\": len(df),\n",
    "    \"Missing Titles\": df['page_title'].isna().sum(),\n",
    "    \"Missing Texts\": df['text'].isna().sum(),\n",
    "    \"Average Text Length\": df['text'].apply(lambda x: len(x.split())).mean(),\n",
    "    \"Max Text Length\": df['text'].apply(lambda x: len(x.split())).max(),\n",
    "    \"Min Text Length\": df['text'].apply(lambda x: len(x.split())).min()\n",
    "}"
   ]
  },
  {
   "cell_type": "code",
   "execution_count": null,
   "metadata": {
    "execution": {
     "iopub.execute_input": "2025-03-17T06:01:26.257794Z",
     "iopub.status.busy": "2025-03-17T06:01:26.257380Z",
     "iopub.status.idle": "2025-03-17T06:01:26.263136Z",
     "shell.execute_reply": "2025-03-17T06:01:26.262154Z",
     "shell.execute_reply.started": "2025-03-17T06:01:26.257760Z"
    },
    "trusted": true
   },
   "outputs": [],
   "source": [
    "print(dataset_info)"
   ]
  },
  {
   "cell_type": "code",
   "execution_count": null,
   "metadata": {
    "execution": {
     "iopub.execute_input": "2025-03-17T06:02:01.767720Z",
     "iopub.status.busy": "2025-03-17T06:02:01.767336Z",
     "iopub.status.idle": "2025-03-17T06:03:04.109006Z",
     "shell.execute_reply": "2025-03-17T06:03:04.107852Z",
     "shell.execute_reply.started": "2025-03-17T06:02:01.767692Z"
    },
    "trusted": true
   },
   "outputs": [],
   "source": [
    "# Add text length column\n",
    "df[\"text_length\"] = df[\"text\"].apply(lambda x: len(x.split()))\n",
    "\n",
    "# Extract most frequent words (excluding stopwords)\n",
    "all_words = \" \".join(df[\"text\"]).split()\n",
    "filtered_words = [word for word in all_words if word.lower() not in stop_words]\n",
    "word_counts = Counter(filtered_words)\n",
    "most_common_words = word_counts.most_common(20)  # Top 20 words\n"
   ]
  },
  {
   "cell_type": "code",
   "execution_count": null,
   "metadata": {
    "execution": {
     "iopub.execute_input": "2025-03-17T06:03:30.198020Z",
     "iopub.status.busy": "2025-03-17T06:03:30.197494Z",
     "iopub.status.idle": "2025-03-17T06:03:39.177462Z",
     "shell.execute_reply": "2025-03-17T06:03:39.176011Z",
     "shell.execute_reply.started": "2025-03-17T06:03:30.197982Z"
    },
    "trusted": true
   },
   "outputs": [],
   "source": [
    "print(word_counts)"
   ]
  },
  {
   "cell_type": "code",
   "execution_count": null,
   "metadata": {
    "execution": {
     "iopub.execute_input": "2025-03-17T06:05:33.415580Z",
     "iopub.status.busy": "2025-03-17T06:05:33.415144Z",
     "iopub.status.idle": "2025-03-17T06:05:33.421489Z",
     "shell.execute_reply": "2025-03-17T06:05:33.420355Z",
     "shell.execute_reply.started": "2025-03-17T06:05:33.415552Z"
    },
    "trusted": true
   },
   "outputs": [],
   "source": [
    "print(most_common_words)"
   ]
  }
 ],
 "metadata": {
  "kaggle": {
   "accelerator": "none",
   "dataSources": [
    {
     "datasetId": 6846729,
     "sourceId": 10998655,
     "sourceType": "datasetVersion"
    }
   ],
   "dockerImageVersionId": 30918,
   "isGpuEnabled": false,
   "isInternetEnabled": true,
   "language": "python",
   "sourceType": "notebook"
  },
  "kernelspec": {
   "display_name": "Python 3",
   "language": "python",
   "name": "python3"
  },
  "language_info": {
   "codemirror_mode": {
    "name": "ipython",
    "version": 3
   },
   "file_extension": ".py",
   "mimetype": "text/x-python",
   "name": "python",
   "nbconvert_exporter": "python",
   "pygments_lexer": "ipython3",
   "version": "3.10.12"
  }
 },
 "nbformat": 4,
 "nbformat_minor": 4
}
